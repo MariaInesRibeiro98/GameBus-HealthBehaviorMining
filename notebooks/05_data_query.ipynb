{
 "cells": [
  {
   "cell_type": "markdown",
   "metadata": {},
   "source": [
    "# Event Segmentation: Physical Activity Level Transitions\n",
    "\n",
    "This notebook demonstrates how to query event data from the OCED-mHealth format"
   ]
  },
  {
   "cell_type": "markdown",
   "metadata": {},
   "source": [
    "## Setup\n",
    "\n",
    "First, let's set up our environment and import the necessary modules."
   ]
  },
  {
   "cell_type": "code",
   "execution_count": 1,
   "metadata": {},
   "outputs": [],
   "source": [
    "import datetime\n",
    "import sys\n",
    "# Add the project root directory to the Python path\n",
    "sys.path.append('..')\n",
    "from concurrent.futures import ThreadPoolExecutor\n",
    "from src.oced.oced_data_query import OCEDDataQuery\n",
    "from src.oced.time_objects import TimeObject"
   ]
  },
  {
   "cell_type": "markdown",
   "metadata": {},
   "source": [
    "## Query OCED-mHealth Data to Retrieve Sensor Events "
   ]
  },
  {
   "cell_type": "markdown",
   "metadata": {},
   "source": [
    "#### 1. Get OCED-mHealth Data from JSON File"
   ]
  },
  {
   "cell_type": "code",
   "execution_count": 2,
   "metadata": {},
   "outputs": [],
   "source": [
    "dataQuery = OCEDDataQuery()  \n",
    "oced_data_file = f\"oced_data_time.json\"\n",
    "data_dict = dataQuery.load_json(oced_data_file)"
   ]
  },
  {
   "cell_type": "markdown",
   "metadata": {},
   "source": [
    "#### 2. Get sensor events data by type, filtering time"
   ]
  },
  {
   "cell_type": "code",
   "execution_count": 3,
   "metadata": {},
   "outputs": [],
   "source": [
    "start_date = datetime.datetime(2025, 5, 11)\n",
    "end_date = datetime.datetime(2025, 5, 12)"
   ]
  },
  {
   "cell_type": "markdown",
   "metadata": {},
   "source": [
    "Load accelerometer sensor events"
   ]
  },
  {
   "cell_type": "code",
   "execution_count": 4,
   "metadata": {},
   "outputs": [
    {
     "name": "stdout",
     "output_type": "stream",
     "text": [
      "Date filtering parameters:\n",
      "  Start date: 2025-05-11 00:00:00\n",
      "  End date: 2025-05-12 00:00:00\n",
      "Total number of sensor events found: 3969413\n",
      "Available sensor event types: {'activity_type', 'heartrate', 'accelerometer', 'location'}\n",
      "Number of accelerometer events found: 2902004\n",
      "Date range of data before filtering:\n",
      "  Earliest timestamp: 2025-05-09 08:51:06.728000\n",
      "  Latest timestamp: 2025-05-14 22:52:11.561000\n",
      "After start date filtering: 1953612 events remaining\n",
      "After end date filtering: 621534 events remaining\n"
     ]
    },
    {
     "data": {
      "text/html": [
       "<div>\n",
       "<style scoped>\n",
       "    .dataframe tbody tr th:only-of-type {\n",
       "        vertical-align: middle;\n",
       "    }\n",
       "\n",
       "    .dataframe tbody tr th {\n",
       "        vertical-align: top;\n",
       "    }\n",
       "\n",
       "    .dataframe thead th {\n",
       "        text-align: right;\n",
       "    }\n",
       "</style>\n",
       "<table border=\"1\" class=\"dataframe\">\n",
       "  <thead>\n",
       "    <tr style=\"text-align: right;\">\n",
       "      <th></th>\n",
       "      <th>timestamp</th>\n",
       "      <th>x</th>\n",
       "      <th>y</th>\n",
       "      <th>z</th>\n",
       "    </tr>\n",
       "  </thead>\n",
       "  <tbody>\n",
       "    <tr>\n",
       "      <th>1950685</th>\n",
       "      <td>2025-05-11 08:44:30.622</td>\n",
       "      <td>-3.931407</td>\n",
       "      <td>5.245068</td>\n",
       "      <td>-7.372287</td>\n",
       "    </tr>\n",
       "    <tr>\n",
       "      <th>1950686</th>\n",
       "      <td>2025-05-11 08:44:30.642</td>\n",
       "      <td>-3.986443</td>\n",
       "      <td>5.235496</td>\n",
       "      <td>-7.341179</td>\n",
       "    </tr>\n",
       "    <tr>\n",
       "      <th>1950688</th>\n",
       "      <td>2025-05-11 08:44:30.643</td>\n",
       "      <td>-3.850052</td>\n",
       "      <td>5.242674</td>\n",
       "      <td>-7.259824</td>\n",
       "    </tr>\n",
       "    <tr>\n",
       "      <th>1950687</th>\n",
       "      <td>2025-05-11 08:44:30.643</td>\n",
       "      <td>-3.964907</td>\n",
       "      <td>5.249853</td>\n",
       "      <td>-7.302894</td>\n",
       "    </tr>\n",
       "    <tr>\n",
       "      <th>1950690</th>\n",
       "      <td>2025-05-11 08:44:30.678</td>\n",
       "      <td>-3.852444</td>\n",
       "      <td>5.199604</td>\n",
       "      <td>-7.211967</td>\n",
       "    </tr>\n",
       "  </tbody>\n",
       "</table>\n",
       "</div>"
      ],
      "text/plain": [
       "                      timestamp         x         y         z\n",
       "1950685 2025-05-11 08:44:30.622 -3.931407  5.245068 -7.372287\n",
       "1950686 2025-05-11 08:44:30.642 -3.986443  5.235496 -7.341179\n",
       "1950688 2025-05-11 08:44:30.643 -3.850052  5.242674 -7.259824\n",
       "1950687 2025-05-11 08:44:30.643 -3.964907  5.249853 -7.302894\n",
       "1950690 2025-05-11 08:44:30.678 -3.852444  5.199604 -7.211967"
      ]
     },
     "execution_count": 4,
     "metadata": {},
     "output_type": "execute_result"
    }
   ],
   "source": [
    "accelerometer_data_df = dataQuery.get_accelerometer_events(data_dict,  start_date=start_date, end_date=end_date) # start_date=start_date, end_date=end_date)\n",
    "accelerometer_data_df.head()"
   ]
  },
  {
   "cell_type": "markdown",
   "metadata": {},
   "source": [
    "Load heartrate sensor events"
   ]
  },
  {
   "cell_type": "code",
   "execution_count": 5,
   "metadata": {},
   "outputs": [
    {
     "name": "stdout",
     "output_type": "stream",
     "text": [
      "Date filtering parameters:\n",
      "  Start date: 2025-05-11 00:00:00\n",
      "  End date: 2025-05-12 00:00:00\n",
      "Total number of sensor events found: 3969413\n",
      "Available sensor event types: {'activity_type', 'heartrate', 'accelerometer', 'location'}\n",
      "Number of heartrate events found: 1056730\n",
      "Date range of data before filtering:\n",
      "  Earliest timestamp: 2025-05-09 08:51:26.735000\n",
      "  Latest timestamp: 2025-05-21 10:55:41.609000\n",
      "After start date filtering: 888140 events remaining\n",
      "After end date filtering: 117311 events remaining\n"
     ]
    },
    {
     "data": {
      "text/html": [
       "<div>\n",
       "<style scoped>\n",
       "    .dataframe tbody tr th:only-of-type {\n",
       "        vertical-align: middle;\n",
       "    }\n",
       "\n",
       "    .dataframe tbody tr th {\n",
       "        vertical-align: top;\n",
       "    }\n",
       "\n",
       "    .dataframe thead th {\n",
       "        text-align: right;\n",
       "    }\n",
       "</style>\n",
       "<table border=\"1\" class=\"dataframe\">\n",
       "  <thead>\n",
       "    <tr style=\"text-align: right;\">\n",
       "      <th></th>\n",
       "      <th>timestamp</th>\n",
       "      <th>bpm</th>\n",
       "      <th>pp</th>\n",
       "    </tr>\n",
       "  </thead>\n",
       "  <tbody>\n",
       "    <tr>\n",
       "      <th>887597</th>\n",
       "      <td>2025-05-11 08:44:46.363</td>\n",
       "      <td>60.0</td>\n",
       "      <td>0.0</td>\n",
       "    </tr>\n",
       "    <tr>\n",
       "      <th>887054</th>\n",
       "      <td>2025-05-11 08:44:46.363</td>\n",
       "      <td>60.0</td>\n",
       "      <td>0.0</td>\n",
       "    </tr>\n",
       "    <tr>\n",
       "      <th>887598</th>\n",
       "      <td>2025-05-11 08:44:46.444</td>\n",
       "      <td>60.0</td>\n",
       "      <td>0.0</td>\n",
       "    </tr>\n",
       "    <tr>\n",
       "      <th>887055</th>\n",
       "      <td>2025-05-11 08:44:46.444</td>\n",
       "      <td>60.0</td>\n",
       "      <td>0.0</td>\n",
       "    </tr>\n",
       "    <tr>\n",
       "      <th>887599</th>\n",
       "      <td>2025-05-11 08:44:46.524</td>\n",
       "      <td>60.0</td>\n",
       "      <td>0.0</td>\n",
       "    </tr>\n",
       "  </tbody>\n",
       "</table>\n",
       "</div>"
      ],
      "text/plain": [
       "                     timestamp   bpm   pp\n",
       "887597 2025-05-11 08:44:46.363  60.0  0.0\n",
       "887054 2025-05-11 08:44:46.363  60.0  0.0\n",
       "887598 2025-05-11 08:44:46.444  60.0  0.0\n",
       "887055 2025-05-11 08:44:46.444  60.0  0.0\n",
       "887599 2025-05-11 08:44:46.524  60.0  0.0"
      ]
     },
     "execution_count": 5,
     "metadata": {},
     "output_type": "execute_result"
    }
   ],
   "source": [
    "heartrate_data_df = dataQuery.get_heartrate_events(data_dict, start_date=start_date, end_date=end_date)\n",
    "heartrate_data_df.head()"
   ]
  },
  {
   "cell_type": "markdown",
   "metadata": {},
   "source": [
    "#### 3. Clean Memory"
   ]
  },
  {
   "cell_type": "code",
   "execution_count": 6,
   "metadata": {},
   "outputs": [
    {
     "data": {
      "text/plain": [
       "0"
      ]
     },
     "execution_count": 6,
     "metadata": {},
     "output_type": "execute_result"
    }
   ],
   "source": [
    "del data_dict\n",
    "import gc\n",
    "gc.collect()  # Force garbage collection"
   ]
  },
  {
   "cell_type": "markdown",
   "metadata": {},
   "source": [
    "#### 4. Validate sensor attribute value distribution"
   ]
  },
  {
   "cell_type": "code",
   "execution_count": null,
   "metadata": {},
   "outputs": [],
   "source": []
  },
  {
   "cell_type": "markdown",
   "metadata": {},
   "source": [
    "## Align Sensor Types "
   ]
  },
  {
   "cell_type": "markdown",
   "metadata": {},
   "source": [
    "#### 1. Analyze Time Intervals Between Sensor Events"
   ]
  },
  {
   "cell_type": "code",
   "execution_count": 7,
   "metadata": {},
   "outputs": [
    {
     "data": {
      "image/png": "[encoded data removed]",
      "text/plain": [
       "<Figure size 1500x500 with 2 Axes>"
      ]
     },
     "metadata": {},
     "output_type": "display_data"
    },
    {
     "name": "stdout",
     "output_type": "stream",
     "text": [
      "\n",
      "Statistics for Accelerometer intervals (all data):\n",
      "Total number of intervals: 592,778\n",
      "Mean interval: 0.087 seconds\n",
      "Median interval: 0.020 seconds\n",
      "Standard deviation: 5.748 seconds\n",
      "Minimum interval: 0.001 seconds\n",
      "Maximum interval: 1016.301 seconds\n",
      "95th percentile: 0.026 seconds\n",
      "99th percentile: 0.036 seconds\n",
      "\n",
      "Interval distribution:\n",
      "Intervals ≤ 0.1 seconds: 591,540 (99.79%)\n",
      "Intervals > 0.1 seconds: 1,238 (0.21%)\n",
      "Intervals > 1 second: 218 (0.04%)\n",
      "Intervals > 10 seconds: 194 (0.03%)\n",
      "\n",
      "Statistics for Heartrate intervals (all data):\n",
      "Total number of intervals: 115,179\n",
      "Mean interval: 0.450 seconds\n",
      "Median interval: 0.080 seconds\n",
      "Standard deviation: 14.018 seconds\n",
      "Minimum interval: 0.001 seconds\n",
      "Maximum interval: 1881.523 seconds\n",
      "95th percentile: 0.083 seconds\n",
      "99th percentile: 0.129 seconds\n",
      "\n",
      "Interval distribution:\n",
      "Intervals ≤ 0.1 seconds: 113,284 (98.35%)\n",
      "Intervals > 0.1 seconds: 1,895 (1.65%)\n",
      "Intervals > 1 second: 224 (0.19%)\n",
      "Intervals > 10 seconds: 201 (0.17%)\n",
      "\n",
      "Gap Analysis for Accelerometer:\n",
      "Number of gaps > 60 seconds: 117\n",
      "Largest gap: 1016.3 seconds\n",
      "Average gap duration: 315.2 seconds\n",
      "\n",
      "Gap Analysis for Heartrate:\n",
      "Number of gaps > 60 seconds: 134\n",
      "Largest gap: 1881.5 seconds\n",
      "Average gap duration: 299.1 seconds\n"
     ]
    }
   ],
   "source": [
    "import numpy as np\n",
    "import matplotlib.pyplot as plt\n",
    "import seaborn as sns\n",
    "from scipy import stats\n",
    "\n",
    "def calculate_time_intervals(df):\n",
    "    \"\"\"Calculate time intervals between consecutive events in seconds.\"\"\"\n",
    "    # Sort by timestamp to ensure correct order\n",
    "    df = df.sort_values('timestamp')\n",
    "    # Calculate time differences in seconds\n",
    "    intervals = df['timestamp'].diff().dt.total_seconds()\n",
    "    # Remove the first row (NaN) and any negative intervals (shouldn't exist)\n",
    "    intervals = intervals[intervals > 0]\n",
    "    return intervals\n",
    "\n",
    "# Calculate intervals for both sensor types\n",
    "accel_intervals = calculate_time_intervals(accelerometer_data_df)\n",
    "hr_intervals = calculate_time_intervals(heartrate_data_df)\n",
    "\n",
    "# Create a figure with two subplots side by side\n",
    "fig, (ax1, ax2) = plt.subplots(1, 2, figsize=(15, 5))\n",
    "\n",
    "# Filter intervals <= 0.1 seconds for visualization only\n",
    "accel_filtered = accel_intervals[accel_intervals <= 0.1]\n",
    "hr_filtered = hr_intervals[hr_intervals <= 0.1]\n",
    "\n",
    "# Plot histograms without KDE\n",
    "sns.histplot(data=accel_filtered, bins=50, ax=ax1, kde=False)\n",
    "ax1.set_title('Accelerometer Event Intervals')\n",
    "ax1.set_xlabel('Time Interval (seconds)')\n",
    "ax1.set_ylabel('Count')\n",
    "ax1.set_xlim(0, 0.1)  # Limit x-axis to 0.1 second\n",
    "\n",
    "sns.histplot(data=hr_filtered, bins=50, ax=ax2, kde=False)\n",
    "ax2.set_title('Heartrate Event Intervals')\n",
    "ax2.set_xlabel('Time Interval (seconds)')\n",
    "ax2.set_ylabel('Count')\n",
    "ax2.set_xlim(0, 0.1)  # Limit x-axis to 0.1 second\n",
    "\n",
    "# Set the same y-axis limits for both plots\n",
    "max_count = max(ax1.get_ylim()[1], ax2.get_ylim()[1])\n",
    "ax1.set_ylim(0, max_count)\n",
    "ax2.set_ylim(0, max_count)\n",
    "\n",
    "plt.tight_layout()\n",
    "plt.show()\n",
    "\n",
    "# Calculate and print statistics using ALL data points\n",
    "def print_statistics(intervals, sensor_type):\n",
    "    print(f\"\\nStatistics for {sensor_type} intervals (all data):\")\n",
    "    print(f\"Total number of intervals: {len(intervals):,}\")\n",
    "    print(f\"Mean interval: {intervals.mean():.3f} seconds\")\n",
    "    print(f\"Median interval: {intervals.median():.3f} seconds\")\n",
    "    print(f\"Standard deviation: {intervals.std():.3f} seconds\")\n",
    "    print(f\"Minimum interval: {intervals.min():.3f} seconds\")\n",
    "    print(f\"Maximum interval: {intervals.max():.3f} seconds\")\n",
    "    print(f\"95th percentile: {np.percentile(intervals, 95):.3f} seconds\")\n",
    "    print(f\"99th percentile: {np.percentile(intervals, 99):.3f} seconds\")\n",
    "    \n",
    "    # Print distribution of intervals\n",
    "    print(f\"\\nInterval distribution:\")\n",
    "    print(f\"Intervals ≤ 0.1 seconds: {len(intervals[intervals <= 0.1]):,} ({len(intervals[intervals <= 0.1])/len(intervals)*100:.2f}%)\")\n",
    "    print(f\"Intervals > 0.1 seconds: {len(intervals[intervals > 0.1]):,} ({len(intervals[intervals > 0.1])/len(intervals)*100:.2f}%)\")\n",
    "    print(f\"Intervals > 1 second: {len(intervals[intervals > 1]):,} ({len(intervals[intervals > 1])/len(intervals)*100:.2f}%)\")\n",
    "    print(f\"Intervals > 10 seconds: {len(intervals[intervals > 10]):,} ({len(intervals[intervals > 10])/len(intervals)*100:.2f}%)\")\n",
    "\n",
    "print_statistics(accel_intervals, \"Accelerometer\")\n",
    "print_statistics(hr_intervals, \"Heartrate\")\n",
    "\n",
    "# Additional analysis: Check for gaps in the data\n",
    "def analyze_gaps(intervals, sensor_type, threshold_seconds=60):\n",
    "    gaps = intervals[intervals > threshold_seconds]\n",
    "    print(f\"\\nGap Analysis for {sensor_type}:\")\n",
    "    print(f\"Number of gaps > {threshold_seconds} seconds: {len(gaps):,}\")\n",
    "    if len(gaps) > 0:\n",
    "        print(f\"Largest gap: {gaps.max():.1f} seconds\")\n",
    "        print(f\"Average gap duration: {gaps.mean():.1f} seconds\")\n",
    "\n",
    "analyze_gaps(accel_intervals, \"Accelerometer\")\n",
    "analyze_gaps(hr_intervals, \"Heartrate\")"
   ]
  },
  {
   "cell_type": "markdown",
   "metadata": {},
   "source": [
    "Define the ACTUAL sampling frequency of each sensor type "
   ]
  },
  {
   "cell_type": "code",
   "execution_count": 12,
   "metadata": {},
   "outputs": [],
   "source": [
    "acc_sample_f = 1/accel_intervals.median()\n",
    "hr_sample_f = 1/hr_intervals.median()"
   ]
  }
 ],
 "metadata": {
  "kernelspec": {
   "display_name": "Python 3",
   "language": "python",
   "name": "python3"
  },
  "language_info": {
   "codemirror_mode": {
    "name": "ipython",
    "version": 3
   },
   "file_extension": ".py",
   "mimetype": "text/x-python",
   "name": "python",
   "nbconvert_exporter": "python",
   "pygments_lexer": "ipython3",
   "version": "3.12.5"
  }
 },
 "nbformat": 4,
 "nbformat_minor": 2
}
