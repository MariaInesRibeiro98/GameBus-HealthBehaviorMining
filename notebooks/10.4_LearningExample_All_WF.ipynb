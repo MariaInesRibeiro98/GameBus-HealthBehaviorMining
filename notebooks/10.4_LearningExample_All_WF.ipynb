{
 "cells": [
  {
   "cell_type": "markdown",
   "metadata": {},
   "source": [
    "# Petri Net Discovery: Sequencial Workflow Pattern "
   ]
  },
  {
   "cell_type": "markdown",
   "metadata": {},
   "source": [
    "## Step 1: Setup"
   ]
  },
  {
   "cell_type": "code",
   "execution_count": 1,
   "metadata": {},
   "outputs": [],
   "source": [
    "import pandas as pd\n",
    "import pm4py\n",
    "from pm4py.objects.conversion.log import converter as log_converter\n",
    "from pm4py.objects.log.util import dataframe_utils\n",
    "from pm4py.algo.discovery.inductive import algorithm as inductive_miner\n",
    "from pm4py.visualization.petri_net import visualizer as pn_visualizer"
   ]
  },
  {
   "cell_type": "markdown",
   "metadata": {},
   "source": [
    "## Step 2: Load Event Log from CSV"
   ]
  },
  {
   "cell_type": "code",
   "execution_count": 3,
   "metadata": {},
   "outputs": [
    {
     "data": {
      "text/html": [
       "<div>\n",
       "<style scoped>\n",
       "    .dataframe tbody tr th:only-of-type {\n",
       "        vertical-align: middle;\n",
       "    }\n",
       "\n",
       "    .dataframe tbody tr th {\n",
       "        vertical-align: top;\n",
       "    }\n",
       "\n",
       "    .dataframe thead th {\n",
       "        text-align: right;\n",
       "    }\n",
       "</style>\n",
       "<table border=\"1\" class=\"dataframe\">\n",
       "  <thead>\n",
       "    <tr style=\"text-align: right;\">\n",
       "      <th></th>\n",
       "      <th>timestamp</th>\n",
       "      <th>location</th>\n",
       "      <th>detailed_event_type</th>\n",
       "      <th>caseID</th>\n",
       "    </tr>\n",
       "  </thead>\n",
       "  <tbody>\n",
       "    <tr>\n",
       "      <th>0</th>\n",
       "      <td>2025-11-05 12:02:00</td>\n",
       "      <td>other</td>\n",
       "      <td>START_LIGHT_PA</td>\n",
       "      <td>11/05/2025</td>\n",
       "    </tr>\n",
       "    <tr>\n",
       "      <th>1</th>\n",
       "      <td>2025-11-05 12:19:00</td>\n",
       "      <td>other</td>\n",
       "      <td>END_LIGHT_PA</td>\n",
       "      <td>11/05/2025</td>\n",
       "    </tr>\n",
       "    <tr>\n",
       "      <th>2</th>\n",
       "      <td>2025-11-05 13:00:00</td>\n",
       "      <td>home</td>\n",
       "      <td>notification_READ</td>\n",
       "      <td>11/05/2025</td>\n",
       "    </tr>\n",
       "    <tr>\n",
       "      <th>3</th>\n",
       "      <td>2025-11-05 13:00:00</td>\n",
       "      <td>home</td>\n",
       "      <td>stress_report_low</td>\n",
       "      <td>11/05/2025</td>\n",
       "    </tr>\n",
       "    <tr>\n",
       "      <th>4</th>\n",
       "      <td>2025-11-05 13:24:00</td>\n",
       "      <td>home</td>\n",
       "      <td>START_LIGHT_PA</td>\n",
       "      <td>11/05/2025</td>\n",
       "    </tr>\n",
       "  </tbody>\n",
       "</table>\n",
       "</div>"
      ],
      "text/plain": [
       "            timestamp location detailed_event_type      caseID\n",
       "0 2025-11-05 12:02:00    other      START_LIGHT_PA  11/05/2025\n",
       "1 2025-11-05 12:19:00    other        END_LIGHT_PA  11/05/2025\n",
       "2 2025-11-05 13:00:00     home   notification_READ  11/05/2025\n",
       "3 2025-11-05 13:00:00     home   stress_report_low  11/05/2025\n",
       "4 2025-11-05 13:24:00     home      START_LIGHT_PA  11/05/2025"
      ]
     },
     "execution_count": 3,
     "metadata": {},
     "output_type": "execute_result"
    }
   ],
   "source": [
    "df = pd.read_csv(\"LE2_Sequential_LoopWF.csv\", sep=';',parse_dates=[\"timestamp\"])\n",
    "df.head()"
   ]
  },
  {
   "cell_type": "markdown",
   "metadata": {},
   "source": [
    "## Step 3: Prepare the Event Log\n",
    "PM4Py expects specific column names. Let's rename them and sort the log by time within each case."
   ]
  },
  {
   "cell_type": "code",
   "execution_count": 4,
   "metadata": {},
   "outputs": [],
   "source": [
    "# Rename columns to PM4Py convention\n",
    "df = df.rename(columns={\n",
    "    \"timestamp\": \"time:timestamp\",\n",
    "    \"caseID\": \"case:concept:name\",\n",
    "    \"detailed_event_type\": \"concept:name\"\n",
    "})\n",
    "\n",
    "# Sort by case and time\n",
    "df = dataframe_utils.convert_timestamp_columns_in_df(df)\n",
    "df = df.sort_values(by=[\"case:concept:name\", \"time:timestamp\"])"
   ]
  },
  {
   "cell_type": "markdown",
   "metadata": {},
   "source": [
    "## Step 4: Convert to PM4Py Event Log"
   ]
  },
  {
   "cell_type": "code",
   "execution_count": 5,
   "metadata": {},
   "outputs": [],
   "source": [
    "from pm4py.objects.conversion.log import converter as log_converter\n",
    "\n",
    "event_log = log_converter.apply(df, variant=log_converter.Variants.TO_EVENT_LOG)"
   ]
  },
  {
   "cell_type": "markdown",
   "metadata": {},
   "source": [
    "## Step 5: Discover the Process Tree Using Inductive Miner"
   ]
  },
  {
   "cell_type": "code",
   "execution_count": 6,
   "metadata": {},
   "outputs": [
    {
     "ename": "TypeError",
     "evalue": "'<' not supported between instances of 'float' and 'str'",
     "output_type": "error",
     "traceback": [
      "\u001b[1;31m---------------------------------------------------------------------------\u001b[0m",
      "\u001b[1;31mTypeError\u001b[0m                                 Traceback (most recent call last)",
      "Cell \u001b[1;32mIn[6], line 3\u001b[0m\n\u001b[0;32m      1\u001b[0m \u001b[38;5;66;03m## Discover Process Model\u001b[39;00m\n\u001b[0;32m      2\u001b[0m \u001b[38;5;66;03m# First get the process tree\u001b[39;00m\n\u001b[1;32m----> 3\u001b[0m process_tree \u001b[38;5;241m=\u001b[39m \u001b[43minductive_miner\u001b[49m\u001b[38;5;241;43m.\u001b[39;49m\u001b[43mapply\u001b[49m\u001b[43m(\u001b[49m\u001b[43mevent_log\u001b[49m\u001b[43m)\u001b[49m\n\u001b[0;32m      5\u001b[0m \u001b[38;5;66;03m# Visualize Process Tree\u001b[39;00m\n\u001b[0;32m      6\u001b[0m \u001b[38;5;28;01mfrom\u001b[39;00m \u001b[38;5;21;01mpm4py\u001b[39;00m\u001b[38;5;21;01m.\u001b[39;00m\u001b[38;5;21;01mvisualization\u001b[39;00m\u001b[38;5;21;01m.\u001b[39;00m\u001b[38;5;21;01mprocess_tree\u001b[39;00m \u001b[38;5;28;01mimport\u001b[39;00m visualizer \u001b[38;5;28;01mas\u001b[39;00m pt_visualizer\n",
      "File \u001b[1;32mc:\\Users\\20236075\\AppData\\Local\\Programs\\Python\\Python312\\Lib\\site-packages\\pm4py\\algo\\discovery\\inductive\\algorithm.py:82\u001b[0m, in \u001b[0;36mapply\u001b[1;34m(obj, parameters, variant)\u001b[0m\n\u001b[0;32m     80\u001b[0m \u001b[38;5;28;01mif\u001b[39;00m variant \u001b[38;5;129;01mis\u001b[39;00m Variants\u001b[38;5;241m.\u001b[39mIM:\n\u001b[0;32m     81\u001b[0m     im \u001b[38;5;241m=\u001b[39m IMUVCL(parameters)\n\u001b[1;32m---> 82\u001b[0m     process_tree \u001b[38;5;241m=\u001b[39m im\u001b[38;5;241m.\u001b[39mapply(\u001b[43mIMDataStructureUVCL\u001b[49m\u001b[43m(\u001b[49m\u001b[43muvcl\u001b[49m\u001b[43m)\u001b[49m, parameters)\n\u001b[0;32m     83\u001b[0m \u001b[38;5;28;01mif\u001b[39;00m variant \u001b[38;5;129;01mis\u001b[39;00m Variants\u001b[38;5;241m.\u001b[39mIMf:\n\u001b[0;32m     84\u001b[0m     imf \u001b[38;5;241m=\u001b[39m IMFUVCL(parameters)\n",
      "File \u001b[1;32mc:\\Users\\20236075\\AppData\\Local\\Programs\\Python\\Python312\\Lib\\site-packages\\pm4py\\algo\\discovery\\inductive\\dtypes\\im_ds.py:67\u001b[0m, in \u001b[0;36mIMDataStructureUVCL.__init__\u001b[1;34m(self, obj, dfg)\u001b[0m\n\u001b[0;32m     65\u001b[0m \u001b[38;5;28msuper\u001b[39m()\u001b[38;5;241m.\u001b[39m\u001b[38;5;21m__init__\u001b[39m(obj)\n\u001b[0;32m     66\u001b[0m \u001b[38;5;28;01mif\u001b[39;00m dfg \u001b[38;5;129;01mis\u001b[39;00m \u001b[38;5;28;01mNone\u001b[39;00m:\n\u001b[1;32m---> 67\u001b[0m     \u001b[38;5;28mself\u001b[39m\u001b[38;5;241m.\u001b[39m_dfg \u001b[38;5;241m=\u001b[39m \u001b[43mcomut\u001b[49m\u001b[38;5;241;43m.\u001b[39;49m\u001b[43mdiscover_dfg_uvcl\u001b[49m\u001b[43m(\u001b[49m\u001b[38;5;28;43mself\u001b[39;49m\u001b[38;5;241;43m.\u001b[39;49m\u001b[43m_obj\u001b[49m\u001b[43m)\u001b[49m\n\u001b[0;32m     68\u001b[0m \u001b[38;5;28;01melse\u001b[39;00m:\n\u001b[0;32m     69\u001b[0m     \u001b[38;5;28mself\u001b[39m\u001b[38;5;241m.\u001b[39m_dfg \u001b[38;5;241m=\u001b[39m dfg\n",
      "File \u001b[1;32mc:\\Users\\20236075\\AppData\\Local\\Programs\\Python\\Python312\\Lib\\site-packages\\pm4py\\util\\compression\\util.py:191\u001b[0m, in \u001b[0;36mdiscover_dfg_uvcl\u001b[1;34m(log)\u001b[0m\n\u001b[0;32m    189\u001b[0m dfg \u001b[38;5;241m=\u001b[39m DFG()\n\u001b[0;32m    190\u001b[0m [dfg\u001b[38;5;241m.\u001b[39mgraph\u001b[38;5;241m.\u001b[39mupdate({(t[i], t[i \u001b[38;5;241m+\u001b[39m \u001b[38;5;241m1\u001b[39m]): log[t]}) \u001b[38;5;28;01mfor\u001b[39;00m t \u001b[38;5;129;01min\u001b[39;00m log \u001b[38;5;28;01mfor\u001b[39;00m i \u001b[38;5;129;01min\u001b[39;00m \u001b[38;5;28mrange\u001b[39m(\u001b[38;5;241m0\u001b[39m, \u001b[38;5;28mlen\u001b[39m(t) \u001b[38;5;241m-\u001b[39m \u001b[38;5;241m1\u001b[39m) \u001b[38;5;28;01mif\u001b[39;00m \u001b[38;5;28mlen\u001b[39m(t)]\n\u001b[1;32m--> 191\u001b[0m \u001b[38;5;28;01mfor\u001b[39;00m a \u001b[38;5;129;01min\u001b[39;00m \u001b[43mget_alphabet\u001b[49m\u001b[43m(\u001b[49m\u001b[43mlog\u001b[49m\u001b[43m)\u001b[49m:\n\u001b[0;32m    192\u001b[0m     \u001b[38;5;28;01mfor\u001b[39;00m t \u001b[38;5;129;01min\u001b[39;00m log:\n\u001b[0;32m    193\u001b[0m         \u001b[38;5;28;01mif\u001b[39;00m \u001b[38;5;28mlen\u001b[39m(t) \u001b[38;5;241m>\u001b[39m \u001b[38;5;241m0\u001b[39m:\n",
      "File \u001b[1;32mc:\\Users\\20236075\\AppData\\Local\\Programs\\Python\\Python312\\Lib\\site-packages\\pm4py\\util\\compression\\util.py:217\u001b[0m, in \u001b[0;36mget_alphabet\u001b[1;34m(log, index)\u001b[0m\n\u001b[0;32m    215\u001b[0m \u001b[38;5;28;01mdef\u001b[39;00m \u001b[38;5;21mget_alphabet\u001b[39m(log: Union[UCL, MCL, UVCL], index: \u001b[38;5;28mint\u001b[39m \u001b[38;5;241m=\u001b[39m \u001b[38;5;241m0\u001b[39m):\n\u001b[0;32m    216\u001b[0m     log \u001b[38;5;241m=\u001b[39m _map_log_to_single_index(log, index)\n\u001b[1;32m--> 217\u001b[0m     sorted_set \u001b[38;5;241m=\u001b[39m \u001b[38;5;28;43msorted\u001b[39;49m\u001b[43m(\u001b[49m\u001b[38;5;28;43mset\u001b[39;49m\u001b[43m(\u001b[49m\u001b[43m[\u001b[49m\u001b[43me\u001b[49m\u001b[43m \u001b[49m\u001b[38;5;28;43;01mfor\u001b[39;49;00m\u001b[43m \u001b[49m\u001b[43mt\u001b[49m\u001b[43m \u001b[49m\u001b[38;5;129;43;01min\u001b[39;49;00m\u001b[43m \u001b[49m\u001b[43mlog\u001b[49m\u001b[43m \u001b[49m\u001b[38;5;28;43;01mfor\u001b[39;49;00m\u001b[43m \u001b[49m\u001b[43me\u001b[49m\u001b[43m \u001b[49m\u001b[38;5;129;43;01min\u001b[39;49;00m\u001b[43m \u001b[49m\u001b[43mt\u001b[49m\u001b[43m]\u001b[49m\u001b[43m)\u001b[49m\u001b[43m)\u001b[49m\n\u001b[0;32m    218\u001b[0m     \u001b[38;5;28;01mreturn\u001b[39;00m sorted_set\n",
      "\u001b[1;31mTypeError\u001b[0m: '<' not supported between instances of 'float' and 'str'"
     ]
    }
   ],
   "source": [
    "## Discover Process Model\n",
    "# First get the process tree\n",
    "process_tree = inductive_miner.apply(event_log)\n",
    "\n",
    "# Visualize Process Tree\n",
    "from pm4py.visualization.process_tree import visualizer as pt_visualizer\n",
    "gviz_pt = pt_visualizer.apply(process_tree)\n",
    "pt_visualizer.view(gviz_pt)\n",
    "\n"
   ]
  },
  {
   "cell_type": "markdown",
   "metadata": {},
   "source": [
    "## Step 6: Converting to Petri Net"
   ]
  },
  {
   "cell_type": "code",
   "execution_count": 11,
   "metadata": {},
   "outputs": [
    {
     "data": {
      "image/png": "[encoded data removed]",
      "text/plain": [
       "<IPython.core.display.Image object>"
      ]
     },
     "metadata": {},
     "output_type": "display_data"
    }
   ],
   "source": [
    "# Convert process tree to Petri net\n",
    "from pm4py.objects.conversion.process_tree import converter as pt_converter\n",
    "net, initial_marking, final_marking = pt_converter.apply(process_tree)\n",
    "\n",
    "# Visualizing\n",
    "gviz = pn_visualizer.apply(net, initial_marking, final_marking)\n",
    "pn_visualizer.view(gviz)"
   ]
  }
 ],
 "metadata": {
  "kernelspec": {
   "display_name": "Python 3",
   "language": "python",
   "name": "python3"
  },
  "language_info": {
   "codemirror_mode": {
    "name": "ipython",
    "version": 3
   },
   "file_extension": ".py",
   "mimetype": "text/x-python",
   "name": "python",
   "nbconvert_exporter": "python",
   "pygments_lexer": "ipython3",
   "version": "3.12.5"
  }
 },
 "nbformat": 4,
 "nbformat_minor": 2
}
