{
 "cells": [
  {
   "cell_type": "markdown",
   "metadata": {},
   "source": [
    "# 03.1 Querying - Conversion of the Extended to the Standard OCEL format\n",
    "\n",
    "This notebook demonstrates how to convert an extended OCEL to the standard format. We demonstrate backward compatibility to existing PM4PY methods. \n",
    "\n",
    "We argue that existing object-centric process mining techniques can be employed through backwards compatibility of the proposed extended OCEL format with the established one. While there is the need to preserve sensor data for multi-dimentionality, it may be omitted in each temporary OCEL profile. A OCEL profile is a specific perspective of the single ground truth OCEL, including a subset of the types of behavior events and objects. Creating an OCEL can be viewed as a drill-down approach, where we go from person-centric health data to behavior-specific view of a personal health behavior. Therefore, for modeling interpretable behavior models, the sensor dimension is represented by the recognized behavior events or their derived attributes. Note that OCEL profiles are queried from the single ground truth OCED without extracting new data. There is no actual data loss in creating OCED profiles, which is preserved at the single ground truth OCEL."
   ]
  },
  {
   "cell_type": "markdown",
   "metadata": {},
   "source": [
    "## Setup"
   ]
  },
  {
   "cell_type": "code",
   "execution_count": 1,
   "metadata": {},
   "outputs": [],
   "source": [
    "import pandas as pd\n",
    "import matplotlib.pyplot as plt\n",
    "import sys\n",
    "sys.path.append('..')\n",
    "\n",
    "from src.extended_ocel.covert_to_ocel import ExtendedOCELToStandardOCELCoverter\n",
    "from src.extended_ocel.read_json import read_json"
   ]
  },
  {
   "cell_type": "markdown",
   "metadata": {},
   "source": [
    "## Load Extended OCED from JSON file"
   ]
  },
  {
   "cell_type": "code",
   "execution_count": 4,
   "metadata": {},
   "outputs": [],
   "source": [
    "extended_ocel_data_file = f\"../data/transformed/player_107631_oced_data_time_bouts_notifications_stress_location_linked_bouts_reports_2.json\"\n",
    "extended_ocel_data = read_json(extended_ocel_data_file)"
   ]
  },
  {
   "cell_type": "markdown",
   "metadata": {},
   "source": [
    "## Validate Extended OCEL Format"
   ]
  },
  {
   "cell_type": "code",
   "execution_count": null,
   "metadata": {},
   "outputs": [],
   "source": [
    "from src.extended_ocel.validation import apply\n",
    "# Validate using default schema\n",
    "is_valid, errors = apply(\"../data/transformed/player_107631_oced_data_time_bouts_notifications_stress_location_linked.json\",\"../schema/extended-OCEL.json\")\n",
    "is_valid"
   ]
  },
  {
   "cell_type": "code",
   "execution_count": null,
   "metadata": {},
   "outputs": [],
   "source": [
    "errors"
   ]
  },
  {
   "cell_type": "markdown",
   "metadata": {},
   "source": [
    "## Convert from extended to standard OCEL"
   ]
  },
  {
   "cell_type": "code",
   "execution_count": 5,
   "metadata": {},
   "outputs": [],
   "source": [
    "converter =  ExtendedOCELToStandardOCELCoverter(extended_ocel_data)\n",
    "ocel_data = converter.convert()\n",
    "converter.save_to_file(\"../data/ocel/standard_ocel_data_linked3.jsonocel\")"
   ]
  },
  {
   "cell_type": "markdown",
   "metadata": {},
   "source": [
    "## Validate Standard OCEL Format  \n"
   ]
  },
  {
   "cell_type": "code",
   "execution_count": null,
   "metadata": {},
   "outputs": [],
   "source": [
    "from pm4py.objects.ocel.validation import jsonocel\n",
    "validation_result = jsonocel.apply(\"../data/ocel/standard_ocel_data_linked.jsonocel\", \"../schema/OCEL-2.0-Standard.json\")\n",
    "print(validation_result)"
   ]
  },
  {
   "cell_type": "markdown",
   "metadata": {},
   "source": [
    "## Visualization of Data Loss\n",
    "\n",
    "#### Event Type Distribution"
   ]
  },
  {
   "cell_type": "code",
   "execution_count": null,
   "metadata": {},
   "outputs": [],
   "source": [
    "# Create visualizations\n",
    "fig, (ax1, ax2) = plt.subplots(1, 2, figsize=(15, 5))\n",
    "\n",
    "# Original event types\n",
    "sensor_types = pd.Series([e['sensorEventType'] for e in converter.extended_ocel_data['sensorEvents']]).value_counts()\n",
    "behavior_types = pd.Series([e['behaviorEventType'] for e in converter.extended_ocel_data['behaviorEvents']]).value_counts()\n",
    "\n",
    "# Plot sensor events\n",
    "bars1 = ax1.bar(sensor_types.index, sensor_types.values, label='Sensor Events', alpha=0.6)\n",
    "# Add count numbers on top of sensor event bars\n",
    "for bar in bars1:\n",
    "    height = bar.get_height()\n",
    "    ax1.text(bar.get_x() + bar.get_width()/2., height,\n",
    "             f'{int(height)}',\n",
    "             ha='center', va='bottom')\n",
    "\n",
    "# Plot behavior events\n",
    "bars2 = ax1.bar(behavior_types.index, behavior_types.values, label='Behavior Events', alpha=0.6)\n",
    "# Add count numbers on top of behavior event bars\n",
    "for bar in bars2:\n",
    "    height = bar.get_height()\n",
    "    ax1.text(bar.get_x() + bar.get_width()/2., height,\n",
    "             f'{int(height)}',\n",
    "             ha='center', va='bottom')\n",
    "\n",
    "ax1.set_title('OCEL-mHealth Event Types')\n",
    "ax1.legend()\n",
    "ax1.tick_params(axis='x', rotation=45)\n",
    "\n",
    "# Converted event types\n",
    "ocel_types = pd.Series([e['type'] for e in ocel_data['events']]).value_counts()\n",
    "bars3 = ax2.bar(ocel_types.index, ocel_types.values)\n",
    "# Add count numbers on top of OCEL event bars\n",
    "for bar in bars3:\n",
    "    height = bar.get_height()\n",
    "    ax2.text(bar.get_x() + bar.get_width()/2., height,\n",
    "             f'{int(height)}',\n",
    "             ha='center', va='bottom')\n",
    "\n",
    "ax2.set_title('OCEL Event Types')\n",
    "ax2.tick_params(axis='x', rotation=45)\n",
    "\n",
    "plt.tight_layout()\n",
    "plt.show()"
   ]
  },
  {
   "cell_type": "markdown",
   "metadata": {},
   "source": [
    "## Key Takeaways\n",
    "\n",
    "1. **Data Loss**:\n",
    "   - All sensor events and their relationships are dropped\n",
    "   - Numeric attribute values are converted to strings\n",
    "   - Sensor event relationships to behavior events are lost\n",
    "\n",
    "2. **Preserved Data**:\n",
    "   - All behavior events are maintained\n",
    "   - All objects and their attributes are preserved\n",
    "   - Object relationships are maintained\n",
    "   - Temporal information is preserved\n",
    "\n",
    "3. **Implications**:\n",
    "   - OCEL-mHealth provides richer data for sensor-based analysis\n",
    "   - OCEL compatibility ensures existing process mining tools can be used\n",
    "   - The conversion is lossless for behavior events and objects"
   ]
  }
 ],
 "metadata": {
  "kernelspec": {
   "display_name": "Python 3",
   "language": "python",
   "name": "python3"
  },
  "language_info": {
   "codemirror_mode": {
    "name": "ipython",
    "version": 3
   },
   "file_extension": ".py",
   "mimetype": "text/x-python",
   "name": "python",
   "nbconvert_exporter": "python",
   "pygments_lexer": "ipython3",
   "version": "3.12.5"
  }
 },
 "nbformat": 4,
 "nbformat_minor": 2
}
