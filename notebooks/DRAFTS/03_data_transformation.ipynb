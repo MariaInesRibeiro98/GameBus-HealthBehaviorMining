{
 "cells": [
  {
   "cell_type": "markdown",
   "metadata": {},
   "source": [
    "# GameBus Health Behavior Mining - Data Transformation\n",
    "This notebook demonstrates how to transform the extracted GameBus data into the OCED-mHealth format for process mining."
   ]
  },
  {
   "cell_type": "markdown",
   "metadata": {},
   "source": [
    "## Setup\n",
    "First, let's set up our environment and import the necessary modules."
   ]
  },
  {
   "cell_type": "code",
   "execution_count": 29,
   "metadata": {},
   "outputs": [],
   "source": [
    "import sys\n",
    "import os\n",
    "import json\n",
    "import pandas as pd\n",
    "from datetime import datetime\n",
    "\n",
    "# Add the project root directory to the Python path\n",
    "sys.path.append('..')\n",
    "\n",
    "# Import project modules\n",
    "from config.paths import RAW_DATA_DIR, TRANSFORMED_DATA_DIR\n",
    "from src.utils.file_handlers import load_json\n",
    "from src.transformation.gamebus_to_oced import GameBusToOCEDTransformer\n",
    "from src.utils.logging import setup_logging"
   ]
  },
  {
   "cell_type": "markdown",
   "metadata": {},
   "source": [
    "## Initialize Logging\n",
    "\n",
    "Set up logging for the notebook."
   ]
  },
  {
   "cell_type": "code",
   "execution_count": 25,
   "metadata": {},
   "outputs": [
    {
     "name": "stdout",
     "output_type": "stream",
     "text": [
      "2025-05-13 18:14:32,173 - gamebus_health_mining - INFO - Notebook initialized\n",
      "2025-05-13 18:14:32,173 - gamebus_health_mining - INFO - Notebook initialized\n"
     ]
    }
   ],
   "source": [
    "logger = setup_logging(log_level=\"INFO\")\n",
    "logger.info(\"Notebook initialized\")"
   ]
  },
  {
   "cell_type": "markdown",
   "metadata": {},
   "source": [
    "## Load Raw Data\n",
    "\n",
    "Load the raw data that was extracted in the previous notebook."
   ]
  },
  {
   "cell_type": "code",
   "execution_count": 26,
   "metadata": {},
   "outputs": [
    {
     "name": "stdout",
     "output_type": "stream",
     "text": [
      "Loaded data for player 107631:\n",
      "- Location records: 13361\n",
      "- Mood records: 47\n",
      "- Activity records: 2014\n",
      "- Heart rate records: 901596\n",
      "- Accelerometer records: 3475396\n",
      "- Notification records: 119\n"
     ]
    }
   ],
   "source": [
    "# Load raw data files\n",
    "player_id = \"107631\"  # This should match the player ID from the extraction notebook\n",
    "\n",
    "location_file = os.path.join(RAW_DATA_DIR, f\"player_{player_id}_location.json\")\n",
    "mood_file = os.path.join(RAW_DATA_DIR, f\"player_{player_id}_mood.json\")\n",
    "activity_file = os.path.join(RAW_DATA_DIR, f\"player_{player_id}_activity_type.json\")\n",
    "heartrate_file = os.path.join(RAW_DATA_DIR, f\"player_{player_id}_heartrate.json\")\n",
    "accelerometer_file = os.path.join(RAW_DATA_DIR, f\"player_{player_id}_accelerometer.json\")\n",
    "notification_file = os.path.join(RAW_DATA_DIR, f\"player_{player_id}_notifications.json\")\n",
    "\n",
    "# Load the data\n",
    "location_data = load_json(location_file)\n",
    "mood_data = load_json(mood_file)\n",
    "activity_data = load_json(activity_file)\n",
    "heartrate_data = load_json(heartrate_file)\n",
    "accelerometer_data = load_json(accelerometer_file)\n",
    "notification_data = load_json(notification_file)\n",
    "\n",
    "# Create player data dictionary\n",
    "player_data = {\n",
    "    \"player_id\": player_id,\n",
    "    \"username\": \"info+bm@gamebus.nl\"  # This should match the username from the extraction notebook\n",
    "}\n",
    "\n",
    "# Print data summary\n",
    "print(f\"Loaded data for player {player_id}:\")\n",
    "print(f\"- Location records: {len(location_data)}\")\n",
    "print(f\"- Mood records: {len(mood_data)}\")\n",
    "print(f\"- Activity records: {len(activity_data)}\")\n",
    "print(f\"- Heart rate records: {len(heartrate_data)}\")\n",
    "print(f\"- Accelerometer records: {len(accelerometer_data)}\")\n",
    "print(f\"- Notification records: {len(notification_data)}\")"
   ]
  },
  {
   "cell_type": "markdown",
   "metadata": {},
   "source": [
    "## Transform to OCED-mHealth Format\n",
    "\n",
    "Use the GameBusToOCEDTransformer to convert the raw data into the OCED-mHealth format."
   ]
  },
  {
   "cell_type": "code",
   "execution_count": 31,
   "metadata": {},
   "outputs": [
    {
     "ename": "TypeError",
     "evalue": "unsupported operand type(s) for /: 'str' and 'int'",
     "output_type": "error",
     "traceback": [
      "\u001b[1;31m---------------------------------------------------------------------------\u001b[0m",
      "\u001b[1;31mTypeError\u001b[0m                                 Traceback (most recent call last)",
      "Cell \u001b[1;32mIn[31], line 5\u001b[0m\n\u001b[0;32m      2\u001b[0m transformer \u001b[38;5;241m=\u001b[39m GameBusToOCEDTransformer()\n\u001b[0;32m      4\u001b[0m \u001b[38;5;66;03m# Transform the data\u001b[39;00m\n\u001b[1;32m----> 5\u001b[0m oced_data \u001b[38;5;241m=\u001b[39m \u001b[43mtransformer\u001b[49m\u001b[38;5;241;43m.\u001b[39;49m\u001b[43mtransform\u001b[49m\u001b[43m(\u001b[49m\n\u001b[0;32m      6\u001b[0m \u001b[43m    \u001b[49m\u001b[43mplayer_data\u001b[49m\u001b[38;5;241;43m=\u001b[39;49m\u001b[43mplayer_data\u001b[49m\u001b[43m,\u001b[49m\n\u001b[0;32m      7\u001b[0m \u001b[43m    \u001b[49m\u001b[43mlocation_data\u001b[49m\u001b[38;5;241;43m=\u001b[39;49m\u001b[43mlocation_data\u001b[49m\u001b[43m,\u001b[49m\n\u001b[0;32m      8\u001b[0m \u001b[43m    \u001b[49m\u001b[43maccelerometer_data\u001b[49m\u001b[38;5;241;43m=\u001b[39;49m\u001b[43maccelerometer_data\u001b[49m\u001b[43m,\u001b[49m\n\u001b[0;32m      9\u001b[0m \u001b[43m    \u001b[49m\u001b[43mheartrate_data\u001b[49m\u001b[38;5;241;43m=\u001b[39;49m\u001b[43mheartrate_data\u001b[49m\u001b[43m,\u001b[49m\n\u001b[0;32m     10\u001b[0m \u001b[43m    \u001b[49m\u001b[43mnotification_data\u001b[49m\u001b[38;5;241;43m=\u001b[39;49m\u001b[43mnotification_data\u001b[49m\u001b[43m,\u001b[49m\n\u001b[0;32m     11\u001b[0m \u001b[43m    \u001b[49m\u001b[43mmood_data\u001b[49m\u001b[38;5;241;43m=\u001b[39;49m\u001b[43mmood_data\u001b[49m\u001b[43m,\u001b[49m\n\u001b[0;32m     12\u001b[0m \u001b[43m    \u001b[49m\u001b[43mactivity_data\u001b[49m\u001b[38;5;241;43m=\u001b[39;49m\u001b[43mactivity_data\u001b[49m\n\u001b[0;32m     13\u001b[0m \u001b[43m)\u001b[49m\n\u001b[0;32m     16\u001b[0m \u001b[38;5;66;03m# Print transformation summary\u001b[39;00m\n\u001b[0;32m     17\u001b[0m \u001b[38;5;28mprint\u001b[39m(\u001b[38;5;124m\"\u001b[39m\u001b[38;5;124mTransformation complete. OCED-mHealth data summary:\u001b[39m\u001b[38;5;124m\"\u001b[39m)\n",
      "File \u001b[1;32mc:\\Users\\20236075\\OneDrive - TU Eindhoven\\Documents\\GitHub\\GameBus-HealthBehaviorMining\\notebooks\\..\\src\\transformation\\gamebus_to_oced.py:168\u001b[0m, in \u001b[0;36mGameBusToOCEDTransformer.transform\u001b[1;34m(self, player_data, location_data, accelerometer_data, heartrate_data, notification_data, mood_data, activity_data)\u001b[0m\n\u001b[0;32m    165\u001b[0m \u001b[38;5;28;01mif\u001b[39;00m loc[\u001b[38;5;124m'\u001b[39m\u001b[38;5;124mLATITUDE\u001b[39m\u001b[38;5;124m'\u001b[39m] \u001b[38;5;241m==\u001b[39m \u001b[38;5;241m200\u001b[39m \u001b[38;5;129;01mand\u001b[39;00m loc[\u001b[38;5;124m'\u001b[39m\u001b[38;5;124mLONGITUDE\u001b[39m\u001b[38;5;124m'\u001b[39m] \u001b[38;5;241m==\u001b[39m \u001b[38;5;241m200\u001b[39m:  \u001b[38;5;66;03m# Skip invalid coordinates\u001b[39;00m\n\u001b[0;32m    166\u001b[0m     \u001b[38;5;28;01mcontinue\u001b[39;00m\n\u001b[1;32m--> 168\u001b[0m day_id \u001b[38;5;241m=\u001b[39m \u001b[38;5;28;43mself\u001b[39;49m\u001b[38;5;241;43m.\u001b[39;49m\u001b[43m_get_day_id\u001b[49m\u001b[43m(\u001b[49m\u001b[43mloc\u001b[49m\u001b[43m[\u001b[49m\u001b[38;5;124;43m'\u001b[39;49m\u001b[38;5;124;43mTIMESTAMP\u001b[39;49m\u001b[38;5;124;43m'\u001b[39;49m\u001b[43m]\u001b[49m\u001b[43m)\u001b[49m\n\u001b[0;32m    169\u001b[0m week_id \u001b[38;5;241m=\u001b[39m \u001b[38;5;28mself\u001b[39m\u001b[38;5;241m.\u001b[39m_get_week_id(loc[\u001b[38;5;124m'\u001b[39m\u001b[38;5;124mTIMESTAMP\u001b[39m\u001b[38;5;124m'\u001b[39m])\n\u001b[0;32m    171\u001b[0m sensor_event \u001b[38;5;241m=\u001b[39m {\n\u001b[0;32m    172\u001b[0m     \u001b[38;5;124m\"\u001b[39m\u001b[38;5;124mid\u001b[39m\u001b[38;5;124m\"\u001b[39m: \u001b[38;5;124mf\u001b[39m\u001b[38;5;124m\"\u001b[39m\u001b[38;5;124mgps_\u001b[39m\u001b[38;5;132;01m{\u001b[39;00mloc[\u001b[38;5;124m'\u001b[39m\u001b[38;5;124mactivity_id\u001b[39m\u001b[38;5;124m'\u001b[39m]\u001b[38;5;132;01m}\u001b[39;00m\u001b[38;5;124m\"\u001b[39m,\n\u001b[0;32m    173\u001b[0m     \u001b[38;5;124m\"\u001b[39m\u001b[38;5;124mtimestamp\u001b[39m\u001b[38;5;124m\"\u001b[39m: \u001b[38;5;28mself\u001b[39m\u001b[38;5;241m.\u001b[39m_timestamp_to_datetime(loc[\u001b[38;5;124m'\u001b[39m\u001b[38;5;124mTIMESTAMP\u001b[39m\u001b[38;5;124m'\u001b[39m]),\n\u001b[1;32m   (...)\u001b[0m\n\u001b[0;32m    186\u001b[0m     ]\n\u001b[0;32m    187\u001b[0m }\n",
      "File \u001b[1;32mc:\\Users\\20236075\\OneDrive - TU Eindhoven\\Documents\\GitHub\\GameBus-HealthBehaviorMining\\notebooks\\..\\src\\transformation\\gamebus_to_oced.py:99\u001b[0m, in \u001b[0;36mGameBusToOCEDTransformer._get_day_id\u001b[1;34m(self, ts)\u001b[0m\n\u001b[0;32m     97\u001b[0m \u001b[38;5;28;01mdef\u001b[39;00m \u001b[38;5;21m_get_day_id\u001b[39m(\u001b[38;5;28mself\u001b[39m, ts: \u001b[38;5;28mint\u001b[39m) \u001b[38;5;241m-\u001b[39m\u001b[38;5;241m>\u001b[39m \u001b[38;5;28mstr\u001b[39m:\n\u001b[0;32m     98\u001b[0m \u001b[38;5;250m    \u001b[39m\u001b[38;5;124;03m\"\"\"Get day ID from timestamp.\"\"\"\u001b[39;00m\n\u001b[1;32m---> 99\u001b[0m     dt \u001b[38;5;241m=\u001b[39m datetime\u001b[38;5;241m.\u001b[39mfromtimestamp(\u001b[43mts\u001b[49m\u001b[38;5;241;43m/\u001b[39;49m\u001b[38;5;241;43m1000\u001b[39;49m)\n\u001b[0;32m    100\u001b[0m     \u001b[38;5;28;01mreturn\u001b[39;00m \u001b[38;5;124mf\u001b[39m\u001b[38;5;124m\"\u001b[39m\u001b[38;5;124mday_\u001b[39m\u001b[38;5;132;01m{\u001b[39;00mdt\u001b[38;5;241m.\u001b[39mstrftime(\u001b[38;5;124m'\u001b[39m\u001b[38;5;124m%\u001b[39m\u001b[38;5;124mY-\u001b[39m\u001b[38;5;124m%\u001b[39m\u001b[38;5;124mm-\u001b[39m\u001b[38;5;132;01m%d\u001b[39;00m\u001b[38;5;124m'\u001b[39m)\u001b[38;5;132;01m}\u001b[39;00m\u001b[38;5;124m\"\u001b[39m\n",
      "\u001b[1;31mTypeError\u001b[0m: unsupported operand type(s) for /: 'str' and 'int'"
     ]
    }
   ],
   "source": [
    "# Initialize the transformer\n",
    "transformer = GameBusToOCEDTransformer()\n",
    "\n",
    "# Transform the data\n",
    "oced_data = transformer.transform(\n",
    "    player_data=player_data,\n",
    "    location_data=location_data,\n",
    "    accelerometer_data=accelerometer_data,\n",
    "    heartrate_data=heartrate_data,\n",
    "    notification_data=notification_data,\n",
    "    mood_data=mood_data,\n",
    "    activity_data=activity_data\n",
    ")\n",
    "\n",
    "\n",
    "# Print transformation summary\n",
    "print(\"Transformation complete. OCED-mHealth data summary:\")\n",
    "print(f\"- Sensor event types: {len(oced_data['sensorEventTypes'])}\")\n",
    "print(f\"- Behavior event types: {len(oced_data['behaviorEventTypes'])}\")\n",
    "print(f\"- Object types: {len(oced_data['objectTypes'])}\")\n",
    "print(f\"- Sensor events: {len(oced_data['sensorEvents'])}\")\n",
    "print(f\"- Behavior events: {len(oced_data['behaviorEvents'])}\")\n",
    "print(f\"- Objects: {len(oced_data['objects'])}\")"
   ]
  }
 ],
 "metadata": {
  "kernelspec": {
   "display_name": "Python 3",
   "language": "python",
   "name": "python3"
  },
  "language_info": {
   "codemirror_mode": {
    "name": "ipython",
    "version": 3
   },
   "file_extension": ".py",
   "mimetype": "text/x-python",
   "name": "python",
   "nbconvert_exporter": "python",
   "pygments_lexer": "ipython3",
   "version": "3.12.5"
  }
 },
 "nbformat": 4,
 "nbformat_minor": 2
}
