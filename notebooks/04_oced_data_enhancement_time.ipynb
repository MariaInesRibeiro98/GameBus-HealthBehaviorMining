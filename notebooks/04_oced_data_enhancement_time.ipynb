{
 "cells": [
  {
   "cell_type": "markdown",
   "metadata": {},
   "source": [
    "# Health Behavior Mining - Event Abstraction: Physical Activity Level Transition \n",
    "\n",
    "This notebook demonstrates how to abstract events and create event logs related to physical activity level transitions (sedentary, light, moderate, vigorous) from OCED-mHealth data. "
   ]
  },
  {
   "cell_type": "markdown",
   "metadata": {},
   "source": [
    "## Setup\n",
    "\n",
    "First, let's set up our environment and import the necessary modules."
   ]
  },
  {
   "cell_type": "code",
   "execution_count": 1,
   "metadata": {},
   "outputs": [],
   "source": [
    "import json\n",
    "import pandas as pd\n",
    "import numpy as np\n",
    "from pathlib import Path\n",
    "from typing import Optional, Union\n",
    "from datetime import datetime\n",
    "import logging\n",
    "import sys\n",
    "from pprint import pprint\n",
    "import datetime\n",
    "from pathlib import Path\n",
    "import os\n",
    "# Add the project root directory to the Python path\n",
    "sys.path.append('..')\n",
    "from concurrent.futures import ThreadPoolExecutor\n",
    "from src.data_loading.data_loaders import PlayerDataLoader\n",
    "import ijson  # For streaming JSON parsing"
   ]
  },
  {
   "cell_type": "markdown",
   "metadata": {},
   "source": [
    "## Load User Data \n",
    "Loads sensor data of type accelerometer and heartrate. "
   ]
  },
  {
   "cell_type": "code",
   "execution_count": 2,
   "metadata": {},
   "outputs": [],
   "source": [
    "start_time = datetime.datetime(2025, 5, 15)\n",
    "end_time = datetime.datetime(2025, 5, 15)\n",
    "player_id = 107631\n",
    "workspace_root = Path(os.path.abspath('')).parent\n",
    "oced_data_file = workspace_root / \"data\" / \"transformed\" /f\"player_{player_id}_oced_data_May15.json\""
   ]
  },
  {
   "cell_type": "code",
   "execution_count": 3,
   "metadata": {},
   "outputs": [],
   "source": [
    "loader = PlayerDataLoader()  "
   ]
  },
  {
   "cell_type": "code",
   "execution_count": 4,
   "metadata": {},
   "outputs": [
    {
     "name": "stdout",
     "output_type": "stream",
     "text": [
      "2025-05-16 12:20:23.089000\n",
      "2025-05-16 09:15:25.734000\n",
      "2025-05-15 21:24:25.721000\n",
      "2025-05-15 11:55:25.181000\n",
      "2025-05-15 08:35:24.077000\n",
      "2025-05-13 21:00:13.968000\n",
      "2025-05-13 17:56:31.916000\n",
      "2025-05-13 11:46:32.896000\n",
      "2025-05-13 08:45:21.807000\n",
      "2025-05-12 21:21:45.478000\n",
      "2025-05-12 14:57:51.443000\n",
      "2025-05-12 11:35:21.789000\n",
      "2025-05-12 08:31:51.937000\n",
      "2025-05-11 21:02:46.540000\n",
      "2025-05-11 14:55:20.987000\n",
      "2025-05-11 13:00:12.807000\n",
      "2025-05-11 13:00:12.384000\n",
      "2025-05-11 11:54:33.909000\n",
      "2025-05-11 08:52:47.901000\n",
      "2025-05-10 21:15:21.388000\n",
      "2025-05-10 20:46:15.163000\n",
      "2025-05-10 18:15:22.737000\n",
      "2025-05-10 15:14:06.701000\n",
      "2025-05-10 12:10:54.856000\n",
      "2025-05-10 09:09:42.987000\n",
      "2025-05-09 19:30:46.625000\n",
      "2025-05-09 17:35:31.724000\n",
      "2025-05-09 15:01:04.110000\n",
      "2025-05-09 11:55:22.556000\n",
      "2025-05-09 08:52:05.584000\n",
      "2025-05-08 12:08:19.702000\n",
      "2025-04-27 19:08:21.931000\n",
      "2025-04-27 19:07:35.824000\n",
      "2025-04-11 17:25:53.147000\n",
      "2025-04-11 14:25:35.208000\n",
      "2025-04-11 10:37:55.271000\n",
      "2025-04-10 17:55:36.046000\n",
      "2025-04-10 14:35:23.354000\n",
      "2025-04-10 11:35:21.831000\n",
      "2025-04-09 16:23:28.624000\n",
      "2025-04-09 12:54:37.480000\n",
      "2025-04-07 16:03:25.249000\n",
      "2025-04-07 15:35:43.241000\n",
      "2025-03-26 10:52:19.098000\n",
      "2025-03-26 09:59:12.664000\n",
      "2025-03-26 04:44:54.680000\n",
      "2025-03-26 04:06:40.310000\n",
      "2025-03-26 00:40:16.659000\n",
      "2025-03-25 09:37:33.948000\n",
      "2025-03-25 03:22:13.885000\n",
      "2025-03-25 00:21:36.166000\n",
      "2025-03-24 12:16:29.428000\n",
      "2025-03-21 11:12:32.086000\n",
      "2025-03-20 15:39:28.698000\n",
      "[{'timestamp': Timestamp('2025-05-16 12:20:23.089000'), 'valence': 6, 'arousal': 6, 'stress': 4}, {'timestamp': Timestamp('2025-05-16 09:15:25.734000'), 'valence': 5, 'arousal': 4, 'stress': 6}, {'timestamp': Timestamp('2025-05-15 21:24:25.721000'), 'valence': 4, 'arousal': 3, 'stress': 6}, {'timestamp': Timestamp('2025-05-15 11:55:25.181000'), 'valence': 6, 'arousal': 6, 'stress': 4}, {'timestamp': Timestamp('2025-05-15 08:35:24.077000'), 'valence': 4, 'arousal': 4, 'stress': 8}, {'timestamp': Timestamp('2025-05-13 21:00:13.968000'), 'valence': 6, 'arousal': 4, 'stress': 4}, {'timestamp': Timestamp('2025-05-13 17:56:31.916000'), 'valence': 6, 'arousal': 6, 'stress': 4}, {'timestamp': Timestamp('2025-05-13 11:46:32.896000'), 'valence': 6, 'arousal': 6, 'stress': 4}, {'timestamp': Timestamp('2025-05-13 08:45:21.807000'), 'valence': 6, 'arousal': 4, 'stress': 7}, {'timestamp': Timestamp('2025-05-12 21:21:45.478000'), 'valence': 4, 'arousal': 6, 'stress': 6}, {'timestamp': Timestamp('2025-05-12 14:57:51.443000'), 'valence': 2, 'arousal': 4, 'stress': 6}, {'timestamp': Timestamp('2025-05-12 11:35:21.789000'), 'valence': 6, 'arousal': 4, 'stress': 6}, {'timestamp': Timestamp('2025-05-12 08:31:51.937000'), 'valence': 6, 'arousal': 6, 'stress': 4}, {'timestamp': Timestamp('2025-05-11 21:02:46.540000'), 'valence': 8, 'arousal': 6, 'stress': 4}, {'timestamp': Timestamp('2025-05-11 14:55:20.987000'), 'valence': 6, 'arousal': 6, 'stress': 3}, {'timestamp': Timestamp('2025-05-11 13:00:12.807000'), 'valence': -1, 'arousal': -1, 'stress': 3}, {'timestamp': Timestamp('2025-05-11 13:00:12.384000'), 'valence': 5, 'arousal': 2, 'stress': 3}, {'timestamp': Timestamp('2025-05-11 11:54:33.909000'), 'valence': 6, 'arousal': 7, 'stress': 4}, {'timestamp': Timestamp('2025-05-11 08:52:47.901000'), 'valence': 7, 'arousal': 5, 'stress': 3}, {'timestamp': Timestamp('2025-05-10 21:15:21.388000'), 'valence': 5, 'arousal': 4, 'stress': 4}, {'timestamp': Timestamp('2025-05-10 20:46:15.163000'), 'valence': 6, 'arousal': 7, 'stress': 3}, {'timestamp': Timestamp('2025-05-10 18:15:22.737000'), 'valence': 5, 'arousal': 5, 'stress': 5}, {'timestamp': Timestamp('2025-05-10 15:14:06.701000'), 'valence': 7, 'arousal': 6, 'stress': 3}, {'timestamp': Timestamp('2025-05-10 12:10:54.856000'), 'valence': 6, 'arousal': 6, 'stress': 4}, {'timestamp': Timestamp('2025-05-10 09:09:42.987000'), 'valence': 6, 'arousal': 4, 'stress': 3}, {'timestamp': Timestamp('2025-05-09 19:30:46.625000'), 'valence': 6, 'arousal': 3, 'stress': 1}, {'timestamp': Timestamp('2025-05-09 17:35:31.724000'), 'valence': 3, 'arousal': 7, 'stress': 6}, {'timestamp': Timestamp('2025-05-09 15:01:04.110000'), 'valence': 6, 'arousal': 4, 'stress': 3}, {'timestamp': Timestamp('2025-05-09 11:55:22.556000'), 'valence': 6, 'arousal': 4, 'stress': 6}, {'timestamp': Timestamp('2025-05-09 08:52:05.584000'), 'valence': 5, 'arousal': 5, 'stress': 5}, {'timestamp': Timestamp('2025-05-08 12:08:19.702000'), 'valence': 5, 'arousal': 5, 'stress': 5}, {'timestamp': Timestamp('2025-04-27 19:08:21.931000'), 'valence': 5, 'arousal': 5, 'stress': 5}, {'timestamp': Timestamp('2025-04-27 19:07:35.824000'), 'valence': 5, 'arousal': 5, 'stress': 5}, {'timestamp': Timestamp('2025-04-11 17:25:53.147000'), 'valence': 6, 'arousal': 7, 'stress': 8}, {'timestamp': Timestamp('2025-04-11 14:25:35.208000'), 'valence': 6, 'arousal': 6, 'stress': 6}, {'timestamp': Timestamp('2025-04-11 10:37:55.271000'), 'valence': 5, 'arousal': 6, 'stress': 8}, {'timestamp': Timestamp('2025-04-10 17:55:36.046000'), 'valence': 1, 'arousal': 2, 'stress': 8}, {'timestamp': Timestamp('2025-04-10 14:35:23.354000'), 'valence': 6, 'arousal': 5, 'stress': 5}, {'timestamp': Timestamp('2025-04-10 11:35:21.831000'), 'valence': 6, 'arousal': 4, 'stress': 4}, {'timestamp': Timestamp('2025-04-09 16:23:28.624000'), 'valence': 4, 'arousal': 2, 'stress': 7}, {'timestamp': Timestamp('2025-04-09 12:54:37.480000'), 'valence': 5, 'arousal': 4, 'stress': 6}, {'timestamp': Timestamp('2025-04-07 16:03:25.249000'), 'valence': 5, 'arousal': 5, 'stress': 5}, {'timestamp': Timestamp('2025-04-07 15:35:43.241000'), 'valence': 5, 'arousal': 5, 'stress': 5}, {'timestamp': Timestamp('2025-03-26 10:52:19.098000'), 'valence': 6, 'arousal': 6, 'stress': 3}, {'timestamp': Timestamp('2025-03-26 09:59:12.664000'), 'valence': 7, 'arousal': 7, 'stress': 2}, {'timestamp': Timestamp('2025-03-26 04:44:54.680000'), 'valence': 6, 'arousal': 5, 'stress': 5}, {'timestamp': Timestamp('2025-03-26 04:06:40.310000'), 'valence': 6, 'arousal': 5, 'stress': 4}, {'timestamp': Timestamp('2025-03-26 00:40:16.659000'), 'valence': 6, 'arousal': 3, 'stress': 5}, {'timestamp': Timestamp('2025-03-25 09:37:33.948000'), 'valence': 4, 'arousal': 1, 'stress': 7}, {'timestamp': Timestamp('2025-03-25 03:22:13.885000'), 'valence': 6, 'arousal': 5, 'stress': 3}, {'timestamp': Timestamp('2025-03-25 00:21:36.166000'), 'valence': 6, 'arousal': 3, 'stress': 3}, {'timestamp': Timestamp('2025-03-24 12:16:29.428000'), 'valence': 5, 'arousal': 5, 'stress': 5}, {'timestamp': Timestamp('2025-03-21 11:12:32.086000'), 'valence': 5, 'arousal': 5, 'stress': 5}, {'timestamp': Timestamp('2025-03-20 15:39:28.698000'), 'valence': 7, 'arousal': 5, 'stress': 6}]\n"
     ]
    }
   ],
   "source": [
    "mood_df = loader.load_mood_data(oced_data_file, start_time=start_time, end_time=end_time)"
   ]
  },
  {
   "cell_type": "markdown",
   "metadata": {},
   "source": [
    "## Preprocessing Step: Align timestamps across multi-modality sensors \n",
    "This aligns the timestamps of accelerometer and sensor readings "
   ]
  }
 ],
 "metadata": {
  "kernelspec": {
   "display_name": "Python 3",
   "language": "python",
   "name": "python3"
  },
  "language_info": {
   "codemirror_mode": {
    "name": "ipython",
    "version": 3
   },
   "file_extension": ".py",
   "mimetype": "text/x-python",
   "name": "python",
   "nbconvert_exporter": "python",
   "pygments_lexer": "ipython3",
   "version": "3.12.5"
  }
 },
 "nbformat": 4,
 "nbformat_minor": 2
}
