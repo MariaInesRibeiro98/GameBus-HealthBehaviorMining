{
 "cells": [
  {
   "cell_type": "markdown",
   "metadata": {},
   "source": [
    "# Health Behavior Mining - Time Objects in OCED-mHealth Data\n",
    "\n",
    "This notebook demonstrates how to add time objects in the OCED-mHealth format"
   ]
  },
  {
   "cell_type": "markdown",
   "metadata": {},
   "source": [
    "## Setup\n",
    "\n",
    "First, let's set up our environment and import the necessary modules."
   ]
  },
  {
   "cell_type": "code",
   "execution_count": 1,
   "metadata": {},
   "outputs": [],
   "source": [
    "import sys\n",
    "# Add the project root directory to the Python path\n",
    "sys.path.append('..')\n",
    "from src.oced.oced_data_query import OCEDDataQuery\n",
    "from src.oced.time_objects import TimeObject"
   ]
  },
  {
   "cell_type": "markdown",
   "metadata": {},
   "source": [
    "## Load OCED-mHealth Data from JSON File"
   ]
  },
  {
   "cell_type": "code",
   "execution_count": 2,
   "metadata": {},
   "outputs": [],
   "source": [
    "DataQuery = OCEDDataQuery()  \n",
    "oced_data_file = f\"player_107631_oced_data.json\"\n",
    "data_dict = DataQuery.load_json(oced_data_file)"
   ]
  },
  {
   "cell_type": "markdown",
   "metadata": {},
   "source": [
    "## Add Time Objects to OCED-mHealth Data"
   ]
  },
  {
   "cell_type": "markdown",
   "metadata": {},
   "source": [
    "Add day objects"
   ]
  },
  {
   "cell_type": "code",
   "execution_count": 3,
   "metadata": {},
   "outputs": [
    {
     "name": "stdout",
     "output_type": "stream",
     "text": [
      "Day object type added.\n",
      "Total events collected: 9221922\n",
      "Original sensor events: 9221688\n",
      "Original behavior events: 234\n",
      "Extracting unique dates...\n"
     ]
    },
    {
     "name": "stderr",
     "output_type": "stream",
     "text": [
      "Processing timestamps: 100%|██████████| 9221922/9221922 [00:29<00:00, 313395.74event/s]\n"
     ]
    },
    {
     "name": "stdout",
     "output_type": "stream",
     "text": [
      "Unique dates found: 28\n",
      "Creating date mapping...\n"
     ]
    },
    {
     "name": "stderr",
     "output_type": "stream",
     "text": [
      "Creating date mapping: 100%|██████████| 9221922/9221922 [00:26<00:00, 347636.82event/s]\n"
     ]
    },
    {
     "name": "stdout",
     "output_type": "stream",
     "text": [
      "Created 28 day objects\n"
     ]
    },
    {
     "name": "stderr",
     "output_type": "stream",
     "text": [
      "Adding relationships: 100%|██████████| 28/28 [00:42<00:00,  1.53s/date]\n"
     ]
    },
    {
     "name": "stdout",
     "output_type": "stream",
     "text": [
      "Added 9221922 relationships to events\n",
      "Verification - Events with relationships in extended_data:\n",
      "  Sensor events: 9221688\n",
      "  Behavior events: 234\n"
     ]
    }
   ],
   "source": [
    "timeObject = TimeObject()\n",
    "data_dict_dt, objects_dt = timeObject.create_day_objects(data_dict)"
   ]
  },
  {
   "cell_type": "markdown",
   "metadata": {},
   "source": [
    "Add week objects"
   ]
  },
  {
   "cell_type": "code",
   "execution_count": 4,
   "metadata": {},
   "outputs": [
    {
     "name": "stdout",
     "output_type": "stream",
     "text": [
      "Week object type added.\n",
      "Found 7 unique weeks\n",
      "Created 7 week objects\n"
     ]
    }
   ],
   "source": [
    "data_dict_dwt, objects_wt = timeObject.create_week_objects(data_dict_dt)"
   ]
  },
  {
   "cell_type": "markdown",
   "metadata": {},
   "source": [
    "## Save to JSON file"
   ]
  },
  {
   "cell_type": "code",
   "execution_count": 5,
   "metadata": {},
   "outputs": [
    {
     "name": "stdout",
     "output_type": "stream",
     "text": [
      "Saved extended data to: c:\\Users\\20236075\\OneDrive - TU Eindhoven\\Documents\\GitHub\\GameBus-HealthBehaviorMining\\notebooks\\..\\data\\transformed\\player_107631_oced_data_time.json\n"
     ]
    }
   ],
   "source": [
    "timeObject.save_extended_data(\"player_107631_oced_data_time.json\", data_dict_dwt)"
   ]
  }
 ],
 "metadata": {
  "kernelspec": {
   "display_name": "Python 3",
   "language": "python",
   "name": "python3"
  },
  "language_info": {
   "codemirror_mode": {
    "name": "ipython",
    "version": 3
   },
   "file_extension": ".py",
   "mimetype": "text/x-python",
   "name": "python",
   "nbconvert_exporter": "python",
   "pygments_lexer": "ipython3",
   "version": "3.12.5"
  }
 },
 "nbformat": 4,
 "nbformat_minor": 2
}
