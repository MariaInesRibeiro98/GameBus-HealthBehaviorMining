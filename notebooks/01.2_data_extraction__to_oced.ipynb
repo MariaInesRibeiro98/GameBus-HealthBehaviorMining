{
 "cells": [
  {
   "cell_type": "markdown",
   "metadata": {},
   "source": [
    "# 01.2 Data Extraction - To extended OCEL\n",
    "\n",
    "This notebook demonstrates how to map GameBus-Experiencer data into the extended object-centric event log (OCEL), handling sensor and behavioral data.\n",
    "\n",
    "The extended OCEL standard is described by the object-centric event data (OCED) meta-model in the schema folder, with validation methods and sample data. "
   ]
  },
  {
   "cell_type": "markdown",
   "metadata": {},
   "source": [
    "## Setup"
   ]
  },
  {
   "cell_type": "code",
   "execution_count": 1,
   "metadata": {},
   "outputs": [],
   "source": [
    "import logging\n",
    "import sys\n",
    "import datetime\n",
    "from pathlib import Path\n",
    "import os\n",
    "sys.path.append('..')\n",
    "\n",
    "# Import project modules\n",
    "from src.transformation.gamebus_to_oced_transformer import GameBusToOCEDTransformer\n",
    "\n",
    "# Set up logging\n",
    "logging.basicConfig(level=logging.INFO)\n",
    "logger = logging.getLogger(__name__)"
   ]
  },
  {
   "cell_type": "markdown",
   "metadata": {},
   "source": [
    "## Define Gamebus User and Intervention "
   ]
  },
  {
   "cell_type": "code",
   "execution_count": 2,
   "metadata": {},
   "outputs": [],
   "source": [
    "# Example configuration\n",
    "player_id = \"107631\"  # Example player ID from the data files\n",
    "intervention_start = datetime.datetime(2025,5,9) \n",
    "intervention_end = datetime.datetime(2025,6,9)\n",
    "intervention_goal = \"Illustrate the use of process mining in mHealth applications\""
   ]
  },
  {
   "cell_type": "markdown",
   "metadata": {},
   "source": [
    "## Initialize transformer"
   ]
  },
  {
   "cell_type": "code",
   "execution_count": 3,
   "metadata": {},
   "outputs": [],
   "source": [
    "transformer = GameBusToOCEDTransformer(\n",
    "    player_id=player_id,\n",
    "    intervention_start=intervention_start,\n",
    "    intervention_end=intervention_end,\n",
    "    intervention_goal=intervention_goal\n",
    ")"
   ]
  },
  {
   "cell_type": "markdown",
   "metadata": {},
   "source": [
    "## Load All Player Data\n",
    "Load all extracted data from a sample player into DataFrames"
   ]
  },
  {
   "cell_type": "code",
   "execution_count": 4,
   "metadata": {},
   "outputs": [],
   "source": [
    "# Load all player data into DataFrames\n",
    "data = transformer.load_all_player_data(player_id)"
   ]
  },
  {
   "cell_type": "markdown",
   "metadata": {},
   "source": [
    "## Transform Data by Type\n",
    "Transforms Gamebus-Experiencer data by type to extended OCED. It creates sensor events (from accelerometer, heartrate, location and activity_type data) and behavior events (from mood and notifications data)"
   ]
  },
  {
   "cell_type": "code",
   "execution_count": 5,
   "metadata": {},
   "outputs": [],
   "source": [
    "# Transform each type of data\n",
    "if \"accelerometer\" in data:\n",
    "    transformer.transform_accelerometer_data(data[\"accelerometer\"])\n",
    "    \n",
    "if \"activity_type\" in data:\n",
    "    transformer.transform_activity_data(data[\"activity_type\"])\n",
    "    \n",
    "if \"heartrate\" in data:\n",
    "    transformer.transform_heartrate_data(data[\"heartrate\"])\n",
    "    \n",
    "if \"location\" in data:\n",
    "    transformer.transform_location_data(data[\"location\"])\n",
    "    \n",
    "if \"mood\" in data:\n",
    "    transformer.transform_mood_data(data[\"mood\"])\n",
    "    \n",
    "if \"notifications\" in data:\n",
    "    transformer.transform_notification_data(data[\"notifications\"])"
   ]
  },
  {
   "cell_type": "markdown",
   "metadata": {},
   "source": [
    "## Save the Transformed OCED in JSON"
   ]
  },
  {
   "cell_type": "code",
   "execution_count": 6,
   "metadata": {},
   "outputs": [
    {
     "name": "stderr",
     "output_type": "stream",
     "text": [
      "INFO:src.transformation.gamebus_to_oced_transformer:Transformed data saved to c:\\Users\\20236075\\OneDrive - TU Eindhoven\\Documents\\GitHub\\GameBus-HealthBehaviorMining\\data\\transformed\\player_107631_oced_data.json\n",
      "INFO:__main__:Transformation complete. Data saved to c:\\Users\\20236075\\OneDrive - TU Eindhoven\\Documents\\GitHub\\GameBus-HealthBehaviorMining\\data\\transformed\\player_107631_oced_data.json\n"
     ]
    }
   ],
   "source": [
    "# Save the transformed data\n",
    "workspace_root = Path(os.path.abspath('')).parent\n",
    "output_path = workspace_root / \"data\" / \"transformed\" /f\"player_{player_id}_oced_data.json\"\n",
    "output_path.parent.mkdir(parents=True, exist_ok=True)\n",
    "transformer.save_to_file(str(output_path))\n",
    "logger.info(f\"Transformation complete. Data saved to {output_path}\")"
   ]
  },
  {
   "cell_type": "markdown",
   "metadata": {},
   "source": [
    "## Summary of OCED Data"
   ]
  },
  {
   "cell_type": "code",
   "execution_count": 7,
   "metadata": {},
   "outputs": [
    {
     "name": "stdout",
     "output_type": "stream",
     "text": [
      "OCED Data Statistics:\n",
      "-------------------\n",
      "Total Objects: 2\n",
      "Total Sensor Events: 9221688\n",
      "Total Behavior Events: 234\n",
      "Sensor Event Types: 4\n",
      "Behavior Event Types: 2\n",
      "Object Types: 2\n",
      "\n",
      "Sensor Events by Type:\n",
      "   Event Type   Count\n",
      "accelerometer 7771993\n",
      "activity_type    3573\n",
      "    heartrate 1433219\n",
      "     location   12903\n",
      "\n",
      "Behavior Events by Type:\n",
      "  Event Type  Count\n",
      "        mood     76\n",
      "notification    158\n",
      "\n",
      "Sensor Event Type Attributes:\n",
      "\n",
      "Accelerometer:\n",
      "  - x (number)\n",
      "  - y (number)\n",
      "  - z (number)\n",
      "  - activity_id (string)\n",
      "\n",
      "Activity_Type:\n",
      "  - type (string)\n",
      "  - speed (number)\n",
      "  - steps (number)\n",
      "  - walks (number)\n",
      "  - runs (number)\n",
      "  - freq (number)\n",
      "  - distance (number)\n",
      "  - calories (number)\n",
      "\n",
      "Heartrate:\n",
      "  - bpm (number)\n",
      "  - pp (number)\n",
      "\n",
      "Location:\n",
      "  - latitude (number)\n",
      "  - longitude (number)\n",
      "  - altitude (number)\n",
      "  - speed (number)\n",
      "  - error (number)\n",
      "\n",
      "Behavior Event Type Attributes:\n",
      "\n",
      "Mood:\n",
      "  - valence (number)\n",
      "  - arousal (number)\n",
      "  - stress (number)\n",
      "\n",
      "Notification:\n",
      "  - action (string)\n"
     ]
    }
   ],
   "source": [
    "transformer.analyze_oced_data()"
   ]
  }
 ],
 "metadata": {
  "kernelspec": {
   "display_name": "Python 3",
   "language": "python",
   "name": "python3"
  },
  "language_info": {
   "codemirror_mode": {
    "name": "ipython",
    "version": 3
   },
   "file_extension": ".py",
   "mimetype": "text/x-python",
   "name": "python",
   "nbconvert_exporter": "python",
   "pygments_lexer": "ipython3",
   "version": "3.12.5"
  }
 },
 "nbformat": 4,
 "nbformat_minor": 2
}
