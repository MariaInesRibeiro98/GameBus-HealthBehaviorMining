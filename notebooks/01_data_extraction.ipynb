{
  "cells": [
    {
      "cell_type": "markdown",
      "metadata": {},
      "source": [
        "# GameBus Health Behavior Mining - Data Extraction\n",
        "\n",
        "This notebook demonstrates how to extract data from the GameBus platform using the framework."
      ]
    },
    {
      "cell_type": "markdown",
      "metadata": {},
      "source": [
        "## Setup\n",
        "\n",
        "First, let's set up our environment and import the necessary modules."
      ]
    },
    {
      "cell_type": "code",
      "execution_count": 1,
      "metadata": {},
      "outputs": [],
      "source": [
        "import sys\n",
        "import os\n",
        "import pandas as pd\n",
        "import json\n",
        "from pprint import pprint\n",
        "import matplotlib.pyplot as plt\n",
        "import seaborn as sns\n",
        "import datetime\n",
        "\n",
        "# Add the project root directory to the Python path\n",
        "sys.path.append('..')\n",
        "\n",
        "# Import project modules\n",
        "from config.credentials import AUTHCODE\n",
        "from config.paths import USERS_FILE_PATH, RAW_DATA_DIR\n",
        "from src.extraction.gamebus_client import GameBusClient\n",
        "from src.extraction.data_collectors import (\n",
        "    LocationDataCollector, \n",
        "    MoodDataCollector,\n",
        "    ActivityTypeDataCollector,\n",
        "    HeartRateDataCollector,\n",
        "    AccelerometerDataCollector,\n",
        "    NotificationDataCollector\n",
        ")\n",
        "from src.utils.logging import setup_logging\n",
        "from src.utils.file_handlers import load_json, save_json, load_csv, save_csv"
      ]
    },
    {
      "cell_type": "markdown",
      "metadata": {},
      "source": [
        "## Initialize Logging\n",
        "\n",
        "Set up logging for the notebook."
      ]
    },
    {
      "cell_type": "code",
      "execution_count": null,
      "metadata": {},
      "outputs": [],
      "source": [
        "import logging\n",
        "logging.basicConfig(level=logging.DEBUG)\n",
        "logger = setup_logging(log_level=\"INFO\")\n",
        "logger.info(\"Notebook initialized\")"
      ]
    },
    {
      "cell_type": "markdown",
      "metadata": {},
      "source": [
        "## Load GameBus Users\n",
        "\n",
        "Load the GameBus users from the CSV file. If the file doesn't exist yet, we'll create it from the example file."
      ]
    },
    {
      "cell_type": "code",
      "execution_count": null,
      "metadata": {},
      "outputs": [],
      "source": [
        "# Load the users\n",
        "try:\n",
        "    users_df = pd.read_csv(USERS_FILE_PATH, delimiter=';')\n",
        "    display(users_df.head())\n",
        "    print(f\"Loaded {len(users_df)} users\")\n",
        "except Exception as e:\n",
        "    # If users file doesn't exist yet, we need to create it\n",
        "    print(f\"Failed to load users file: {e}\")\n",
        "    print(\"Loading example users from the examples directory...\")\n",
        "    example_users_path = os.path.join('..', 'examples', 'GB-users.csv')\n",
        "    users_df = pd.read_csv(example_users_path, delimiter=';')\n",
        "    # Save to configured path\n",
        "    os.makedirs(os.path.dirname(USERS_FILE_PATH), exist_ok=True)\n",
        "    users_df.to_csv(USERS_FILE_PATH, sep=';', index=False)\n",
        "    display(users_df.head())\n",
        "    print(f\"Loaded {len(users_df)} example users and saved to {USERS_FILE_PATH}\")"
      ]
    },
    {
      "cell_type": "markdown",
      "metadata": {},
      "source": [
        "## Initialize GameBus Client\n",
        "\n",
        "Create a GameBus client for API interactions."
      ]
    },
    {
      "cell_type": "code",
      "execution_count": null,
      "metadata": {},
      "outputs": [],
      "source": [
        "# Initialize the GameBus client\n",
        "client = GameBusClient(AUTHCODE)\n",
        "print(\"GameBus client initialized\")"
      ]
    },
    {
      "cell_type": "markdown",
      "metadata": {},
      "source": [
        "## Define Date Range (Optional)\n",
        "\n",
        "Optionally define a date range for data extraction. If no dates are specified, all available data will be extracted."
      ]
    },
    {
      "cell_type": "code",
      "execution_count": null,
      "metadata": {},
      "outputs": [],
      "source": [
        "# Set to True to enable date filtering\n",
        "use_date_filter = True\n",
        "\n",
        "if use_date_filter:\n",
        "    # Define start date (inclusive)\n",
        "    start_date = datetime.datetime(2025, 5, 9)  # Format: YYYY, MM, DD\n",
        "    \n",
        "    # Define end date (inclusive)\n",
        "    end_date = datetime.datetime(2025, 7, 1)    # Format: YYYY, MM, DD\n",
        "    \n",
        "    print(f\"Date range: {start_date.strftime('%Y-%m-%d')} to {end_date.strftime('%Y-%m-%d')}\")\n",
        "else:\n",
        "    start_date = None\n",
        "    end_date = None\n",
        "    print(\"No date filtering applied - extracting all available data\")"
      ]
    },
    {
      "cell_type": "markdown",
      "metadata": {},
      "source": [
        "## Select User\n",
        "\n",
        "Select a user from the list to extract data for."
      ]
    },
    {
      "cell_type": "code",
      "execution_count": null,
      "metadata": {},
      "outputs": [],
      "source": [
        "# Select a user\n",
        "user_index = 0  # Change this to select a different user\n",
        "selected_user = users_df.iloc[user_index]\n",
        "username = selected_user['Username']\n",
        "password = selected_user['Password']\n",
        "\n",
        "print(f\"Selected user: {username}\")"
      ]
    },
    {
      "cell_type": "markdown",
      "metadata": {},
      "source": [
        "## Authenticate User\n",
        "\n",
        "Authenticate with the GameBus API and get the player token and ID."
      ]
    },
    {
      "cell_type": "code",
      "execution_count": null,
      "metadata": {},
      "outputs": [],
      "source": [
        "# Get player token and ID\n",
        "token = client.get_player_token(username, password)\n",
        "player_id = client.get_player_id(token)\n",
        "\n",
        "print(f\"Player token: {token[:10]}...\" if token else \"Failed to get token\")\n",
        "print(f\"Player ID: {player_id}\" if player_id else \"Failed to get player ID\")"
      ]
    },
    {
      "cell_type": "markdown",
      "metadata": {},
      "source": [
        "## Extract GPS Location Data\n",
        "\n",
        "Extract GPS location data from GameBus. This includes latitude, longitude, altitude, speed, error, timestamp, and arm."
      ]
    },
    {
      "cell_type": "code",
      "execution_count": null,
      "metadata": {},
      "outputs": [],
      "source": [
        "# Create a location data collector\n",
        "location_collector = LocationDataCollector(client, token, player_id)\n",
        "\n",
        "# Collect location data\n",
        "location_data, location_file = location_collector.collect(start_date=start_date, end_date=end_date)\n",
        "\n",
        "print(f\"Collected {len(location_data)} location data points\")\n",
        "print(f\"Data saved to {location_file}\")\n",
        "\n",
        "# Display a sample of the data\n",
        "location_df = pd.DataFrame(location_data)\n",
        "if len(location_df) > 0:\n",
        "    display(location_df.head())"
      ]
    },
    {
      "cell_type": "markdown",
      "metadata": {},
      "source": []
    },
    {
      "cell_type": "markdown",
      "metadata": {},
      "source": [
        "## Extract Mood Data\n",
        "\n",
        "Extract mood logging data from GameBus. This includes valence_state_value, arousal_state_value, stress_state_value, and event_timestamp."
      ]
    },
    {
      "cell_type": "code",
      "execution_count": null,
      "metadata": {},
      "outputs": [],
      "source": [
        "# Create a mood data collector\n",
        "mood_collector = MoodDataCollector(client, token, player_id)\n",
        "\n",
        "# Collect mood data\n",
        "mood_data, mood_file = mood_collector.collect(start_date=start_date, end_date=end_date)\n",
        "\n",
        "print(f\"Collected {len(mood_data)} mood data points\")\n",
        "print(f\"Data saved to {mood_file}\")\n",
        "\n",
        "# Display a sample of the data\n",
        "mood_df = pd.DataFrame(mood_data)\n",
        "if len(mood_df) > 0:\n",
        "    display(mood_df.head())"
      ]
    },
    {
      "cell_type": "markdown",
      "metadata": {},
      "source": [
        "## Extract Activity Type Data\n",
        "\n",
        "Extract activity type data from GameBus. This includes src, ts (timestamp), type, speed, steps, walks, runs, freq, distance, and cals."
      ]
    },
    {
      "cell_type": "code",
      "execution_count": null,
      "metadata": {},
      "outputs": [],
      "source": [
        "# Create an activity type data collector\n",
        "activity_collector = ActivityTypeDataCollector(client, token, player_id)\n",
        "\n",
        "# Collect activity type data\n",
        "activity_data, activity_file = activity_collector.collect(start_date=start_date, end_date=end_date)\n",
        "\n",
        "print(f\"Collected {len(activity_data)} activity data points\")\n",
        "print(f\"Data saved to {activity_file}\")\n",
        "\n",
        "# Display a sample of the data\n",
        "activity_df = pd.DataFrame(activity_data)\n",
        "if len(activity_df) > 0:\n",
        "    display(activity_df.head())"
      ]
    },
    {
      "cell_type": "markdown",
      "metadata": {},
      "source": [
        "## Extract Heart Rate Data\n",
        "\n",
        "Extract heart rate monitoring data from GameBus. This includes ts (timestamp), hr (heartrate), and pp."
      ]
    },
    {
      "cell_type": "code",
      "execution_count": null,
      "metadata": {},
      "outputs": [],
      "source": [
        "# Create a heart rate data collector\n",
        "heartrate_collector = HeartRateDataCollector(client, token, player_id)\n",
        "\n",
        "# Collect heart rate data\n",
        "heartrate_data, heartrate_file = heartrate_collector.collect(start_date=start_date, end_date=end_date)\n",
        "\n",
        "print(f\"Collected {len(heartrate_data)} heart rate data points\")\n",
        "print(f\"Data saved to {heartrate_file}\")\n",
        "\n",
        "# Display a sample of the data\n",
        "heartrate_df = pd.DataFrame(heartrate_data)\n",
        "if len(heartrate_df) > 0:\n",
        "    display(heartrate_df.head())"
      ]
    },
    {
      "cell_type": "markdown",
      "metadata": {},
      "source": [
        "## Extract Accelerometer Data\n",
        "\n",
        "Extract accelerometer data from GameBus. This includes ts (timestamp), x axis, y axis, and z axis."
      ]
    },
    {
      "cell_type": "code",
      "execution_count": null,
      "metadata": {},
      "outputs": [],
      "source": [
        "# Create an accelerometer data collector\n",
        "accelerometer_collector = AccelerometerDataCollector(client, token, player_id)\n",
        "\n",
        "# Collect accelerometer data\n",
        "accelerometer_data, accelerometer_file = accelerometer_collector.collect(start_date=start_date, end_date=end_date)\n",
        "\n",
        "print(f\"Collected {len(accelerometer_data)} accelerometer data points\")\n",
        "print(f\"Data saved to {accelerometer_file}\")\n",
        "\n",
        "# Display a sample of the data\n",
        "accelerometer_df = pd.DataFrame(accelerometer_data)\n",
        "if len(accelerometer_df) > 0:\n",
        "    display(accelerometer_df.head())"
      ]
    },
    {
      "cell_type": "markdown",
      "metadata": {},
      "source": [
        "## Extract Notification Data\n",
        "\n",
        "Extract notification data from GameBus. This includes action (e.g., received, read) and event_timestamp."
      ]
    },
    {
      "cell_type": "code",
      "execution_count": null,
      "metadata": {},
      "outputs": [],
      "source": [
        "# Create a notification data collector\n",
        "notification_collector = NotificationDataCollector(client, token, player_id)\n",
        "\n",
        "# Collect notification data\n",
        "notification_data, notification_file = notification_collector.collect(start_date=start_date, end_date=end_date)\n",
        "\n",
        "print(f\"Collected {len(notification_data)} notification data points\")\n",
        "print(f\"Data saved to {notification_file}\")\n",
        "\n",
        "# Display a sample of the data\n",
        "notification_df = pd.DataFrame(notification_data)\n",
        "if len(notification_df) > 0:\n",
        "    display(notification_df.head())"
      ]
    },
    {
      "cell_type": "markdown",
      "metadata": {},
      "source": [
        "## Summary\n",
        "\n",
        "Let's summarize all the data we've collected."
      ]
    },
    {
      "cell_type": "code",
      "execution_count": null,
      "metadata": {},
      "outputs": [],
      "source": [
        "# Create a summary of collected data\n",
        "summary = {\n",
        "    \"Location\": len(location_data),\n",
        "    \"Mood\": len(mood_data),\n",
        "    \"Activity\": len(activity_data),\n",
        "    \"Heart Rate\": len(heartrate_data),\n",
        "    \"Accelerometer\": len(accelerometer_data),\n",
        "    \"Notification\": len(notification_data)\n",
        "}\n",
        "\n",
        "summary_df = pd.DataFrame({\n",
        "    \"Data Type\": list(summary.keys()),\n",
        "    \"Count\": list(summary.values())\n",
        "})\n",
        "\n",
        "# Display summary\n",
        "display(summary_df)\n",
        "\n",
        "print(f\"\\nTotal data points collected: {sum(summary.values())}\")"
      ]
    },
    {
      "cell_type": "markdown",
      "metadata": {},
      "source": [
        "## Next Steps\n",
        "\n",
        "Now that we have extracted the raw data from GameBus, the next steps would be:\n",
        "\n",
        "1. **Preprocessing**: Clean and normalize the data, handle missing values, synchronize timestamps, etc.\n",
        "2. **Activity Recognition**: Recognize human activities from the sensor data using machine learning techniques.\n",
        "3. **OCEL Generation**: Transform the preprocessed data and recognized activities into the Object-Centric Event Log (OCEL) format for process mining.\n",
        "\n",
        "These steps will be covered in the subsequent notebooks."
      ]
    }
  ],
  "metadata": {
    "kernelspec": {
      "display_name": "Python 3",
      "language": "python",
      "name": "python3"
    },
    "language_info": {
      "codemirror_mode": {
        "name": "ipython",
        "version": 3
      },
      "file_extension": ".py",
      "mimetype": "text/x-python",
      "name": "python",
      "nbconvert_exporter": "python",
      "pygments_lexer": "ipython3",
      "version": "3.12.5"
    }
  },
  "nbformat": 4,
  "nbformat_minor": 4
}
