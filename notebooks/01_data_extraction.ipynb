{
  "cells": [
    {
      "cell_type": "markdown",
      "metadata": {},
      "source": [
        "# GameBus Health Behavior Mining - Data Extraction\n",
        "\n",
        "This notebook demonstrates how to extract data from the GameBus platform using the framework."
      ]
    },
    {
      "cell_type": "markdown",
      "metadata": {},
      "source": [
        "## Setup\n",
        "\n",
        "First, let's set up our environment and import the necessary modules."
      ]
    },
    {
      "cell_type": "code",
      "execution_count": 1,
      "metadata": {},
      "outputs": [],
      "source": [
        "import sys\n",
        "import os\n",
        "import pandas as pd\n",
        "import json\n",
        "from pprint import pprint\n",
        "import matplotlib.pyplot as plt\n",
        "import seaborn as sns\n",
        "import datetime\n",
        "\n",
        "# Add the project root directory to the Python path\n",
        "sys.path.append('..')\n",
        "\n",
        "# Import project modules\n",
        "from config.credentials import AUTHCODE\n",
        "from config.paths import USERS_FILE_PATH, RAW_DATA_DIR\n",
        "from src.extraction.gamebus_client import GameBusClient\n",
        "from src.extraction.data_collectors import (\n",
        "    LocationDataCollector, \n",
        "    MoodDataCollector,\n",
        "    ActivityTypeDataCollector,\n",
        "    HeartRateDataCollector,\n",
        "    AccelerometerDataCollector,\n",
        "    NotificationDataCollector\n",
        ")\n",
        "from src.utils.logging import setup_logging\n",
        "from src.utils.file_handlers import load_json, save_json, load_csv, save_csv"
      ]
    },
    {
      "cell_type": "markdown",
      "metadata": {},
      "source": [
        "## Initialize Logging\n",
        "\n",
        "Set up logging for the notebook."
      ]
    },
    {
      "cell_type": "code",
      "execution_count": 2,
      "metadata": {},
      "outputs": [
        {
          "name": "stdout",
          "output_type": "stream",
          "text": [
            "2025-05-09 14:34:57,399 - gamebus_health_mining - INFO - Notebook initialized\n"
          ]
        }
      ],
      "source": [
        "logger = setup_logging(log_level=\"INFO\")\n",
        "logger.info(\"Notebook initialized\")"
      ]
    },
    {
      "cell_type": "markdown",
      "metadata": {},
      "source": [
        "## Load GameBus Users\n",
        "\n",
        "Load the GameBus users from the CSV file. If the file doesn't exist yet, we'll create it from the example file."
      ]
    },
    {
      "cell_type": "code",
      "execution_count": 3,
      "metadata": {},
      "outputs": [
        {
          "data": {
            "text/html": [
              "<div>\n",
              "<style scoped>\n",
              "    .dataframe tbody tr th:only-of-type {\n",
              "        vertical-align: middle;\n",
              "    }\n",
              "\n",
              "    .dataframe tbody tr th {\n",
              "        vertical-align: top;\n",
              "    }\n",
              "\n",
              "    .dataframe thead th {\n",
              "        text-align: right;\n",
              "    }\n",
              "</style>\n",
              "<table border=\"1\" class=\"dataframe\">\n",
              "  <thead>\n",
              "    <tr style=\"text-align: right;\">\n",
              "      <th></th>\n",
              "      <th>Username</th>\n",
              "      <th>Password</th>\n",
              "    </tr>\n",
              "  </thead>\n",
              "  <tbody>\n",
              "    <tr>\n",
              "      <th>0</th>\n",
              "      <td>info+bm@gamebus.nl</td>\n",
              "      <td>password1234</td>\n",
              "    </tr>\n",
              "    <tr>\n",
              "      <th>1</th>\n",
              "      <td>m.i.da.graca.jorge.da.silva.ribeiro+test@tue.nl</td>\n",
              "      <td>password1234</td>\n",
              "    </tr>\n",
              "  </tbody>\n",
              "</table>\n",
              "</div>"
            ],
            "text/plain": [
              "                                          Username      Password\n",
              "0                               info+bm@gamebus.nl  password1234\n",
              "1  m.i.da.graca.jorge.da.silva.ribeiro+test@tue.nl  password1234"
            ]
          },
          "metadata": {},
          "output_type": "display_data"
        },
        {
          "name": "stdout",
          "output_type": "stream",
          "text": [
            "Loaded 2 users\n"
          ]
        }
      ],
      "source": [
        "# Load the users\n",
        "try:\n",
        "    users_df = pd.read_csv(USERS_FILE_PATH, delimiter=';')\n",
        "    display(users_df.head())\n",
        "    print(f\"Loaded {len(users_df)} users\")\n",
        "except Exception as e:\n",
        "    # If users file doesn't exist yet, we need to create it\n",
        "    print(f\"Failed to load users file: {e}\")\n",
        "    print(\"Loading example users from the examples directory...\")\n",
        "    example_users_path = os.path.join('..', 'examples', 'GB-users.csv')\n",
        "    users_df = pd.read_csv(example_users_path, delimiter=';')\n",
        "    # Save to configured path\n",
        "    os.makedirs(os.path.dirname(USERS_FILE_PATH), exist_ok=True)\n",
        "    users_df.to_csv(USERS_FILE_PATH, sep=';', index=False)\n",
        "    display(users_df.head())\n",
        "    print(f\"Loaded {len(users_df)} example users and saved to {USERS_FILE_PATH}\")"
      ]
    },
    {
      "cell_type": "markdown",
      "metadata": {},
      "source": [
        "## Initialize GameBus Client\n",
        "\n",
        "Create a GameBus client for API interactions."
      ]
    },
    {
      "cell_type": "code",
      "execution_count": 4,
      "metadata": {},
      "outputs": [
        {
          "name": "stdout",
          "output_type": "stream",
          "text": [
            "GameBus client initialized\n"
          ]
        }
      ],
      "source": [
        "# Initialize the GameBus client\n",
        "client = GameBusClient(AUTHCODE)\n",
        "print(\"GameBus client initialized\")"
      ]
    },
    {
      "cell_type": "markdown",
      "metadata": {},
      "source": [
        "## Select User\n",
        "\n",
        "Select a user from the list to extract data for."
      ]
    },
    {
      "cell_type": "code",
      "execution_count": 5,
      "metadata": {},
      "outputs": [
        {
          "name": "stdout",
          "output_type": "stream",
          "text": [
            "Selected user: info+bm@gamebus.nl\n"
          ]
        }
      ],
      "source": [
        "# Select a user\n",
        "user_index = 0  # Change this to select a different user\n",
        "selected_user = users_df.iloc[user_index]\n",
        "username = selected_user['Username']\n",
        "password = selected_user['Password']\n",
        "\n",
        "print(f\"Selected user: {username}\")"
      ]
    },
    {
      "cell_type": "markdown",
      "metadata": {},
      "source": [
        "## Authenticate User\n",
        "\n",
        "Authenticate with the GameBus API and get the player token and ID."
      ]
    },
    {
      "cell_type": "code",
      "execution_count": 6,
      "metadata": {},
      "outputs": [
        {
          "name": "stdout",
          "output_type": "stream",
          "text": [
            "Player token: eyJhbGciOi...\n",
            "Player ID: 107631\n"
          ]
        }
      ],
      "source": [
        "# Get player token and ID\n",
        "token = client.get_player_token(username, password)\n",
        "player_id = client.get_player_id(token)\n",
        "\n",
        "print(f\"Player token: {token[:10]}...\" if token else \"Failed to get token\")\n",
        "print(f\"Player ID: {player_id}\" if player_id else \"Failed to get player ID\")"
      ]
    },
    {
      "cell_type": "markdown",
      "metadata": {},
      "source": [
        "## Extract GPS Location Data\n",
        "\n",
        "Extract GPS location data from GameBus. This includes latitude, longitude, altitude, speed, error, timestamp, and arm."
      ]
    },
    {
      "cell_type": "code",
      "execution_count": 28,
      "metadata": {},
      "outputs": [
        {
          "name": "stdout",
          "output_type": "stream",
          "text": [
            "Collected 9855 location data points\n",
            "Data saved to c:\\Users\\20236075\\OneDrive - TU Eindhoven\\Documents\\GitHub\\GameBus-HealthBehaviorMining\\data\\raw\\player_107631_location.json\n"
          ]
        },
        {
          "data": {
            "text/html": [
              "<div>\n",
              "<style scoped>\n",
              "    .dataframe tbody tr th:only-of-type {\n",
              "        vertical-align: middle;\n",
              "    }\n",
              "\n",
              "    .dataframe tbody tr th {\n",
              "        vertical-align: top;\n",
              "    }\n",
              "\n",
              "    .dataframe thead th {\n",
              "        text-align: right;\n",
              "    }\n",
              "</style>\n",
              "<table border=\"1\" class=\"dataframe\">\n",
              "  <thead>\n",
              "    <tr style=\"text-align: right;\">\n",
              "      <th></th>\n",
              "      <th>LATITUDE</th>\n",
              "      <th>LONGITUDE</th>\n",
              "      <th>ALTIDUDE</th>\n",
              "      <th>SPEED</th>\n",
              "      <th>ERROR</th>\n",
              "      <th>TIMESTAMP</th>\n",
              "      <th>ARM</th>\n",
              "      <th>activity_id</th>\n",
              "      <th>date</th>\n",
              "      <th>gameDescriptor</th>\n",
              "    </tr>\n",
              "  </thead>\n",
              "  <tbody>\n",
              "    <tr>\n",
              "      <th>0</th>\n",
              "      <td>200</td>\n",
              "      <td>200</td>\n",
              "      <td>0</td>\n",
              "      <td>0</td>\n",
              "      <td>0</td>\n",
              "      <td>1746699944</td>\n",
              "      <td>Arm 2</td>\n",
              "      <td>3329199</td>\n",
              "      <td>1746700006000</td>\n",
              "      <td>GEOFENCE</td>\n",
              "    </tr>\n",
              "    <tr>\n",
              "      <th>1</th>\n",
              "      <td>200</td>\n",
              "      <td>200</td>\n",
              "      <td>0</td>\n",
              "      <td>0</td>\n",
              "      <td>0</td>\n",
              "      <td>1746698886</td>\n",
              "      <td>Arm 2</td>\n",
              "      <td>3329193</td>\n",
              "      <td>1746698947000</td>\n",
              "      <td>GEOFENCE</td>\n",
              "    </tr>\n",
              "    <tr>\n",
              "      <th>2</th>\n",
              "      <td>52.09715270996094</td>\n",
              "      <td>5.109695911407471</td>\n",
              "      <td>32.20000076293945</td>\n",
              "      <td>3.852000188827515</td>\n",
              "      <td>29</td>\n",
              "      <td>1745804145</td>\n",
              "      <td>Arm 2</td>\n",
              "      <td>3312956</td>\n",
              "      <td>1745804205000</td>\n",
              "      <td>GEOFENCE</td>\n",
              "    </tr>\n",
              "    <tr>\n",
              "      <th>3</th>\n",
              "      <td>52.09716796875</td>\n",
              "      <td>5.109516143798828</td>\n",
              "      <td>33.70000076293945</td>\n",
              "      <td>0</td>\n",
              "      <td>21</td>\n",
              "      <td>1745804085</td>\n",
              "      <td>Arm 2</td>\n",
              "      <td>3312955</td>\n",
              "      <td>1745804145000</td>\n",
              "      <td>GEOFENCE</td>\n",
              "    </tr>\n",
              "    <tr>\n",
              "      <th>4</th>\n",
              "      <td>52.09715270996094</td>\n",
              "      <td>5.109503746032715</td>\n",
              "      <td>32.09999847412109</td>\n",
              "      <td>2.016000008583069</td>\n",
              "      <td>19</td>\n",
              "      <td>1745804025</td>\n",
              "      <td>Arm 2</td>\n",
              "      <td>3312953</td>\n",
              "      <td>1745804085000</td>\n",
              "      <td>GEOFENCE</td>\n",
              "    </tr>\n",
              "  </tbody>\n",
              "</table>\n",
              "</div>"
            ],
            "text/plain": [
              "            LATITUDE          LONGITUDE           ALTIDUDE              SPEED  \\\n",
              "0                200                200                  0                  0   \n",
              "1                200                200                  0                  0   \n",
              "2  52.09715270996094  5.109695911407471  32.20000076293945  3.852000188827515   \n",
              "3     52.09716796875  5.109516143798828  33.70000076293945                  0   \n",
              "4  52.09715270996094  5.109503746032715  32.09999847412109  2.016000008583069   \n",
              "\n",
              "  ERROR   TIMESTAMP    ARM  activity_id           date gameDescriptor  \n",
              "0     0  1746699944  Arm 2      3329199  1746700006000       GEOFENCE  \n",
              "1     0  1746698886  Arm 2      3329193  1746698947000       GEOFENCE  \n",
              "2    29  1745804145  Arm 2      3312956  1745804205000       GEOFENCE  \n",
              "3    21  1745804085  Arm 2      3312955  1745804145000       GEOFENCE  \n",
              "4    19  1745804025  Arm 2      3312953  1745804085000       GEOFENCE  "
            ]
          },
          "metadata": {},
          "output_type": "display_data"
        }
      ],
      "source": [
        "# Create a location data collector\n",
        "location_collector = LocationDataCollector(client, token, player_id)\n",
        "\n",
        "# Collect location data\n",
        "location_data, location_file = location_collector.collect()\n",
        "\n",
        "print(f\"Collected {len(location_data)} location data points\")\n",
        "print(f\"Data saved to {location_file}\")\n",
        "\n",
        "# Display a sample of the data\n",
        "location_df = pd.DataFrame(location_data)\n",
        "if len(location_df) > 0:\n",
        "    display(location_df.head())"
      ]
    },
    {
      "cell_type": "markdown",
      "metadata": {},
      "source": [
        "## Extract Mood Data\n",
        "\n",
        "Extract mood logging data from GameBus. This includes valence_state_value, arousal_state_value, stress_state_value, and event_timestamp."
      ]
    },
    {
      "cell_type": "code",
      "execution_count": 29,
      "metadata": {},
      "outputs": [
        {
          "name": "stdout",
          "output_type": "stream",
          "text": [
            "Collected 24 mood data points\n",
            "Data saved to c:\\Users\\20236075\\OneDrive - TU Eindhoven\\Documents\\GitHub\\GameBus-HealthBehaviorMining\\data\\raw\\player_107631_mood.json\n"
          ]
        },
        {
          "data": {
            "text/html": [
              "<div>\n",
              "<style scoped>\n",
              "    .dataframe tbody tr th:only-of-type {\n",
              "        vertical-align: middle;\n",
              "    }\n",
              "\n",
              "    .dataframe tbody tr th {\n",
              "        vertical-align: top;\n",
              "    }\n",
              "\n",
              "    .dataframe thead th {\n",
              "        text-align: right;\n",
              "    }\n",
              "</style>\n",
              "<table border=\"1\" class=\"dataframe\">\n",
              "  <thead>\n",
              "    <tr style=\"text-align: right;\">\n",
              "      <th></th>\n",
              "      <th>VALENCE_STATE_VALUE</th>\n",
              "      <th>AROUSAL_STATE_VALUE</th>\n",
              "      <th>STRESS_STATE_VALUE</th>\n",
              "      <th>EVENT_TIMESTAMP</th>\n",
              "      <th>activity_id</th>\n",
              "      <th>date</th>\n",
              "      <th>gameDescriptor</th>\n",
              "    </tr>\n",
              "  </thead>\n",
              "  <tbody>\n",
              "    <tr>\n",
              "      <th>0</th>\n",
              "      <td>5</td>\n",
              "      <td>5</td>\n",
              "      <td>5</td>\n",
              "      <td>1746698899702</td>\n",
              "      <td>3329190</td>\n",
              "      <td>1746700244000</td>\n",
              "      <td>LOG_MOOD</td>\n",
              "    </tr>\n",
              "    <tr>\n",
              "      <th>1</th>\n",
              "      <td>5</td>\n",
              "      <td>5</td>\n",
              "      <td>5</td>\n",
              "      <td>1745773701931</td>\n",
              "      <td>3308348</td>\n",
              "      <td>1746041731000</td>\n",
              "      <td>LOG_MOOD</td>\n",
              "    </tr>\n",
              "    <tr>\n",
              "      <th>2</th>\n",
              "      <td>5</td>\n",
              "      <td>5</td>\n",
              "      <td>5</td>\n",
              "      <td>1745773655824</td>\n",
              "      <td>3308316</td>\n",
              "      <td>1746040763000</td>\n",
              "      <td>LOG_MOOD</td>\n",
              "    </tr>\n",
              "    <tr>\n",
              "      <th>3</th>\n",
              "      <td>6</td>\n",
              "      <td>7</td>\n",
              "      <td>8</td>\n",
              "      <td>1744385153147</td>\n",
              "      <td>3281465</td>\n",
              "      <td>1745862466000</td>\n",
              "      <td>LOG_MOOD</td>\n",
              "    </tr>\n",
              "    <tr>\n",
              "      <th>4</th>\n",
              "      <td>6</td>\n",
              "      <td>6</td>\n",
              "      <td>6</td>\n",
              "      <td>1744374335208</td>\n",
              "      <td>3279901</td>\n",
              "      <td>1745853529000</td>\n",
              "      <td>LOG_MOOD</td>\n",
              "    </tr>\n",
              "  </tbody>\n",
              "</table>\n",
              "</div>"
            ],
            "text/plain": [
              "  VALENCE_STATE_VALUE AROUSAL_STATE_VALUE STRESS_STATE_VALUE EVENT_TIMESTAMP  \\\n",
              "0                   5                   5                  5   1746698899702   \n",
              "1                   5                   5                  5   1745773701931   \n",
              "2                   5                   5                  5   1745773655824   \n",
              "3                   6                   7                  8   1744385153147   \n",
              "4                   6                   6                  6   1744374335208   \n",
              "\n",
              "   activity_id           date gameDescriptor  \n",
              "0      3329190  1746700244000       LOG_MOOD  \n",
              "1      3308348  1746041731000       LOG_MOOD  \n",
              "2      3308316  1746040763000       LOG_MOOD  \n",
              "3      3281465  1745862466000       LOG_MOOD  \n",
              "4      3279901  1745853529000       LOG_MOOD  "
            ]
          },
          "metadata": {},
          "output_type": "display_data"
        }
      ],
      "source": [
        "# Create a mood data collector\n",
        "mood_collector = MoodDataCollector(client, token, player_id)\n",
        "\n",
        "# Collect mood data\n",
        "mood_data, mood_file = mood_collector.collect()\n",
        "\n",
        "print(f\"Collected {len(mood_data)} mood data points\")\n",
        "print(f\"Data saved to {mood_file}\")\n",
        "\n",
        "# Display a sample of the data\n",
        "mood_df = pd.DataFrame(mood_data)\n",
        "if len(mood_df) > 0:\n",
        "    display(mood_df.head())"
      ]
    },
    {
      "cell_type": "markdown",
      "metadata": {},
      "source": [
        "## Extract Activity Type Data\n",
        "\n",
        "Extract activity type data from GameBus. This includes src, ts (timestamp), type, speed, steps, walks, runs, freq, distance, and cals."
      ]
    },
    {
      "cell_type": "code",
      "execution_count": 30,
      "metadata": {},
      "outputs": [
        {
          "name": "stdout",
          "output_type": "stream",
          "text": [
            "Collected 972 activity data points\n",
            "Data saved to c:\\Users\\20236075\\OneDrive - TU Eindhoven\\Documents\\GitHub\\GameBus-HealthBehaviorMining\\data\\raw\\player_107631_activity_type.json\n"
          ]
        },
        {
          "data": {
            "text/html": [
              "<div>\n",
              "<style scoped>\n",
              "    .dataframe tbody tr th:only-of-type {\n",
              "        vertical-align: middle;\n",
              "    }\n",
              "\n",
              "    .dataframe tbody tr th {\n",
              "        vertical-align: top;\n",
              "    }\n",
              "\n",
              "    .dataframe thead th {\n",
              "        text-align: right;\n",
              "    }\n",
              "</style>\n",
              "<table border=\"1\" class=\"dataframe\">\n",
              "  <thead>\n",
              "    <tr style=\"text-align: right;\">\n",
              "      <th></th>\n",
              "      <th>src</th>\n",
              "      <th>ts</th>\n",
              "      <th>type</th>\n",
              "      <th>speed</th>\n",
              "      <th>steps</th>\n",
              "      <th>walks</th>\n",
              "      <th>runs</th>\n",
              "      <th>freq</th>\n",
              "      <th>distance</th>\n",
              "      <th>cals</th>\n",
              "      <th>activity_id</th>\n",
              "      <th>activity_date</th>\n",
              "    </tr>\n",
              "  </thead>\n",
              "  <tbody>\n",
              "    <tr>\n",
              "      <th>0</th>\n",
              "      <td>p</td>\n",
              "      <td>1746700033743</td>\n",
              "      <td>NOT_MOVING</td>\n",
              "      <td>0.0</td>\n",
              "      <td>0.0</td>\n",
              "      <td>0.0</td>\n",
              "      <td>0.0</td>\n",
              "      <td>0.0</td>\n",
              "      <td>0.0</td>\n",
              "      <td>0.0</td>\n",
              "      <td>3329201</td>\n",
              "      <td>1746700034000</td>\n",
              "    </tr>\n",
              "    <tr>\n",
              "      <th>1</th>\n",
              "      <td>p</td>\n",
              "      <td>1746698877188</td>\n",
              "      <td>NOT_MOVING</td>\n",
              "      <td>0.0</td>\n",
              "      <td>0.0</td>\n",
              "      <td>0.0</td>\n",
              "      <td>0.0</td>\n",
              "      <td>0.0</td>\n",
              "      <td>0.0</td>\n",
              "      <td>0.0</td>\n",
              "      <td>3329187</td>\n",
              "      <td>1746698877000</td>\n",
              "    </tr>\n",
              "    <tr>\n",
              "      <th>2</th>\n",
              "      <td>p</td>\n",
              "      <td>1745804099854</td>\n",
              "      <td>NOT_MOVING</td>\n",
              "      <td>0.0</td>\n",
              "      <td>0.0</td>\n",
              "      <td>0.0</td>\n",
              "      <td>0.0</td>\n",
              "      <td>0.0</td>\n",
              "      <td>0.0</td>\n",
              "      <td>0.0</td>\n",
              "      <td>3312954</td>\n",
              "      <td>1745804100000</td>\n",
              "    </tr>\n",
              "    <tr>\n",
              "      <th>3</th>\n",
              "      <td>p</td>\n",
              "      <td>1745802899849</td>\n",
              "      <td>NOT_MOVING</td>\n",
              "      <td>0.0</td>\n",
              "      <td>0.0</td>\n",
              "      <td>0.0</td>\n",
              "      <td>0.0</td>\n",
              "      <td>0.0</td>\n",
              "      <td>0.0</td>\n",
              "      <td>0.0</td>\n",
              "      <td>3311118</td>\n",
              "      <td>1745802900000</td>\n",
              "    </tr>\n",
              "    <tr>\n",
              "      <th>4</th>\n",
              "      <td>p</td>\n",
              "      <td>1745801699815</td>\n",
              "      <td>NOT_MOVING</td>\n",
              "      <td>0.0</td>\n",
              "      <td>0.0</td>\n",
              "      <td>0.0</td>\n",
              "      <td>0.0</td>\n",
              "      <td>0.0</td>\n",
              "      <td>0.0</td>\n",
              "      <td>0.0</td>\n",
              "      <td>3311065</td>\n",
              "      <td>1745801700000</td>\n",
              "    </tr>\n",
              "  </tbody>\n",
              "</table>\n",
              "</div>"
            ],
            "text/plain": [
              "  src             ts        type  speed  steps  walks  runs  freq  distance  \\\n",
              "0   p  1746700033743  NOT_MOVING    0.0    0.0    0.0   0.0   0.0       0.0   \n",
              "1   p  1746698877188  NOT_MOVING    0.0    0.0    0.0   0.0   0.0       0.0   \n",
              "2   p  1745804099854  NOT_MOVING    0.0    0.0    0.0   0.0   0.0       0.0   \n",
              "3   p  1745802899849  NOT_MOVING    0.0    0.0    0.0   0.0   0.0       0.0   \n",
              "4   p  1745801699815  NOT_MOVING    0.0    0.0    0.0   0.0   0.0       0.0   \n",
              "\n",
              "   cals  activity_id  activity_date  \n",
              "0   0.0      3329201  1746700034000  \n",
              "1   0.0      3329187  1746698877000  \n",
              "2   0.0      3312954  1745804100000  \n",
              "3   0.0      3311118  1745802900000  \n",
              "4   0.0      3311065  1745801700000  "
            ]
          },
          "metadata": {},
          "output_type": "display_data"
        }
      ],
      "source": [
        "# Create an activity type data collector\n",
        "activity_collector = ActivityTypeDataCollector(client, token, player_id)\n",
        "\n",
        "# Collect activity type data\n",
        "activity_data, activity_file = activity_collector.collect()\n",
        "\n",
        "print(f\"Collected {len(activity_data)} activity data points\")\n",
        "print(f\"Data saved to {activity_file}\")\n",
        "\n",
        "# Display a sample of the data\n",
        "activity_df = pd.DataFrame(activity_data)\n",
        "if len(activity_df) > 0:\n",
        "    display(activity_df.head())"
      ]
    },
    {
      "cell_type": "markdown",
      "metadata": {},
      "source": [
        "## Extract Heart Rate Data\n",
        "\n",
        "Extract heart rate monitoring data from GameBus. This includes ts (timestamp), hr (heartrate), and pp."
      ]
    },
    {
      "cell_type": "code",
      "execution_count": 31,
      "metadata": {},
      "outputs": [
        {
          "name": "stdout",
          "output_type": "stream",
          "text": [
            "Collected 499613 heart rate data points\n",
            "Data saved to c:\\Users\\20236075\\OneDrive - TU Eindhoven\\Documents\\GitHub\\GameBus-HealthBehaviorMining\\data\\raw\\player_107631_heartrate.json\n"
          ]
        },
        {
          "data": {
            "text/html": [
              "<div>\n",
              "<style scoped>\n",
              "    .dataframe tbody tr th:only-of-type {\n",
              "        vertical-align: middle;\n",
              "    }\n",
              "\n",
              "    .dataframe tbody tr th {\n",
              "        vertical-align: top;\n",
              "    }\n",
              "\n",
              "    .dataframe thead th {\n",
              "        text-align: right;\n",
              "    }\n",
              "</style>\n",
              "<table border=\"1\" class=\"dataframe\">\n",
              "  <thead>\n",
              "    <tr style=\"text-align: right;\">\n",
              "      <th></th>\n",
              "      <th>ts</th>\n",
              "      <th>hr</th>\n",
              "      <th>pp</th>\n",
              "      <th>activity_id</th>\n",
              "      <th>activity_date</th>\n",
              "    </tr>\n",
              "  </thead>\n",
              "  <tbody>\n",
              "    <tr>\n",
              "      <th>0</th>\n",
              "      <td>1746699959765</td>\n",
              "      <td>89</td>\n",
              "      <td>0</td>\n",
              "      <td>3329194</td>\n",
              "      <td>1746700005000</td>\n",
              "    </tr>\n",
              "    <tr>\n",
              "      <th>1</th>\n",
              "      <td>1746699959765</td>\n",
              "      <td>89</td>\n",
              "      <td>0</td>\n",
              "      <td>3329194</td>\n",
              "      <td>1746700005000</td>\n",
              "    </tr>\n",
              "    <tr>\n",
              "      <th>2</th>\n",
              "      <td>1746699960738</td>\n",
              "      <td>89</td>\n",
              "      <td>0</td>\n",
              "      <td>3329194</td>\n",
              "      <td>1746700005000</td>\n",
              "    </tr>\n",
              "    <tr>\n",
              "      <th>3</th>\n",
              "      <td>1746699960741</td>\n",
              "      <td>89</td>\n",
              "      <td>0</td>\n",
              "      <td>3329194</td>\n",
              "      <td>1746700005000</td>\n",
              "    </tr>\n",
              "    <tr>\n",
              "      <th>4</th>\n",
              "      <td>1746699960742</td>\n",
              "      <td>89</td>\n",
              "      <td>0</td>\n",
              "      <td>3329194</td>\n",
              "      <td>1746700005000</td>\n",
              "    </tr>\n",
              "  </tbody>\n",
              "</table>\n",
              "</div>"
            ],
            "text/plain": [
              "              ts  hr  pp  activity_id  activity_date\n",
              "0  1746699959765  89   0      3329194  1746700005000\n",
              "1  1746699959765  89   0      3329194  1746700005000\n",
              "2  1746699960738  89   0      3329194  1746700005000\n",
              "3  1746699960741  89   0      3329194  1746700005000\n",
              "4  1746699960742  89   0      3329194  1746700005000"
            ]
          },
          "metadata": {},
          "output_type": "display_data"
        }
      ],
      "source": [
        "# Create a heart rate data collector\n",
        "heartrate_collector = HeartRateDataCollector(client, token, player_id)\n",
        "\n",
        "# Collect heart rate data\n",
        "heartrate_data, heartrate_file = heartrate_collector.collect()\n",
        "\n",
        "print(f\"Collected {len(heartrate_data)} heart rate data points\")\n",
        "print(f\"Data saved to {heartrate_file}\")\n",
        "\n",
        "# Display a sample of the data\n",
        "heartrate_df = pd.DataFrame(heartrate_data)\n",
        "if len(heartrate_df) > 0:\n",
        "    display(heartrate_df.head())"
      ]
    },
    {
      "cell_type": "markdown",
      "metadata": {},
      "source": [
        "## Extract Accelerometer Data\n",
        "\n",
        "Extract accelerometer data from GameBus. This includes ts (timestamp), x axis, y axis, and z axis."
      ]
    },
    {
      "cell_type": "code",
      "execution_count": 32,
      "metadata": {},
      "outputs": [
        {
          "name": "stdout",
          "output_type": "stream",
          "text": [
            "Collected 1236449 accelerometer data points\n",
            "Data saved to c:\\Users\\20236075\\OneDrive - TU Eindhoven\\Documents\\GitHub\\GameBus-HealthBehaviorMining\\data\\raw\\player_107631_accelerometer.json\n"
          ]
        },
        {
          "data": {
            "text/html": [
              "<div>\n",
              "<style scoped>\n",
              "    .dataframe tbody tr th:only-of-type {\n",
              "        vertical-align: middle;\n",
              "    }\n",
              "\n",
              "    .dataframe tbody tr th {\n",
              "        vertical-align: top;\n",
              "    }\n",
              "\n",
              "    .dataframe thead th {\n",
              "        text-align: right;\n",
              "    }\n",
              "</style>\n",
              "<table border=\"1\" class=\"dataframe\">\n",
              "  <thead>\n",
              "    <tr style=\"text-align: right;\">\n",
              "      <th></th>\n",
              "      <th>ts</th>\n",
              "      <th>x</th>\n",
              "      <th>y</th>\n",
              "      <th>z</th>\n",
              "      <th>activity_id</th>\n",
              "      <th>activity_date</th>\n",
              "    </tr>\n",
              "  </thead>\n",
              "  <tbody>\n",
              "    <tr>\n",
              "      <th>0</th>\n",
              "      <td>1746699945090</td>\n",
              "      <td>1.421337</td>\n",
              "      <td>3.960121</td>\n",
              "      <td>8.697910</td>\n",
              "      <td>3329196</td>\n",
              "      <td>1746700005000</td>\n",
              "    </tr>\n",
              "    <tr>\n",
              "      <th>1</th>\n",
              "      <td>1746699945091</td>\n",
              "      <td>1.292124</td>\n",
              "      <td>3.981657</td>\n",
              "      <td>8.662018</td>\n",
              "      <td>3329196</td>\n",
              "      <td>1746700005000</td>\n",
              "    </tr>\n",
              "    <tr>\n",
              "      <th>2</th>\n",
              "      <td>1746699945099</td>\n",
              "      <td>1.225125</td>\n",
              "      <td>4.000800</td>\n",
              "      <td>8.664411</td>\n",
              "      <td>3329196</td>\n",
              "      <td>1746700005000</td>\n",
              "    </tr>\n",
              "    <tr>\n",
              "      <th>3</th>\n",
              "      <td>1746699945103</td>\n",
              "      <td>1.258625</td>\n",
              "      <td>3.979264</td>\n",
              "      <td>8.504091</td>\n",
              "      <td>3329196</td>\n",
              "      <td>1746700005000</td>\n",
              "    </tr>\n",
              "    <tr>\n",
              "      <th>4</th>\n",
              "      <td>1746699945103</td>\n",
              "      <td>1.320838</td>\n",
              "      <td>3.900301</td>\n",
              "      <td>8.561519</td>\n",
              "      <td>3329196</td>\n",
              "      <td>1746700005000</td>\n",
              "    </tr>\n",
              "  </tbody>\n",
              "</table>\n",
              "</div>"
            ],
            "text/plain": [
              "              ts         x         y         z  activity_id  activity_date\n",
              "0  1746699945090  1.421337  3.960121  8.697910      3329196  1746700005000\n",
              "1  1746699945091  1.292124  3.981657  8.662018      3329196  1746700005000\n",
              "2  1746699945099  1.225125  4.000800  8.664411      3329196  1746700005000\n",
              "3  1746699945103  1.258625  3.979264  8.504091      3329196  1746700005000\n",
              "4  1746699945103  1.320838  3.900301  8.561519      3329196  1746700005000"
            ]
          },
          "metadata": {},
          "output_type": "display_data"
        }
      ],
      "source": [
        "# Create an accelerometer data collector\n",
        "accelerometer_collector = AccelerometerDataCollector(client, token, player_id)\n",
        "\n",
        "# Collect accelerometer data\n",
        "accelerometer_data, accelerometer_file = accelerometer_collector.collect()\n",
        "\n",
        "print(f\"Collected {len(accelerometer_data)} accelerometer data points\")\n",
        "print(f\"Data saved to {accelerometer_file}\")\n",
        "\n",
        "# Display a sample of the data\n",
        "accelerometer_df = pd.DataFrame(accelerometer_data)\n",
        "if len(accelerometer_df) > 0:\n",
        "    display(accelerometer_df.head())"
      ]
    },
    {
      "cell_type": "markdown",
      "metadata": {},
      "source": [
        "## Extract Notification Data\n",
        "\n",
        "Extract notification data from GameBus. This includes action (e.g., received, read) and event_timestamp."
      ]
    },
    {
      "cell_type": "code",
      "execution_count": 33,
      "metadata": {},
      "outputs": [
        {
          "name": "stdout",
          "output_type": "stream",
          "text": [
            "Collected 66 notification data points\n",
            "Data saved to c:\\Users\\20236075\\OneDrive - TU Eindhoven\\Documents\\GitHub\\GameBus-HealthBehaviorMining\\data\\raw\\player_107631_notifications.json\n"
          ]
        },
        {
          "data": {
            "text/html": [
              "<div>\n",
              "<style scoped>\n",
              "    .dataframe tbody tr th:only-of-type {\n",
              "        vertical-align: middle;\n",
              "    }\n",
              "\n",
              "    .dataframe tbody tr th {\n",
              "        vertical-align: top;\n",
              "    }\n",
              "\n",
              "    .dataframe thead th {\n",
              "        text-align: right;\n",
              "    }\n",
              "</style>\n",
              "<table border=\"1\" class=\"dataframe\">\n",
              "  <thead>\n",
              "    <tr style=\"text-align: right;\">\n",
              "      <th></th>\n",
              "      <th>ACTION</th>\n",
              "      <th>EVENT_TIMESTAMP</th>\n",
              "      <th>activity_id</th>\n",
              "      <th>date</th>\n",
              "      <th>gameDescriptor</th>\n",
              "    </tr>\n",
              "  </thead>\n",
              "  <tbody>\n",
              "    <tr>\n",
              "      <th>0</th>\n",
              "      <td>READ</td>\n",
              "      <td>1746698896360</td>\n",
              "      <td>3329189</td>\n",
              "      <td>1746698896000</td>\n",
              "      <td>NOTIFICATION(DETAIL)</td>\n",
              "    </tr>\n",
              "    <tr>\n",
              "      <th>1</th>\n",
              "      <td>RECEIVED</td>\n",
              "      <td>1746698878550</td>\n",
              "      <td>3329188</td>\n",
              "      <td>1746698879000</td>\n",
              "      <td>NOTIFICATION(DETAIL)</td>\n",
              "    </tr>\n",
              "    <tr>\n",
              "      <th>2</th>\n",
              "      <td>RECEIVED</td>\n",
              "      <td>1745776500048</td>\n",
              "      <td>3308408</td>\n",
              "      <td>1745776500000</td>\n",
              "      <td>NOTIFICATION(DETAIL)</td>\n",
              "    </tr>\n",
              "    <tr>\n",
              "      <th>3</th>\n",
              "      <td>READ</td>\n",
              "      <td>1745773698947</td>\n",
              "      <td>3308346</td>\n",
              "      <td>1745773699000</td>\n",
              "      <td>NOTIFICATION(DETAIL)</td>\n",
              "    </tr>\n",
              "    <tr>\n",
              "      <th>4</th>\n",
              "      <td>READ</td>\n",
              "      <td>1745773650939</td>\n",
              "      <td>3308314</td>\n",
              "      <td>1745773651000</td>\n",
              "      <td>NOTIFICATION(DETAIL)</td>\n",
              "    </tr>\n",
              "  </tbody>\n",
              "</table>\n",
              "</div>"
            ],
            "text/plain": [
              "     ACTION EVENT_TIMESTAMP  activity_id           date        gameDescriptor\n",
              "0      READ   1746698896360      3329189  1746698896000  NOTIFICATION(DETAIL)\n",
              "1  RECEIVED   1746698878550      3329188  1746698879000  NOTIFICATION(DETAIL)\n",
              "2  RECEIVED   1745776500048      3308408  1745776500000  NOTIFICATION(DETAIL)\n",
              "3      READ   1745773698947      3308346  1745773699000  NOTIFICATION(DETAIL)\n",
              "4      READ   1745773650939      3308314  1745773651000  NOTIFICATION(DETAIL)"
            ]
          },
          "metadata": {},
          "output_type": "display_data"
        }
      ],
      "source": [
        "# Create a notification data collector\n",
        "notification_collector = NotificationDataCollector(client, token, player_id)\n",
        "\n",
        "# Collect notification data\n",
        "notification_data, notification_file = notification_collector.collect()\n",
        "\n",
        "print(f\"Collected {len(notification_data)} notification data points\")\n",
        "print(f\"Data saved to {notification_file}\")\n",
        "\n",
        "# Display a sample of the data\n",
        "notification_df = pd.DataFrame(notification_data)\n",
        "if len(notification_df) > 0:\n",
        "    display(notification_df.head())"
      ]
    },
    {
      "cell_type": "markdown",
      "metadata": {},
      "source": [
        "## Summary\n",
        "\n",
        "Let's summarize all the data we've collected."
      ]
    },
    {
      "cell_type": "code",
      "execution_count": 34,
      "metadata": {},
      "outputs": [
        {
          "data": {
            "text/html": [
              "<div>\n",
              "<style scoped>\n",
              "    .dataframe tbody tr th:only-of-type {\n",
              "        vertical-align: middle;\n",
              "    }\n",
              "\n",
              "    .dataframe tbody tr th {\n",
              "        vertical-align: top;\n",
              "    }\n",
              "\n",
              "    .dataframe thead th {\n",
              "        text-align: right;\n",
              "    }\n",
              "</style>\n",
              "<table border=\"1\" class=\"dataframe\">\n",
              "  <thead>\n",
              "    <tr style=\"text-align: right;\">\n",
              "      <th></th>\n",
              "      <th>Data Type</th>\n",
              "      <th>Count</th>\n",
              "    </tr>\n",
              "  </thead>\n",
              "  <tbody>\n",
              "    <tr>\n",
              "      <th>0</th>\n",
              "      <td>Location</td>\n",
              "      <td>9855</td>\n",
              "    </tr>\n",
              "    <tr>\n",
              "      <th>1</th>\n",
              "      <td>Mood</td>\n",
              "      <td>24</td>\n",
              "    </tr>\n",
              "    <tr>\n",
              "      <th>2</th>\n",
              "      <td>Activity</td>\n",
              "      <td>972</td>\n",
              "    </tr>\n",
              "    <tr>\n",
              "      <th>3</th>\n",
              "      <td>Heart Rate</td>\n",
              "      <td>499613</td>\n",
              "    </tr>\n",
              "    <tr>\n",
              "      <th>4</th>\n",
              "      <td>Accelerometer</td>\n",
              "      <td>1236449</td>\n",
              "    </tr>\n",
              "    <tr>\n",
              "      <th>5</th>\n",
              "      <td>Notification</td>\n",
              "      <td>66</td>\n",
              "    </tr>\n",
              "  </tbody>\n",
              "</table>\n",
              "</div>"
            ],
            "text/plain": [
              "       Data Type    Count\n",
              "0       Location     9855\n",
              "1           Mood       24\n",
              "2       Activity      972\n",
              "3     Heart Rate   499613\n",
              "4  Accelerometer  1236449\n",
              "5   Notification       66"
            ]
          },
          "metadata": {},
          "output_type": "display_data"
        },
        {
          "name": "stdout",
          "output_type": "stream",
          "text": [
            "\n",
            "Total data points collected: 1746979\n"
          ]
        }
      ],
      "source": [
        "# Create a summary of collected data\n",
        "summary = {\n",
        "    \"Location\": len(location_data),\n",
        "    \"Mood\": len(mood_data),\n",
        "    \"Activity\": len(activity_data),\n",
        "    \"Heart Rate\": len(heartrate_data),\n",
        "    \"Accelerometer\": len(accelerometer_data),\n",
        "    \"Notification\": len(notification_data)\n",
        "}\n",
        "\n",
        "summary_df = pd.DataFrame({\n",
        "    \"Data Type\": list(summary.keys()),\n",
        "    \"Count\": list(summary.values())\n",
        "})\n",
        "\n",
        "# Display summary\n",
        "display(summary_df)\n",
        "\n",
        "print(f\"\\nTotal data points collected: {sum(summary.values())}\")"
      ]
    },
    {
      "cell_type": "markdown",
      "metadata": {},
      "source": [
        "## Next Steps\n",
        "\n",
        "Now that we have extracted the raw data from GameBus, the next steps would be:\n",
        "\n",
        "1. **Preprocessing**: Clean and normalize the data, handle missing values, synchronize timestamps, etc.\n",
        "2. **Activity Recognition**: Recognize human activities from the sensor data using machine learning techniques.\n",
        "3. **OCEL Generation**: Transform the preprocessed data and recognized activities into the Object-Centric Event Log (OCEL) format for process mining.\n",
        "\n",
        "These steps will be covered in the subsequent notebooks."
      ]
    }
  ],
  "metadata": {
    "kernelspec": {
      "display_name": "Python 3",
      "language": "python",
      "name": "python3"
    },
    "language_info": {
      "codemirror_mode": {
        "name": "ipython",
        "version": 3
      },
      "file_extension": ".py",
      "mimetype": "text/x-python",
      "name": "python",
      "nbconvert_exporter": "python",
      "pygments_lexer": "ipython3",
      "version": "3.12.5"
    }
  },
  "nbformat": 4,
  "nbformat_minor": 4
}
