{
 "cells": [
  {
   "cell_type": "markdown",
   "id": "60d9bdbe",
   "metadata": {},
   "source": [
    "# 01.9 Data Extraction - Link Bout and Self-Report Objects and Events\n",
    "\n",
    "This notebook demonstrates how to link physical activity bout events to stress self-report objects by finding the closest mood events within a configurable time period that occur AFTER the bout events\n",
    "It also links self-report events to physical activity bout objects"
   ]
  },
  {
   "cell_type": "markdown",
   "id": "64e04b05",
   "metadata": {},
   "source": [
    "## Setup"
   ]
  },
  {
   "cell_type": "code",
   "execution_count": 1,
   "id": "67fad6c8",
   "metadata": {},
   "outputs": [],
   "source": [
    "from datetime import timedelta\n",
    "import sys\n",
    "sys.path.append('..')\n",
    "# Import project modules\n",
    "from src.oced.oced_data_query import OCEDDataQuery\n",
    "from src.oced.bout_events import BoutEventManager"
   ]
  },
  {
   "cell_type": "markdown",
   "id": "2c206104",
   "metadata": {},
   "source": [
    "## Load OCED Data"
   ]
  },
  {
   "cell_type": "code",
   "execution_count": 2,
   "id": "1276bed2",
   "metadata": {},
   "outputs": [],
   "source": [
    "# Get OCED Data from JSON File\n",
    "dataQuery = OCEDDataQuery()  \n",
    "oced_data_file = f\"player_107631_oced_data_time_bouts_notifications_stress_location_linked.json\"\n",
    "data_dict = dataQuery.load_json(oced_data_file)"
   ]
  },
  {
   "cell_type": "markdown",
   "id": "276a3348",
   "metadata": {},
   "source": [
    "## Initialize Bout Event Manager"
   ]
  },
  {
   "cell_type": "code",
   "execution_count": 3,
   "id": "b042cbbb",
   "metadata": {},
   "outputs": [],
   "source": [
    "bout_manager = BoutEventManager()"
   ]
  },
  {
   "cell_type": "markdown",
   "id": "f7f4fe75",
   "metadata": {},
   "source": [
    "## Link Bout Events to Report Objects\n",
    "\n",
    "For each physical activity bout event, find the closest mood event within a 2-hour period (configurable) that occurs AFTER the bout event. If a mood event is found, find its related stress self-report object and relate the bout event to this object."
   ]
  },
  {
   "cell_type": "code",
   "execution_count": 4,
   "id": "899b20fb",
   "metadata": {},
   "outputs": [
    {
     "name": "stdout",
     "output_type": "stream",
     "text": [
      "\n",
      "Processing 132 bout START events\n",
      "Looking for mood events within 3:00:00 AFTER each bout START event\n"
     ]
    },
    {
     "name": "stderr",
     "output_type": "stream",
     "text": [
      "Linking bout events to report objects: 100%|██████████| 132/132 [00:03<00:00, 33.53it/s]"
     ]
    },
    {
     "name": "stdout",
     "output_type": "stream",
     "text": [
      "\n",
      "Linking complete:\n",
      "- Linked 158 bout events (both START and END) to stress_self_report objects\n",
      "- Time window used: 3:00:00\n",
      "- Processed 132 START events to find corresponding END events\n",
      "Number of bout events now linked to stress_self_report objects: 158\n"
     ]
    },
    {
     "name": "stderr",
     "output_type": "stream",
     "text": [
      "\n"
     ]
    }
   ],
   "source": [
    "# Link bout events to report objects with default 2-hour time window\n",
    "extended_data = bout_manager.link_bout_events_to_report_objects(data_dict)\n",
    "\n",
    "# Check results\n",
    "linked_bout_events = [\n",
    "    event for event in extended_data.get('behaviorEvents', [])\n",
    "    if event.get('behaviorEventType') == 'physical_activity_bout' and any(\n",
    "        rel['qualifier'] == 'related_to_report' for rel in event.get('relationships', [])\n",
    "    )\n",
    "]\n",
    "print(f\"Number of bout events now linked to stress_self_report objects: {len(linked_bout_events)}\")"
   ]
  },
  {
   "cell_type": "markdown",
   "id": "adb1d254",
   "metadata": {},
   "source": [
    "## Link Self-Report Events to Bout Objects\n",
    "\n",
    "Now we'll add the reverse relationship: for each self-report event, find its related self-report object, check if that object is related to any physical activity event, and if so, link the self-report event to the bout object."
   ]
  },
  {
   "cell_type": "code",
   "execution_count": 5,
   "id": "5165c8e2",
   "metadata": {},
   "outputs": [
    {
     "name": "stdout",
     "output_type": "stream",
     "text": [
      "\n",
      "Processing 76 mood events\n",
      "Linking mood events to physical activity bout objects...\n"
     ]
    },
    {
     "name": "stderr",
     "output_type": "stream",
     "text": [
      "Linking mood events to bout objects: 100%|██████████| 76/76 [00:00<00:00, 8373.84it/s]"
     ]
    },
    {
     "name": "stdout",
     "output_type": "stream",
     "text": [
      "\n",
      "Linking complete:\n",
      "- Linked 79 mood events to physical activity bout objects\n",
      "- Total relationships created: 79\n",
      "- Relationship qualifier used: 'influenced_by'\n",
      "- Each mood event can be linked to multiple bout objects\n",
      "Number of self-report events now linked to bout objects: 28\n"
     ]
    },
    {
     "name": "stderr",
     "output_type": "stream",
     "text": [
      "\n"
     ]
    }
   ],
   "source": [
    "# Link self-report events to bout objects (reverse relationship)\n",
    "extended_data = bout_manager.link_self_report_events_to_bout_objects(extended_data)\n",
    "\n",
    "# Check results\n",
    "linked_self_report_events = [\n",
    "    event for event in extended_data.get('behaviorEvents', [])\n",
    "    if event.get('behaviorEventType') == 'mood' and any(\n",
    "        rel['qualifier'] == 'influenced_by' for rel in event.get('relationships', [])\n",
    "    )\n",
    "]\n",
    "print(f\"Number of self-report events now linked to bout objects: {len(linked_self_report_events)}\")"
   ]
  },
  {
   "cell_type": "markdown",
   "id": "99cfe142",
   "metadata": {},
   "source": [
    "## Save Extended Data"
   ]
  },
  {
   "cell_type": "code",
   "execution_count": 6,
   "id": "0f1c108c",
   "metadata": {},
   "outputs": [
    {
     "name": "stdout",
     "output_type": "stream",
     "text": [
      "\n",
      "Saving extended data with:\n",
      "- 132 bout objects\n",
      "- 264 bout events (132 bouts)\n",
      "- 688 total objects\n",
      "- 1176 total behavior events\n",
      "Saved extended data to: c:\\Users\\20236075\\OneDrive - TU Eindhoven\\Documents\\GitHub\\GameBus-HealthBehaviorMining\\notebooks\\..\\data\\transformed\\player_107631_oced_data_time_bouts_notifications_stress_location_linked_bouts_reports_2.json\n"
     ]
    }
   ],
   "source": [
    "bout_manager.save_extended_data(\n",
    "    \"player_107631_oced_data_time_bouts_notifications_stress_location_linked_bouts_reports_2.json\", \n",
    "    extended_data\n",
    ")"
   ]
  }
 ],
 "metadata": {
  "kernelspec": {
   "display_name": "Python 3",
   "language": "python",
   "name": "python3"
  },
  "language_info": {
   "codemirror_mode": {
    "name": "ipython",
    "version": 3
   },
   "file_extension": ".py",
   "mimetype": "text/x-python",
   "name": "python",
   "nbconvert_exporter": "python",
   "pygments_lexer": "ipython3",
   "version": "3.12.5"
  }
 },
 "nbformat": 4,
 "nbformat_minor": 5
}
