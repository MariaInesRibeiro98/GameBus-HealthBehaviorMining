{
 "cells": [
  {
   "cell_type": "markdown",
   "metadata": {},
   "source": [
    "# OCEL Toy Example"
   ]
  },
  {
   "cell_type": "markdown",
   "metadata": {},
   "source": [
    "## 1. Setup "
   ]
  },
  {
   "cell_type": "code",
   "execution_count": 4,
   "metadata": {},
   "outputs": [],
   "source": [
    "import sys\n",
    "sys.path.append('..')\n",
    "import pm4py\n",
    "#from pm4py.objects.ocel.validation  import jsonocel \n",
    "from pm4py.objects.ocel.importer import jsonocel "
   ]
  },
  {
   "cell_type": "markdown",
   "metadata": {},
   "source": [
    "## 2. Import OCEL "
   ]
  },
  {
   "cell_type": "code",
   "execution_count": null,
   "metadata": {},
   "outputs": [
    {
     "name": "stdout",
     "output_type": "stream",
     "text": [
      "Object-Centric Event Log (number of events: 1176, number of objects: 481, number of activities: 4, number of object types: 6, events-objects relationships: 3060)\n",
      "Activities occurrences: Counter({'location_event': 678, 'physical_activity_bout': 264, 'notification': 158, 'mood': 76})\n",
      "Object types occurrences (number of objects): Counter({'location_segment': 140, 'physical_activity_bout': 132, 'notification': 104, 'stress_self_report': 76, 'day': 28, 'player': 1})\n",
      "Unique activities per object type: Counter({'day': 4, 'location_segment': 3, 'player': 3, 'notification': 1, 'physical_activity_bout': 1, 'stress_self_report': 1})\n",
      "Please use <THIS>.get_extended_table() to get a dataframe representation of the events related to the objects.\n"
     ]
    }
   ],
   "source": [
    "path = \"../data/ocel/ocel_data.jsonocel\"\n",
    "ocel_data = jsonocel.variants.ocel20_standard.apply(path) #read the ocel data\n",
    "print(ocel_data)"
   ]
  },
  {
   "cell_type": "markdown",
   "metadata": {},
   "source": []
  }
 ],
 "metadata": {
  "kernelspec": {
   "display_name": "Python 3",
   "language": "python",
   "name": "python3"
  },
  "language_info": {
   "codemirror_mode": {
    "name": "ipython",
    "version": 3
   },
   "file_extension": ".py",
   "mimetype": "text/x-python",
   "name": "python",
   "nbconvert_exporter": "python",
   "pygments_lexer": "ipython3",
   "version": "3.12.5"
  }
 },
 "nbformat": 4,
 "nbformat_minor": 2
}
