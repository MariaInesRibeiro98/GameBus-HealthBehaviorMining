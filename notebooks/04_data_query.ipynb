{
 "cells": [
  {
   "cell_type": "markdown",
   "metadata": {},
   "source": [
    "# Health Behavior Mining - OCED-mHealth Query\n",
    "\n",
    "This notebook demonstrates how to query event data from the OCED-mHealth format"
   ]
  },
  {
   "cell_type": "markdown",
   "metadata": {},
   "source": [
    "## Setup\n",
    "\n",
    "First, let's set up our environment and import the necessary modules."
   ]
  },
  {
   "cell_type": "code",
   "execution_count": 1,
   "metadata": {},
   "outputs": [],
   "source": [
    "import json\n",
    "import pandas as pd\n",
    "import numpy as np\n",
    "from pathlib import Path\n",
    "from typing import Optional, Union\n",
    "from datetime import datetime\n",
    "import logging\n",
    "import sys\n",
    "from pprint import pprint\n",
    "import datetime\n",
    "from pathlib import Path\n",
    "import os\n",
    "# Add the project root directory to the Python path\n",
    "sys.path.append('..')\n",
    "from concurrent.futures import ThreadPoolExecutor\n",
    "from src.data_loading.oced_data_query import OCEDDataQuery\n",
    "from src.data_loading.time_objects import TimeObject\n",
    "import ijson  # For streaming JSON parsing"
   ]
  },
  {
   "cell_type": "markdown",
   "metadata": {},
   "source": [
    "## Load OCED-mHealth Data from JSON File"
   ]
  },
  {
   "cell_type": "code",
   "execution_count": 2,
   "metadata": {},
   "outputs": [],
   "source": [
    "DataQuery = OCEDDataQuery()  \n",
    "oced_data_file = f\"oced_data.json\"\n",
    "data_dict = DataQuery.load_json(oced_data_file)"
   ]
  },
  {
   "cell_type": "markdown",
   "metadata": {},
   "source": [
    "## Add Time Objects to OCED-mHealth Data"
   ]
  },
  {
   "cell_type": "markdown",
   "metadata": {},
   "source": [
    "Add day objects"
   ]
  },
  {
   "cell_type": "code",
   "execution_count": 3,
   "metadata": {},
   "outputs": [
    {
     "name": "stdout",
     "output_type": "stream",
     "text": [
      "Day object type added.\n",
      "Total events collected: 3969535\n",
      "Original sensor events: 3969413\n",
      "Original behavior events: 122\n",
      "Extracting unique dates...\n"
     ]
    },
    {
     "name": "stderr",
     "output_type": "stream",
     "text": [
      "Processing timestamps: 100%|██████████| 3969535/3969535 [00:00<00:00, 4677221.87event/s]\n"
     ]
    },
    {
     "name": "stdout",
     "output_type": "stream",
     "text": [
      "Unique dates found: 24\n",
      "Creating date mapping...\n"
     ]
    },
    {
     "name": "stderr",
     "output_type": "stream",
     "text": [
      "Creating date mapping: 100%|██████████| 3969535/3969535 [00:09<00:00, 402650.20event/s]\n"
     ]
    },
    {
     "name": "stdout",
     "output_type": "stream",
     "text": [
      "Created 24 day objects\n"
     ]
    },
    {
     "name": "stderr",
     "output_type": "stream",
     "text": [
      "Adding relationships: 100%|██████████| 24/24 [00:00<00:00, 37.70date/s]\n"
     ]
    },
    {
     "name": "stdout",
     "output_type": "stream",
     "text": [
      "Added 3969535 relationships to events\n",
      "Verification - Events with relationships in extended_data:\n",
      "  Sensor events: 3969413\n",
      "  Behavior events: 122\n"
     ]
    }
   ],
   "source": [
    "timeObject = TimeObject()\n",
    "data_dict_t, objects_t = timeObject.create_day_objects(data_dict)"
   ]
  },
  {
   "cell_type": "code",
   "execution_count": 4,
   "metadata": {},
   "outputs": [
    {
     "name": "stdout",
     "output_type": "stream",
     "text": [
      "Saved extended data to: c:\\Users\\20236075\\OneDrive - TU Eindhoven\\Documents\\GitHub\\GameBus-HealthBehaviorMining\\notebooks\\..\\data\\oced\\oced_data_time.json\n"
     ]
    }
   ],
   "source": [
    "timeObject.save_extended_data(\"oced_data_time.json\", data_dict_t)"
   ]
  },
  {
   "cell_type": "markdown",
   "metadata": {},
   "source": [
    "Add week objects"
   ]
  },
  {
   "cell_type": "markdown",
   "metadata": {},
   "source": [
    "## Query User Object(s)\n",
    "Get user(s) objects based on GameBus player_id"
   ]
  },
  {
   "cell_type": "code",
   "execution_count": 4,
   "metadata": {},
   "outputs": [],
   "source": [
    "player_ids = [107631]\n",
    "player_objects = DataQuery.get_players_by_ids(player_ids)\n",
    "player_objects\n"
   ]
  },
  {
   "cell_type": "markdown",
   "metadata": {},
   "source": [
    "## Load User Data \n",
    "Loads sensor data of type accelerometer and heartrate. "
   ]
  },
  {
   "cell_type": "code",
   "execution_count": 2,
   "metadata": {},
   "outputs": [],
   "source": [
    "start_time = datetime.datetime(2025, 5, 15)\n",
    "end_time = datetime.datetime(2025, 5, 15)\n"
   ]
  },
  {
   "cell_type": "markdown",
   "metadata": {},
   "source": [
    "Load notification behavior events"
   ]
  },
  {
   "cell_type": "code",
   "execution_count": null,
   "metadata": {},
   "outputs": [],
   "source": [
    "notification_data_df = loader.get_notification_events(data_dict)\n",
    "notification_data_df.head()"
   ]
  },
  {
   "cell_type": "markdown",
   "metadata": {},
   "source": [
    "Load mood behavior events"
   ]
  },
  {
   "cell_type": "code",
   "execution_count": null,
   "metadata": {},
   "outputs": [],
   "source": [
    "mood_data_df = loader.get_mood_events(data_dict)\n",
    "mood_data_df.head()"
   ]
  },
  {
   "cell_type": "markdown",
   "metadata": {},
   "source": [
    "Load location sensor events"
   ]
  },
  {
   "cell_type": "code",
   "execution_count": null,
   "metadata": {},
   "outputs": [],
   "source": [
    "location_data_df = loader.get_location_events(data_dict)\n",
    "location_data_df.head()"
   ]
  },
  {
   "cell_type": "markdown",
   "metadata": {},
   "source": [
    "Load activity_type sensor events"
   ]
  },
  {
   "cell_type": "code",
   "execution_count": null,
   "metadata": {},
   "outputs": [],
   "source": [
    "activity_type_data_df = loader.get_activity_events(data_dict)\n",
    "activity_type_data_df.head()"
   ]
  },
  {
   "cell_type": "markdown",
   "metadata": {},
   "source": [
    "Load accelerometer sensor events"
   ]
  },
  {
   "cell_type": "code",
   "execution_count": null,
   "metadata": {},
   "outputs": [],
   "source": [
    "accelerometer_data_df = loader.get_accelerometer_events(data_dict)\n",
    "accelerometer_data_df.head()"
   ]
  },
  {
   "cell_type": "markdown",
   "metadata": {},
   "source": [
    "Load heartrate sensor events"
   ]
  },
  {
   "cell_type": "code",
   "execution_count": null,
   "metadata": {},
   "outputs": [],
   "source": [
    "heartrate_data_df = loader.get_heartrate_events(data_dict)\n",
    "heartrate_data_df.head()"
   ]
  }
 ],
 "metadata": {
  "kernelspec": {
   "display_name": "Python 3",
   "language": "python",
   "name": "python3"
  },
  "language_info": {
   "codemirror_mode": {
    "name": "ipython",
    "version": 3
   },
   "file_extension": ".py",
   "mimetype": "text/x-python",
   "name": "python",
   "nbconvert_exporter": "python",
   "pygments_lexer": "ipython3",
   "version": "3.12.5"
  }
 },
 "nbformat": 4,
 "nbformat_minor": 2
}
