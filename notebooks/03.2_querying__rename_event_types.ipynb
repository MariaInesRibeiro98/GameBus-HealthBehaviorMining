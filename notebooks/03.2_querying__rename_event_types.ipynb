{
 "cells": [
  {
   "cell_type": "markdown",
   "metadata": {},
   "source": [
    "# 03.2 Querying - Rename Event Types for the Toy Example\n",
    "\n",
    "This notebook handles naming of event types for the specific profile. Particularly: \n",
    "- Mood events --> stress_self_report events\n",
    "- Physical_activity_bout events with lifecycle attribute --> START and END events"
   ]
  },
  {
   "cell_type": "markdown",
   "metadata": {},
   "source": [
    "## Setup "
   ]
  },
  {
   "cell_type": "code",
   "execution_count": null,
   "metadata": {},
   "outputs": [],
   "source": [
    "import sys\n",
    "sys.path.append('..')"
   ]
  },
  {
   "cell_type": "markdown",
   "metadata": {},
   "source": [
    "## Import OCEL (standard)"
   ]
  },
  {
   "cell_type": "code",
   "execution_count": 2,
   "metadata": {},
   "outputs": [],
   "source": [
    "path = \"../data/ocel/standard_ocel_data_linked3.jsonocel\""
   ]
  },
  {
   "cell_type": "markdown",
   "metadata": {},
   "source": [
    "## Transform"
   ]
  },
  {
   "cell_type": "code",
   "execution_count": 3,
   "metadata": {},
   "outputs": [
    {
     "data": {
      "text/plain": [
       "{'total_events': 1176,\n",
       " 'event_types': {'stress_self_report': 76,\n",
       "  'notification': 158,\n",
       "  'physical_activity_bout_START': 132,\n",
       "  'physical_activity_bout_END': 132,\n",
       "  'location_event': 678},\n",
       " 'sensor_events': 0,\n",
       " 'behavior_events': 1176}"
      ]
     },
     "execution_count": 3,
     "metadata": {},
     "output_type": "execute_result"
    }
   ],
   "source": [
    "from src.oced.profile import OCEDProfile\n",
    "profile = OCEDProfile(path)\n",
    "\n",
    "# Create a complete transformed profile\n",
    "transformed = profile.create_transformed_profile(transform_mood=True, transform_physical_activity=True)\n",
    "\n",
    "# Get statistics of the transformed profile\n",
    "stats = profile.get_event_statistics(transformed)\n",
    "stats"
   ]
  },
  {
   "cell_type": "markdown",
   "metadata": {},
   "source": [
    "## Export"
   ]
  },
  {
   "cell_type": "code",
   "execution_count": 4,
   "metadata": {},
   "outputs": [],
   "source": [
    "# Save the result\n",
    "profile.save_profile(\"../data/ocel/standard_ocel_data_transformed.jsonocel\", transformed)"
   ]
  }
 ],
 "metadata": {
  "kernelspec": {
   "display_name": "Python 3",
   "language": "python",
   "name": "python3"
  },
  "language_info": {
   "codemirror_mode": {
    "name": "ipython",
    "version": 3
   },
   "file_extension": ".py",
   "mimetype": "text/x-python",
   "name": "python",
   "nbconvert_exporter": "python",
   "pygments_lexer": "ipython3",
   "version": "3.12.5"
  }
 },
 "nbformat": 4,
 "nbformat_minor": 2
}
