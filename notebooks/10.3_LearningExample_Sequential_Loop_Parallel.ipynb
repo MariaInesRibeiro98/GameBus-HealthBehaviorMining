{
 "cells": [
  {
   "cell_type": "markdown",
   "metadata": {},
   "source": [
    "# Petri Net Discovery: Sequencial & Loop & Parallel Workflow Patterns"
   ]
  },
  {
   "cell_type": "markdown",
   "metadata": {},
   "source": [
    "## Step 1: Setup"
   ]
  },
  {
   "cell_type": "code",
   "execution_count": 1,
   "metadata": {},
   "outputs": [],
   "source": [
    "import pandas as pd\n",
    "import pm4py\n",
    "from pm4py.objects.conversion.log import converter as log_converter\n",
    "from pm4py.objects.log.util import dataframe_utils\n",
    "from pm4py.algo.discovery.inductive import algorithm as inductive_miner\n",
    "from pm4py.visualization.petri_net import visualizer as pn_visualizer"
   ]
  },
  {
   "cell_type": "markdown",
   "metadata": {},
   "source": [
    "## Step 2: Load Event Log from CSV"
   ]
  },
  {
   "cell_type": "code",
   "execution_count": 2,
   "metadata": {},
   "outputs": [
    {
     "data": {
      "text/html": [
       "<div>\n",
       "<style scoped>\n",
       "    .dataframe tbody tr th:only-of-type {\n",
       "        vertical-align: middle;\n",
       "    }\n",
       "\n",
       "    .dataframe tbody tr th {\n",
       "        vertical-align: top;\n",
       "    }\n",
       "\n",
       "    .dataframe thead th {\n",
       "        text-align: right;\n",
       "    }\n",
       "</style>\n",
       "<table border=\"1\" class=\"dataframe\">\n",
       "  <thead>\n",
       "    <tr style=\"text-align: right;\">\n",
       "      <th></th>\n",
       "      <th>timestamp</th>\n",
       "      <th>stress</th>\n",
       "      <th>location</th>\n",
       "      <th>event_type</th>\n",
       "      <th>lifecycle</th>\n",
       "      <th>bout_type</th>\n",
       "      <th>action</th>\n",
       "      <th>day</th>\n",
       "      <th>stress_qual</th>\n",
       "      <th>detailed_event_type</th>\n",
       "      <th>simple_event_type</th>\n",
       "      <th>report_case_id</th>\n",
       "      <th>simpler_event_type</th>\n",
       "    </tr>\n",
       "  </thead>\n",
       "  <tbody>\n",
       "    <tr>\n",
       "      <th>0</th>\n",
       "      <td>2025-11-05 11:34:00</td>\n",
       "      <td>NaN</td>\n",
       "      <td>other</td>\n",
       "      <td>physical_activity</td>\n",
       "      <td>START</td>\n",
       "      <td>LIGHT_PA</td>\n",
       "      <td>NaN</td>\n",
       "      <td>11/05/2025</td>\n",
       "      <td>NaN</td>\n",
       "      <td>START_LIGHT_PA</td>\n",
       "      <td>physical_activity_</td>\n",
       "      <td>13</td>\n",
       "      <td>physical_activity_START</td>\n",
       "    </tr>\n",
       "    <tr>\n",
       "      <th>1</th>\n",
       "      <td>2025-11-05 11:35:00</td>\n",
       "      <td>NaN</td>\n",
       "      <td>other</td>\n",
       "      <td>physical_activity</td>\n",
       "      <td>END</td>\n",
       "      <td>LIGHT_PA</td>\n",
       "      <td>NaN</td>\n",
       "      <td>11/05/2025</td>\n",
       "      <td>NaN</td>\n",
       "      <td>END_LIGHT_PA</td>\n",
       "      <td>physical_activity_</td>\n",
       "      <td>13</td>\n",
       "      <td>physical_activity_END</td>\n",
       "    </tr>\n",
       "    <tr>\n",
       "      <th>2</th>\n",
       "      <td>2025-11-05 11:54:00</td>\n",
       "      <td>40.0</td>\n",
       "      <td>other</td>\n",
       "      <td>self-report</td>\n",
       "      <td>NaN</td>\n",
       "      <td>NaN</td>\n",
       "      <td>NaN</td>\n",
       "      <td>11/05/2025</td>\n",
       "      <td>low</td>\n",
       "      <td>stress_report_low</td>\n",
       "      <td>self-report_low</td>\n",
       "      <td>13</td>\n",
       "      <td>self-report_low</td>\n",
       "    </tr>\n",
       "    <tr>\n",
       "      <th>3</th>\n",
       "      <td>2025-11-05 13:24:00</td>\n",
       "      <td>NaN</td>\n",
       "      <td>home</td>\n",
       "      <td>physical_activity</td>\n",
       "      <td>START</td>\n",
       "      <td>LIGHT_PA</td>\n",
       "      <td>NaN</td>\n",
       "      <td>11/05/2025</td>\n",
       "      <td>NaN</td>\n",
       "      <td>START_LIGHT_PA</td>\n",
       "      <td>physical_activity_</td>\n",
       "      <td>16</td>\n",
       "      <td>physical_activity_START</td>\n",
       "    </tr>\n",
       "    <tr>\n",
       "      <th>4</th>\n",
       "      <td>2025-11-05 13:29:00</td>\n",
       "      <td>NaN</td>\n",
       "      <td>invalid</td>\n",
       "      <td>physical_activity</td>\n",
       "      <td>END</td>\n",
       "      <td>LIGHT_PA</td>\n",
       "      <td>NaN</td>\n",
       "      <td>11/05/2025</td>\n",
       "      <td>NaN</td>\n",
       "      <td>END_LIGHT_PA</td>\n",
       "      <td>physical_activity_</td>\n",
       "      <td>16</td>\n",
       "      <td>physical_activity_END</td>\n",
       "    </tr>\n",
       "    <tr>\n",
       "      <th>5</th>\n",
       "      <td>2025-11-05 13:48:00</td>\n",
       "      <td>NaN</td>\n",
       "      <td>other</td>\n",
       "      <td>physical_activity</td>\n",
       "      <td>START</td>\n",
       "      <td>LIGHT_PA</td>\n",
       "      <td>NaN</td>\n",
       "      <td>11/05/2025</td>\n",
       "      <td>NaN</td>\n",
       "      <td>START_LIGHT_PA</td>\n",
       "      <td>physical_activity_</td>\n",
       "      <td>16</td>\n",
       "      <td>physical_activity_START</td>\n",
       "    </tr>\n",
       "    <tr>\n",
       "      <th>6</th>\n",
       "      <td>2025-11-05 14:08:00</td>\n",
       "      <td>NaN</td>\n",
       "      <td>other</td>\n",
       "      <td>physical_activity</td>\n",
       "      <td>END</td>\n",
       "      <td>LIGHT_PA</td>\n",
       "      <td>NaN</td>\n",
       "      <td>11/05/2025</td>\n",
       "      <td>NaN</td>\n",
       "      <td>END_LIGHT_PA</td>\n",
       "      <td>physical_activity_</td>\n",
       "      <td>16</td>\n",
       "      <td>physical_activity_END</td>\n",
       "    </tr>\n",
       "    <tr>\n",
       "      <th>7</th>\n",
       "      <td>2025-11-05 14:55:00</td>\n",
       "      <td>30.0</td>\n",
       "      <td>home</td>\n",
       "      <td>self-report</td>\n",
       "      <td>NaN</td>\n",
       "      <td>NaN</td>\n",
       "      <td>NaN</td>\n",
       "      <td>11/05/2025</td>\n",
       "      <td>low</td>\n",
       "      <td>stress_report_low</td>\n",
       "      <td>self-report_low</td>\n",
       "      <td>16</td>\n",
       "      <td>self-report_low</td>\n",
       "    </tr>\n",
       "    <tr>\n",
       "      <th>8</th>\n",
       "      <td>2025-11-05 20:53:00</td>\n",
       "      <td>NaN</td>\n",
       "      <td>in_transit</td>\n",
       "      <td>physical_activity</td>\n",
       "      <td>START</td>\n",
       "      <td>LIGHT_PA</td>\n",
       "      <td>NaN</td>\n",
       "      <td>11/05/2025</td>\n",
       "      <td>NaN</td>\n",
       "      <td>START_LIGHT_PA</td>\n",
       "      <td>physical_activity_</td>\n",
       "      <td>80</td>\n",
       "      <td>physical_activity_START</td>\n",
       "    </tr>\n",
       "    <tr>\n",
       "      <th>9</th>\n",
       "      <td>2025-11-05 21:02:00</td>\n",
       "      <td>40.0</td>\n",
       "      <td>invalid</td>\n",
       "      <td>self-report</td>\n",
       "      <td>NaN</td>\n",
       "      <td>NaN</td>\n",
       "      <td>NaN</td>\n",
       "      <td>11/05/2025</td>\n",
       "      <td>low</td>\n",
       "      <td>stress_report_low</td>\n",
       "      <td>self-report_low</td>\n",
       "      <td>80</td>\n",
       "      <td>self-report_low</td>\n",
       "    </tr>\n",
       "    <tr>\n",
       "      <th>10</th>\n",
       "      <td>2025-11-05 21:12:00</td>\n",
       "      <td>NaN</td>\n",
       "      <td>invalid</td>\n",
       "      <td>physical_activity</td>\n",
       "      <td>END</td>\n",
       "      <td>LIGHT_PA</td>\n",
       "      <td>NaN</td>\n",
       "      <td>11/05/2025</td>\n",
       "      <td>NaN</td>\n",
       "      <td>END_LIGHT_PA</td>\n",
       "      <td>physical_activity_</td>\n",
       "      <td>80</td>\n",
       "      <td>physical_activity_END</td>\n",
       "    </tr>\n",
       "  </tbody>\n",
       "</table>\n",
       "</div>"
      ],
      "text/plain": [
       "             timestamp  stress    location         event_type lifecycle  \\\n",
       "0  2025-11-05 11:34:00     NaN       other  physical_activity     START   \n",
       "1  2025-11-05 11:35:00     NaN       other  physical_activity       END   \n",
       "2  2025-11-05 11:54:00    40.0       other        self-report       NaN   \n",
       "3  2025-11-05 13:24:00     NaN        home  physical_activity     START   \n",
       "4  2025-11-05 13:29:00     NaN     invalid  physical_activity       END   \n",
       "5  2025-11-05 13:48:00     NaN       other  physical_activity     START   \n",
       "6  2025-11-05 14:08:00     NaN       other  physical_activity       END   \n",
       "7  2025-11-05 14:55:00    30.0        home        self-report       NaN   \n",
       "8  2025-11-05 20:53:00     NaN  in_transit  physical_activity     START   \n",
       "9  2025-11-05 21:02:00    40.0     invalid        self-report       NaN   \n",
       "10 2025-11-05 21:12:00     NaN     invalid  physical_activity       END   \n",
       "\n",
       "   bout_type  action         day stress_qual detailed_event_type  \\\n",
       "0   LIGHT_PA     NaN  11/05/2025         NaN      START_LIGHT_PA   \n",
       "1   LIGHT_PA     NaN  11/05/2025         NaN        END_LIGHT_PA   \n",
       "2        NaN     NaN  11/05/2025         low   stress_report_low   \n",
       "3   LIGHT_PA     NaN  11/05/2025         NaN      START_LIGHT_PA   \n",
       "4   LIGHT_PA     NaN  11/05/2025         NaN        END_LIGHT_PA   \n",
       "5   LIGHT_PA     NaN  11/05/2025         NaN      START_LIGHT_PA   \n",
       "6   LIGHT_PA     NaN  11/05/2025         NaN        END_LIGHT_PA   \n",
       "7        NaN     NaN  11/05/2025         low   stress_report_low   \n",
       "8   LIGHT_PA     NaN  11/05/2025         NaN      START_LIGHT_PA   \n",
       "9        NaN     NaN  11/05/2025         low   stress_report_low   \n",
       "10  LIGHT_PA     NaN  11/05/2025         NaN        END_LIGHT_PA   \n",
       "\n",
       "     simple_event_type  report_case_id       simpler_event_type  \n",
       "0   physical_activity_              13  physical_activity_START  \n",
       "1   physical_activity_              13    physical_activity_END  \n",
       "2      self-report_low              13          self-report_low  \n",
       "3   physical_activity_              16  physical_activity_START  \n",
       "4   physical_activity_              16    physical_activity_END  \n",
       "5   physical_activity_              16  physical_activity_START  \n",
       "6   physical_activity_              16    physical_activity_END  \n",
       "7      self-report_low              16          self-report_low  \n",
       "8   physical_activity_              80  physical_activity_START  \n",
       "9      self-report_low              80          self-report_low  \n",
       "10  physical_activity_              80    physical_activity_END  "
      ]
     },
     "execution_count": 2,
     "metadata": {},
     "output_type": "execute_result"
    }
   ],
   "source": [
    "df = pd.read_csv(\"2d_toy_log_day11-sequential-loop-parallel.csv\", sep=';',parse_dates=[\"timestamp\"])\n",
    "df"
   ]
  },
  {
   "cell_type": "markdown",
   "metadata": {},
   "source": [
    "## Step 3: Prepare the Event Log\n",
    "PM4Py expects specific column names. Let's rename them and sort the log by time within each case."
   ]
  },
  {
   "cell_type": "code",
   "execution_count": 3,
   "metadata": {},
   "outputs": [
    {
     "name": "stdout",
     "output_type": "stream",
     "text": [
      "<class 'pandas.core.frame.DataFrame'>\n",
      "RangeIndex: 11 entries, 0 to 10\n",
      "Data columns (total 13 columns):\n",
      " #   Column               Non-Null Count  Dtype              \n",
      "---  ------               --------------  -----              \n",
      " 0   time:timestamp       11 non-null     datetime64[ns, UTC]\n",
      " 1   stress               3 non-null      float64            \n",
      " 2   location             11 non-null     object             \n",
      " 3   event_type           11 non-null     object             \n",
      " 4   lifecycle            8 non-null      object             \n",
      " 5   bout_type            8 non-null      object             \n",
      " 6   action               0 non-null      float64            \n",
      " 7   day                  11 non-null     datetime64[ns, UTC]\n",
      " 8   stress_qual          3 non-null      object             \n",
      " 9   detailed_event_type  11 non-null     object             \n",
      " 10  simple_event_type    11 non-null     object             \n",
      " 11  case:concept:name    11 non-null     int64              \n",
      " 12  concept:name         11 non-null     object             \n",
      "dtypes: datetime64[ns, UTC](2), float64(2), int64(1), object(8)\n",
      "memory usage: 1.2+ KB\n"
     ]
    }
   ],
   "source": [
    "# Rename columns to PM4Py convention\n",
    "df = df.rename(columns={\n",
    "    \"timestamp\": \"time:timestamp\",\n",
    "    \"report_case_id\": \"case:concept:name\",\n",
    "    \"simpler_event_type\": \"concept:name\"\n",
    "})\n",
    "\n",
    "# Sort by case and time\n",
    "df = dataframe_utils.convert_timestamp_columns_in_df(df)\n",
    "df = df.sort_values(by=[\"case:concept:name\", \"time:timestamp\"])\n",
    "#df['case:concept:name'] = df['case:concept:name'].dt.strftime('%Y-%m-%d')\n",
    "\n",
    "# Ensure concept:name is string type\n",
    "df['concept:name'] = df['concept:name'].astype(str)\n",
    "df.head()\n",
    "df.info()"
   ]
  },
  {
   "cell_type": "markdown",
   "metadata": {},
   "source": [
    "## Step 4: Convert to PM4Py Event Log"
   ]
  },
  {
   "cell_type": "code",
   "execution_count": 4,
   "metadata": {},
   "outputs": [],
   "source": [
    "from pm4py.objects.conversion.log import converter as log_converter\n",
    "\n",
    "event_log = log_converter.apply(df, variant=log_converter.Variants.TO_EVENT_LOG)"
   ]
  },
  {
   "cell_type": "markdown",
   "metadata": {},
   "source": [
    "## Step 5: Discover the Process Tree Using Inductive Miner"
   ]
  },
  {
   "cell_type": "code",
   "execution_count": 5,
   "metadata": {},
   "outputs": [
    {
     "data": {
      "image/png": "[encoded data removed]",
      "text/plain": [
       "<IPython.core.display.Image object>"
      ]
     },
     "metadata": {},
     "output_type": "display_data"
    }
   ],
   "source": [
    "## Discover Process Model\n",
    "# First get the process tree\n",
    "process_tree = inductive_miner.apply(event_log)\n",
    "\n",
    "# Visualize Process Tree\n",
    "from pm4py.visualization.process_tree import visualizer as pt_visualizer\n",
    "gviz_pt = pt_visualizer.apply(process_tree)\n",
    "pt_visualizer.view(gviz_pt)\n",
    "\n"
   ]
  },
  {
   "cell_type": "markdown",
   "metadata": {},
   "source": [
    "## Step 6: Converting to Petri Net"
   ]
  },
  {
   "cell_type": "code",
   "execution_count": 6,
   "metadata": {},
   "outputs": [
    {
     "data": {
      "image/png": "[encoded data removed]",
      "text/plain": [
       "<IPython.core.display.Image object>"
      ]
     },
     "metadata": {},
     "output_type": "display_data"
    }
   ],
   "source": [
    "# Convert process tree to Petri net\n",
    "from pm4py.objects.conversion.process_tree import converter as pt_converter\n",
    "net, initial_marking, final_marking = pt_converter.apply(process_tree)\n",
    "\n",
    "# Visualizing\n",
    "gviz = pn_visualizer.apply(net, initial_marking, final_marking)\n",
    "pn_visualizer.view(gviz)"
   ]
  }
 ],
 "metadata": {
  "kernelspec": {
   "display_name": "Python 3",
   "language": "python",
   "name": "python3"
  },
  "language_info": {
   "codemirror_mode": {
    "name": "ipython",
    "version": 3
   },
   "file_extension": ".py",
   "mimetype": "text/x-python",
   "name": "python",
   "nbconvert_exporter": "python",
   "pygments_lexer": "ipython3",
   "version": "3.12.5"
  }
 },
 "nbformat": 4,
 "nbformat_minor": 2
}
