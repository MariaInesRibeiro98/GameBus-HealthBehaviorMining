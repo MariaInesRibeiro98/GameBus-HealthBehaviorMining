{
  "cells": [
    {
      "cell_type": "markdown",
      "metadata": {},
      "source": [
        "# 01.1 Data Extraction - From Source \n",
        "\n",
        "This notebook demonstrates how to extract data from the Gamebus-Experiencer application collected using a smartwatch Samsung Active 2. \n",
        "\n",
        "<i>References: </i>\n",
        "<li>Van Gorp, Pieter, and Raoul Nuijten. 2023. “8-Year Evaluation of GameBus: Status Quo in Aiming for an Open Access Platform to Prototype and Test Digital Health Apps.” Proceedings of the ACM on Human-Computer Interaction 7(EICS). <a href=\"https://doi.org/10.1145/3593223\">doi:10.1145/3593223</a>.\n",
        "<li>Khanshan, Alireza, Pieter Van Gorp, and Panos Markopoulos. 2023. “Experiencer: An Open-Source Context-Sensitive Wearable Experience Sampling Tool: 16th EAI International Conference on Pervasive Computing Technologies for Healthcare, PervasiveHealth 2022” edited by A. Tsanas and A. Triantafyllidis. Pervasive Computing Technologies for Healthcare 315–31. <a href=\"https://doi.org/10.1007/978-3-031-34586-9_21\">doi:10.1007/978-3-031-34586-9_21</a>.\n",
        "\n"
      ]
    },
    {
      "cell_type": "markdown",
      "metadata": {},
      "source": [
        "## Setup"
      ]
    },
    {
      "cell_type": "code",
      "execution_count": null,
      "metadata": {},
      "outputs": [],
      "source": [
        "import sys\n",
        "import pandas as pd\n",
        "import datetime\n",
        "sys.path.append('..')\n",
        "\n",
        "# Import project modules\n",
        "from config.credentials import AUTHCODE #private\n",
        "from config.paths import USERS_FILE_PATH #private\n",
        "from src.extraction.gamebus_client import GameBusClient\n",
        "from src.extraction.data_collectors import (\n",
        "    LocationDataCollector, \n",
        "    MoodDataCollector,\n",
        "    ActivityTypeDataCollector,\n",
        "    HeartRateDataCollector,\n",
        "    AccelerometerDataCollector,\n",
        "    NotificationDataCollector\n",
        ")\n",
        "\n",
        "# Initialize logging\n",
        "#from src.utils.logging import setup_logging\n",
        "#import logging\n",
        "#logging.basicConfig(level=logging.DEBUG)\n",
        "#logger = setup_logging(log_level=\"INFO\")\n",
        "#logger.info(\"Notebook initialized\")"
      ]
    },
    {
      "cell_type": "markdown",
      "metadata": {},
      "source": [
        "## Initialize GameBus Client\n",
        "\n",
        "Create a GameBus client for API interactions."
      ]
    },
    {
      "cell_type": "code",
      "execution_count": 6,
      "metadata": {},
      "outputs": [
        {
          "name": "stdout",
          "output_type": "stream",
          "text": [
            "GameBus client initialized\n"
          ]
        }
      ],
      "source": [
        "# Initialize the GameBus client\n",
        "client = GameBusClient(AUTHCODE)\n",
        "print(\"GameBus client initialized\")"
      ]
    },
    {
      "cell_type": "markdown",
      "metadata": {},
      "source": [
        "## Load GameBus Users\n",
        "\n",
        "Load the GameBus users and credentials from a CSV file."
      ]
    },
    {
      "cell_type": "code",
      "execution_count": 7,
      "metadata": {},
      "outputs": [
        {
          "name": "stdout",
          "output_type": "stream",
          "text": [
            "Loaded 2 users\n"
          ]
        }
      ],
      "source": [
        "# Load the users\n",
        "try:\n",
        "    users_df = pd.read_csv(USERS_FILE_PATH, delimiter=';')\n",
        "    print(f\"Loaded {len(users_df)} users\")\n",
        "except Exception as e:\n",
        "    # If users file doesn't exist yet, we need to create it\n",
        "    print(f\"Failed to load users file: {e}\")"
      ]
    },
    {
      "cell_type": "markdown",
      "metadata": {},
      "source": [
        "## Select User\n",
        "Select a user from the list to extract data for."
      ]
    },
    {
      "cell_type": "code",
      "execution_count": 8,
      "metadata": {},
      "outputs": [
        {
          "name": "stdout",
          "output_type": "stream",
          "text": [
            "Selected user: info+bm@gamebus.nl\n"
          ]
        }
      ],
      "source": [
        "# Select a user\n",
        "user_index = 0  # Change this to select a different user\n",
        "selected_user = users_df.iloc[user_index]\n",
        "username = selected_user['Username']\n",
        "password = selected_user['Password']\n",
        "\n",
        "print(f\"Selected user: {username}\")"
      ]
    },
    {
      "cell_type": "markdown",
      "metadata": {},
      "source": [
        "## Authenticate User\n",
        "\n",
        "Authenticate with the GameBus API and get the player token and ID."
      ]
    },
    {
      "cell_type": "code",
      "execution_count": 9,
      "metadata": {},
      "outputs": [
        {
          "name": "stdout",
          "output_type": "stream",
          "text": [
            "Player token: eyJhbGciOi...\n",
            "Player ID: 107631\n"
          ]
        }
      ],
      "source": [
        "token = client.get_player_token(username, password)\n",
        "player_id = client.get_player_id(token)\n",
        "\n",
        "print(f\"Player token: {token[:10]}...\" if token else \"Failed to get token\")\n",
        "print(f\"Player ID: {player_id}\" if player_id else \"Failed to get player ID\")"
      ]
    },
    {
      "cell_type": "markdown",
      "metadata": {},
      "source": [
        "## Define Date Range (Optional)\n",
        "\n",
        "Define a date range for data extraction. "
      ]
    },
    {
      "cell_type": "code",
      "execution_count": 10,
      "metadata": {},
      "outputs": [
        {
          "name": "stdout",
          "output_type": "stream",
          "text": [
            "No date filtering applied - extracting all available data\n"
          ]
        }
      ],
      "source": [
        "# Set to True to enable date filtering\n",
        "use_date_filter = False\n",
        "\n",
        "if use_date_filter:\n",
        "    # Define start date (inclusive)\n",
        "    start_date = datetime.datetime(2025, 5, 9)  # Format: YYYY, MM, DD\n",
        "    \n",
        "    # Define end date (inclusive)\n",
        "    end_date = datetime.datetime(2025, 6, 9)    # Format: YYYY, MM, DD\n",
        "    \n",
        "    print(f\"Date range: {start_date.strftime('%Y-%m-%d')} to {end_date.strftime('%Y-%m-%d')}\")\n",
        "else:\n",
        "    start_date = None\n",
        "    end_date = None\n",
        "    print(\"No date filtering applied - extracting all available data\")"
      ]
    },
    {
      "cell_type": "markdown",
      "metadata": {},
      "source": [
        "## Extract User Data from GameBus"
      ]
    },
    {
      "cell_type": "markdown",
      "metadata": {},
      "source": [
        "### Extract Accelerometer Data\n",
        "\n",
        "Extract accelerometer data from GameBus. This includes ts (timestamp), x axis, y axis, and z axis."
      ]
    },
    {
      "cell_type": "code",
      "execution_count": 11,
      "metadata": {},
      "outputs": [
        {
          "name": "stdout",
          "output_type": "stream",
          "text": [
            "Collected 6879729 accelerometer data points\n",
            "Data saved to c:\\Users\\20236075\\OneDrive - TU Eindhoven\\Documents\\GitHub\\GameBus-HealthBehaviorMining\\data\\raw\\player_107631_accelerometer.json\n"
          ]
        },
        {
          "data": {
            "text/html": [
              "<div>\n",
              "<style scoped>\n",
              "    .dataframe tbody tr th:only-of-type {\n",
              "        vertical-align: middle;\n",
              "    }\n",
              "\n",
              "    .dataframe tbody tr th {\n",
              "        vertical-align: top;\n",
              "    }\n",
              "\n",
              "    .dataframe thead th {\n",
              "        text-align: right;\n",
              "    }\n",
              "</style>\n",
              "<table border=\"1\" class=\"dataframe\">\n",
              "  <thead>\n",
              "    <tr style=\"text-align: right;\">\n",
              "      <th></th>\n",
              "      <th>ts</th>\n",
              "      <th>x</th>\n",
              "      <th>y</th>\n",
              "      <th>z</th>\n",
              "      <th>activity_id</th>\n",
              "      <th>activity_date</th>\n",
              "    </tr>\n",
              "  </thead>\n",
              "  <tbody>\n",
              "    <tr>\n",
              "      <th>0</th>\n",
              "      <td>1747751952838</td>\n",
              "      <td>-9.628718</td>\n",
              "      <td>-1.174876</td>\n",
              "      <td>1.287339</td>\n",
              "      <td>3379502</td>\n",
              "      <td>1747752013000</td>\n",
              "    </tr>\n",
              "    <tr>\n",
              "      <th>1</th>\n",
              "      <td>1747751952842</td>\n",
              "      <td>-9.664611</td>\n",
              "      <td>-1.036092</td>\n",
              "      <td>0.926022</td>\n",
              "      <td>3379502</td>\n",
              "      <td>1747752013000</td>\n",
              "    </tr>\n",
              "    <tr>\n",
              "      <th>2</th>\n",
              "      <td>1747751952864</td>\n",
              "      <td>-9.726824</td>\n",
              "      <td>-0.784846</td>\n",
              "      <td>0.550349</td>\n",
              "      <td>3379502</td>\n",
              "      <td>1747752013000</td>\n",
              "    </tr>\n",
              "    <tr>\n",
              "      <th>3</th>\n",
              "      <td>1747751952951</td>\n",
              "      <td>-9.781858</td>\n",
              "      <td>-0.746561</td>\n",
              "      <td>0.538385</td>\n",
              "      <td>3379502</td>\n",
              "      <td>1747752013000</td>\n",
              "    </tr>\n",
              "    <tr>\n",
              "      <th>4</th>\n",
              "      <td>1747751952952</td>\n",
              "      <td>-9.690931</td>\n",
              "      <td>-0.873380</td>\n",
              "      <td>0.803988</td>\n",
              "      <td>3379502</td>\n",
              "      <td>1747752013000</td>\n",
              "    </tr>\n",
              "  </tbody>\n",
              "</table>\n",
              "</div>"
            ],
            "text/plain": [
              "              ts         x         y         z  activity_id  activity_date\n",
              "0  1747751952838 -9.628718 -1.174876  1.287339      3379502  1747752013000\n",
              "1  1747751952842 -9.664611 -1.036092  0.926022      3379502  1747752013000\n",
              "2  1747751952864 -9.726824 -0.784846  0.550349      3379502  1747752013000\n",
              "3  1747751952951 -9.781858 -0.746561  0.538385      3379502  1747752013000\n",
              "4  1747751952952 -9.690931 -0.873380  0.803988      3379502  1747752013000"
            ]
          },
          "metadata": {},
          "output_type": "display_data"
        }
      ],
      "source": [
        "# Create an accelerometer data collector\n",
        "accelerometer_collector = AccelerometerDataCollector(client, token, player_id)\n",
        "\n",
        "# Collect accelerometer data\n",
        "accelerometer_data, accelerometer_file = accelerometer_collector.collect(start_date=start_date, end_date=end_date)\n",
        "#accelerometer_data, accelerometer_file = accelerometer_collector.collect()\n",
        "print(f\"Collected {len(accelerometer_data)} accelerometer data points\")\n",
        "print(f\"Data saved to {accelerometer_file}\")\n",
        "\n",
        "# Display a sample of the data\n",
        "accelerometer_df = pd.DataFrame(accelerometer_data)\n",
        "if len(accelerometer_df) > 0:\n",
        "    display(accelerometer_df.head())"
      ]
    },
    {
      "cell_type": "markdown",
      "metadata": {},
      "source": []
    },
    {
      "cell_type": "markdown",
      "metadata": {},
      "source": [
        "### Extract Heart Rate Data\n",
        "\n",
        "Extract heart rate monitoring data from GameBus. This includes ts (timestamp), hr (heartrate), and pp."
      ]
    },
    {
      "cell_type": "code",
      "execution_count": 12,
      "metadata": {},
      "outputs": [
        {
          "name": "stdout",
          "output_type": "stream",
          "text": [
            "Collected 1531993 heart rate data points\n",
            "Data saved to c:\\Users\\20236075\\OneDrive - TU Eindhoven\\Documents\\GitHub\\GameBus-HealthBehaviorMining\\data\\raw\\player_107631_heartrate.json\n"
          ]
        },
        {
          "data": {
            "text/html": [
              "<div>\n",
              "<style scoped>\n",
              "    .dataframe tbody tr th:only-of-type {\n",
              "        vertical-align: middle;\n",
              "    }\n",
              "\n",
              "    .dataframe tbody tr th {\n",
              "        vertical-align: top;\n",
              "    }\n",
              "\n",
              "    .dataframe thead th {\n",
              "        text-align: right;\n",
              "    }\n",
              "</style>\n",
              "<table border=\"1\" class=\"dataframe\">\n",
              "  <thead>\n",
              "    <tr style=\"text-align: right;\">\n",
              "      <th></th>\n",
              "      <th>ts</th>\n",
              "      <th>hr</th>\n",
              "      <th>pp</th>\n",
              "      <th>activity_id</th>\n",
              "      <th>activity_date</th>\n",
              "    </tr>\n",
              "  </thead>\n",
              "  <tbody>\n",
              "    <tr>\n",
              "      <th>0</th>\n",
              "      <td>1747751979396</td>\n",
              "      <td>112</td>\n",
              "      <td>0</td>\n",
              "      <td>3379503</td>\n",
              "      <td>1747752013000</td>\n",
              "    </tr>\n",
              "    <tr>\n",
              "      <th>1</th>\n",
              "      <td>1747751979476</td>\n",
              "      <td>-10</td>\n",
              "      <td>0</td>\n",
              "      <td>3379503</td>\n",
              "      <td>1747752013000</td>\n",
              "    </tr>\n",
              "    <tr>\n",
              "      <th>2</th>\n",
              "      <td>1747751979556</td>\n",
              "      <td>-10</td>\n",
              "      <td>0</td>\n",
              "      <td>3379503</td>\n",
              "      <td>1747752013000</td>\n",
              "    </tr>\n",
              "    <tr>\n",
              "      <th>3</th>\n",
              "      <td>1747751979636</td>\n",
              "      <td>-10</td>\n",
              "      <td>0</td>\n",
              "      <td>3379503</td>\n",
              "      <td>1747752013000</td>\n",
              "    </tr>\n",
              "    <tr>\n",
              "      <th>4</th>\n",
              "      <td>1747751979716</td>\n",
              "      <td>-10</td>\n",
              "      <td>0</td>\n",
              "      <td>3379503</td>\n",
              "      <td>1747752013000</td>\n",
              "    </tr>\n",
              "  </tbody>\n",
              "</table>\n",
              "</div>"
            ],
            "text/plain": [
              "              ts   hr  pp  activity_id  activity_date\n",
              "0  1747751979396  112   0      3379503  1747752013000\n",
              "1  1747751979476  -10   0      3379503  1747752013000\n",
              "2  1747751979556  -10   0      3379503  1747752013000\n",
              "3  1747751979636  -10   0      3379503  1747752013000\n",
              "4  1747751979716  -10   0      3379503  1747752013000"
            ]
          },
          "metadata": {},
          "output_type": "display_data"
        }
      ],
      "source": [
        "# Create a heart rate data collector\n",
        "heartrate_collector = HeartRateDataCollector(client, token, player_id)\n",
        "\n",
        "# Collect heart rate data\n",
        "heartrate_data, heartrate_file = heartrate_collector.collect(start_date=start_date, end_date=end_date)\n",
        "#heartrate_data, heartrate_file = heartrate_collector.collect()\n",
        "\n",
        "print(f\"Collected {len(heartrate_data)} heart rate data points\")\n",
        "print(f\"Data saved to {heartrate_file}\")\n",
        "\n",
        "# Display a sample of the data\n",
        "heartrate_df = pd.DataFrame(heartrate_data)\n",
        "if len(heartrate_df) > 0:\n",
        "    display(heartrate_df.head())"
      ]
    },
    {
      "cell_type": "markdown",
      "metadata": {},
      "source": [
        "### Extract Self-Report Data\n",
        "\n",
        "Extract self-report(mood) logging data from GameBus. This includes valence_state_value, arousal_state_value, stress_state_value, and event_timestamp."
      ]
    },
    {
      "cell_type": "code",
      "execution_count": 13,
      "metadata": {},
      "outputs": [
        {
          "name": "stdout",
          "output_type": "stream",
          "text": [
            "Collected 59 mood data points\n",
            "Data saved to c:\\Users\\20236075\\OneDrive - TU Eindhoven\\Documents\\GitHub\\GameBus-HealthBehaviorMining\\data\\raw\\player_107631_mood.json\n"
          ]
        },
        {
          "data": {
            "text/html": [
              "<div>\n",
              "<style scoped>\n",
              "    .dataframe tbody tr th:only-of-type {\n",
              "        vertical-align: middle;\n",
              "    }\n",
              "\n",
              "    .dataframe tbody tr th {\n",
              "        vertical-align: top;\n",
              "    }\n",
              "\n",
              "    .dataframe thead th {\n",
              "        text-align: right;\n",
              "    }\n",
              "</style>\n",
              "<table border=\"1\" class=\"dataframe\">\n",
              "  <thead>\n",
              "    <tr style=\"text-align: right;\">\n",
              "      <th></th>\n",
              "      <th>VALENCE_STATE_VALUE</th>\n",
              "      <th>AROUSAL_STATE_VALUE</th>\n",
              "      <th>STRESS_STATE_VALUE</th>\n",
              "      <th>EVENT_TIMESTAMP</th>\n",
              "      <th>activity_id</th>\n",
              "      <th>date</th>\n",
              "      <th>gameDescriptor</th>\n",
              "    </tr>\n",
              "  </thead>\n",
              "  <tbody>\n",
              "    <tr>\n",
              "      <th>0</th>\n",
              "      <td>6</td>\n",
              "      <td>4</td>\n",
              "      <td>6</td>\n",
              "      <td>1747580974215</td>\n",
              "      <td>3364013</td>\n",
              "      <td>1747648612000</td>\n",
              "      <td>LOG_MOOD</td>\n",
              "    </tr>\n",
              "    <tr>\n",
              "      <th>1</th>\n",
              "      <td>7</td>\n",
              "      <td>3</td>\n",
              "      <td>3</td>\n",
              "      <td>1747570055709</td>\n",
              "      <td>3363688</td>\n",
              "      <td>1747636926000</td>\n",
              "      <td>LOG_MOOD</td>\n",
              "    </tr>\n",
              "    <tr>\n",
              "      <th>2</th>\n",
              "      <td>6</td>\n",
              "      <td>4</td>\n",
              "      <td>6</td>\n",
              "      <td>1747548242952</td>\n",
              "      <td>3363008</td>\n",
              "      <td>1747563222000</td>\n",
              "      <td>LOG_MOOD</td>\n",
              "    </tr>\n",
              "    <tr>\n",
              "      <th>3</th>\n",
              "      <td>7</td>\n",
              "      <td>7</td>\n",
              "      <td>2</td>\n",
              "      <td>1747490847963</td>\n",
              "      <td>3362352</td>\n",
              "      <td>1747501524000</td>\n",
              "      <td>LOG_MOOD</td>\n",
              "    </tr>\n",
              "    <tr>\n",
              "      <th>4</th>\n",
              "      <td>6</td>\n",
              "      <td>6</td>\n",
              "      <td>4</td>\n",
              "      <td>1747407669963</td>\n",
              "      <td>3361078</td>\n",
              "      <td>1747407758000</td>\n",
              "      <td>LOG_MOOD</td>\n",
              "    </tr>\n",
              "  </tbody>\n",
              "</table>\n",
              "</div>"
            ],
            "text/plain": [
              "  VALENCE_STATE_VALUE AROUSAL_STATE_VALUE STRESS_STATE_VALUE EVENT_TIMESTAMP  \\\n",
              "0                   6                   4                  6   1747580974215   \n",
              "1                   7                   3                  3   1747570055709   \n",
              "2                   6                   4                  6   1747548242952   \n",
              "3                   7                   7                  2   1747490847963   \n",
              "4                   6                   6                  4   1747407669963   \n",
              "\n",
              "   activity_id           date gameDescriptor  \n",
              "0      3364013  1747648612000       LOG_MOOD  \n",
              "1      3363688  1747636926000       LOG_MOOD  \n",
              "2      3363008  1747563222000       LOG_MOOD  \n",
              "3      3362352  1747501524000       LOG_MOOD  \n",
              "4      3361078  1747407758000       LOG_MOOD  "
            ]
          },
          "metadata": {},
          "output_type": "display_data"
        }
      ],
      "source": [
        "# Create a mood data collector\n",
        "mood_collector = MoodDataCollector(client, token, player_id)\n",
        "\n",
        "# Collect mood data\n",
        "#mood_data, mood_file = mood_collector.collect()\n",
        "mood_data, mood_file = mood_collector.collect(start_date=start_date, end_date=end_date)\n",
        "print(f\"Collected {len(mood_data)} mood data points\")\n",
        "print(f\"Data saved to {mood_file}\")\n",
        "\n",
        "# Display a sample of the data\n",
        "mood_df = pd.DataFrame(mood_data)\n",
        "if len(mood_df) > 0:\n",
        "    display(mood_df.head())"
      ]
    },
    {
      "cell_type": "markdown",
      "metadata": {},
      "source": [
        "### Extract Notification Data\n",
        "\n",
        "Extract notification data from GameBus. This includes action (e.g., received, read) and event_timestamp."
      ]
    },
    {
      "cell_type": "code",
      "execution_count": 14,
      "metadata": {},
      "outputs": [
        {
          "name": "stdout",
          "output_type": "stream",
          "text": [
            "Collected 175 notification data points\n",
            "Data saved to c:\\Users\\20236075\\OneDrive - TU Eindhoven\\Documents\\GitHub\\GameBus-HealthBehaviorMining\\data\\raw\\player_107631_notifications.json\n"
          ]
        },
        {
          "data": {
            "text/html": [
              "<div>\n",
              "<style scoped>\n",
              "    .dataframe tbody tr th:only-of-type {\n",
              "        vertical-align: middle;\n",
              "    }\n",
              "\n",
              "    .dataframe tbody tr th {\n",
              "        vertical-align: top;\n",
              "    }\n",
              "\n",
              "    .dataframe thead th {\n",
              "        text-align: right;\n",
              "    }\n",
              "</style>\n",
              "<table border=\"1\" class=\"dataframe\">\n",
              "  <thead>\n",
              "    <tr style=\"text-align: right;\">\n",
              "      <th></th>\n",
              "      <th>ACTION</th>\n",
              "      <th>EVENT_TIMESTAMP</th>\n",
              "      <th>activity_id</th>\n",
              "      <th>date</th>\n",
              "      <th>gameDescriptor</th>\n",
              "    </tr>\n",
              "  </thead>\n",
              "  <tbody>\n",
              "    <tr>\n",
              "      <th>0</th>\n",
              "      <td>RECEIVED</td>\n",
              "      <td>1747745108431</td>\n",
              "      <td>3379327</td>\n",
              "      <td>1747745108000</td>\n",
              "      <td>NOTIFICATION(DETAIL)</td>\n",
              "    </tr>\n",
              "    <tr>\n",
              "      <th>1</th>\n",
              "      <td>RECEIVED</td>\n",
              "      <td>1747734250029</td>\n",
              "      <td>3378294</td>\n",
              "      <td>1747734250000</td>\n",
              "      <td>NOTIFICATION(DETAIL)</td>\n",
              "    </tr>\n",
              "    <tr>\n",
              "      <th>2</th>\n",
              "      <td>RECEIVED</td>\n",
              "      <td>1747723173676</td>\n",
              "      <td>3376830</td>\n",
              "      <td>1747723174000</td>\n",
              "      <td>NOTIFICATION(DETAIL)</td>\n",
              "    </tr>\n",
              "    <tr>\n",
              "      <th>3</th>\n",
              "      <td>RECEIVED</td>\n",
              "      <td>1747723174041</td>\n",
              "      <td>3376832</td>\n",
              "      <td>1747723174000</td>\n",
              "      <td>NOTIFICATION(DETAIL)</td>\n",
              "    </tr>\n",
              "    <tr>\n",
              "      <th>4</th>\n",
              "      <td>RECEIVED</td>\n",
              "      <td>1747723174247</td>\n",
              "      <td>3376834</td>\n",
              "      <td>1747723174000</td>\n",
              "      <td>NOTIFICATION(DETAIL)</td>\n",
              "    </tr>\n",
              "  </tbody>\n",
              "</table>\n",
              "</div>"
            ],
            "text/plain": [
              "     ACTION EVENT_TIMESTAMP  activity_id           date        gameDescriptor\n",
              "0  RECEIVED   1747745108431      3379327  1747745108000  NOTIFICATION(DETAIL)\n",
              "1  RECEIVED   1747734250029      3378294  1747734250000  NOTIFICATION(DETAIL)\n",
              "2  RECEIVED   1747723173676      3376830  1747723174000  NOTIFICATION(DETAIL)\n",
              "3  RECEIVED   1747723174041      3376832  1747723174000  NOTIFICATION(DETAIL)\n",
              "4  RECEIVED   1747723174247      3376834  1747723174000  NOTIFICATION(DETAIL)"
            ]
          },
          "metadata": {},
          "output_type": "display_data"
        }
      ],
      "source": [
        "# Create a notification data collector\n",
        "notification_collector = NotificationDataCollector(client, token, player_id)\n",
        "\n",
        "# Collect notification data\n",
        "notification_data, notification_file = notification_collector.collect(start_date=start_date, end_date=end_date)\n",
        "#notification_data, notification_file = notification_collector.collect()\n",
        "\n",
        "print(f\"Collected {len(notification_data)} notification data points\")\n",
        "print(f\"Data saved to {notification_file}\")\n",
        "\n",
        "# Display a sample of the data\n",
        "notification_df = pd.DataFrame(notification_data)\n",
        "if len(notification_df) > 0:\n",
        "    display(notification_df.head())"
      ]
    },
    {
      "cell_type": "markdown",
      "metadata": {},
      "source": [
        "### Extract GPS Location Data\n",
        "\n",
        "Extract GPS location data from GameBus. This includes latitude, longitude, altitude, speed, error, timestamp, and arm."
      ]
    },
    {
      "cell_type": "code",
      "execution_count": 15,
      "metadata": {},
      "outputs": [
        {
          "name": "stdout",
          "output_type": "stream",
          "text": [
            "Collected 18974 location data points\n",
            "Data saved to c:\\Users\\20236075\\OneDrive - TU Eindhoven\\Documents\\GitHub\\GameBus-HealthBehaviorMining\\data\\raw\\player_107631_location.json\n"
          ]
        },
        {
          "data": {
            "text/html": [
              "<div>\n",
              "<style scoped>\n",
              "    .dataframe tbody tr th:only-of-type {\n",
              "        vertical-align: middle;\n",
              "    }\n",
              "\n",
              "    .dataframe tbody tr th {\n",
              "        vertical-align: top;\n",
              "    }\n",
              "\n",
              "    .dataframe thead th {\n",
              "        text-align: right;\n",
              "    }\n",
              "</style>\n",
              "<table border=\"1\" class=\"dataframe\">\n",
              "  <thead>\n",
              "    <tr style=\"text-align: right;\">\n",
              "      <th></th>\n",
              "      <th>LATITUDE</th>\n",
              "      <th>LONGITUDE</th>\n",
              "      <th>ALTIDUDE</th>\n",
              "      <th>SPEED</th>\n",
              "      <th>ERROR</th>\n",
              "      <th>TIMESTAMP</th>\n",
              "      <th>ARM</th>\n",
              "      <th>activity_id</th>\n",
              "      <th>date</th>\n",
              "      <th>gameDescriptor</th>\n",
              "    </tr>\n",
              "  </thead>\n",
              "  <tbody>\n",
              "    <tr>\n",
              "      <th>0</th>\n",
              "      <td>200</td>\n",
              "      <td>200</td>\n",
              "      <td>0</td>\n",
              "      <td>0</td>\n",
              "      <td>0</td>\n",
              "      <td>1747752369</td>\n",
              "      <td>Arm 2</td>\n",
              "      <td>3379510</td>\n",
              "      <td>1747752429000</td>\n",
              "      <td>GEOFENCE</td>\n",
              "    </tr>\n",
              "    <tr>\n",
              "      <th>1</th>\n",
              "      <td>200</td>\n",
              "      <td>200</td>\n",
              "      <td>0</td>\n",
              "      <td>0</td>\n",
              "      <td>0</td>\n",
              "      <td>1747752309</td>\n",
              "      <td>Arm 2</td>\n",
              "      <td>3379509</td>\n",
              "      <td>1747752369000</td>\n",
              "      <td>GEOFENCE</td>\n",
              "    </tr>\n",
              "    <tr>\n",
              "      <th>2</th>\n",
              "      <td>200</td>\n",
              "      <td>200</td>\n",
              "      <td>0</td>\n",
              "      <td>0</td>\n",
              "      <td>0</td>\n",
              "      <td>1747752248</td>\n",
              "      <td>Arm 2</td>\n",
              "      <td>3379508</td>\n",
              "      <td>1747752309000</td>\n",
              "      <td>GEOFENCE</td>\n",
              "    </tr>\n",
              "    <tr>\n",
              "      <th>3</th>\n",
              "      <td>200</td>\n",
              "      <td>200</td>\n",
              "      <td>0</td>\n",
              "      <td>0</td>\n",
              "      <td>0</td>\n",
              "      <td>1747752188</td>\n",
              "      <td>Arm 2</td>\n",
              "      <td>3379507</td>\n",
              "      <td>1747752248000</td>\n",
              "      <td>GEOFENCE</td>\n",
              "    </tr>\n",
              "    <tr>\n",
              "      <th>4</th>\n",
              "      <td>200</td>\n",
              "      <td>200</td>\n",
              "      <td>0</td>\n",
              "      <td>0</td>\n",
              "      <td>0</td>\n",
              "      <td>1747752128</td>\n",
              "      <td>Arm 2</td>\n",
              "      <td>3379506</td>\n",
              "      <td>1747752188000</td>\n",
              "      <td>GEOFENCE</td>\n",
              "    </tr>\n",
              "  </tbody>\n",
              "</table>\n",
              "</div>"
            ],
            "text/plain": [
              "  LATITUDE LONGITUDE ALTIDUDE SPEED ERROR   TIMESTAMP    ARM  activity_id  \\\n",
              "0      200       200        0     0     0  1747752369  Arm 2      3379510   \n",
              "1      200       200        0     0     0  1747752309  Arm 2      3379509   \n",
              "2      200       200        0     0     0  1747752248  Arm 2      3379508   \n",
              "3      200       200        0     0     0  1747752188  Arm 2      3379507   \n",
              "4      200       200        0     0     0  1747752128  Arm 2      3379506   \n",
              "\n",
              "            date gameDescriptor  \n",
              "0  1747752429000       GEOFENCE  \n",
              "1  1747752369000       GEOFENCE  \n",
              "2  1747752309000       GEOFENCE  \n",
              "3  1747752248000       GEOFENCE  \n",
              "4  1747752188000       GEOFENCE  "
            ]
          },
          "metadata": {},
          "output_type": "display_data"
        }
      ],
      "source": [
        "# Create a location data collector\n",
        "location_collector = LocationDataCollector(client, token, player_id)\n",
        "\n",
        "# Collect location data\n",
        "location_data, location_file = location_collector.collect(start_date=start_date, end_date=end_date)\n",
        "#location_data, location_file = location_collector.collect()\n",
        "print(f\"Collected {len(location_data)} location data points\")\n",
        "print(f\"Data saved to {location_file}\")\n",
        "\n",
        "# Display a sample of the data\n",
        "location_df = pd.DataFrame(location_data)\n",
        "if len(location_df) > 0:\n",
        "    display(location_df.head())"
      ]
    },
    {
      "cell_type": "markdown",
      "metadata": {},
      "source": [
        "### Extract Activity Type Data\n",
        "\n",
        "Extract activity type data from GameBus. This includes src, ts (timestamp), type, speed, steps, walks, runs, freq, distance, and cals."
      ]
    },
    {
      "cell_type": "code",
      "execution_count": 16,
      "metadata": {},
      "outputs": [
        {
          "name": "stdout",
          "output_type": "stream",
          "text": [
            "Collected 3526 activity data points\n",
            "Data saved to c:\\Users\\20236075\\OneDrive - TU Eindhoven\\Documents\\GitHub\\GameBus-HealthBehaviorMining\\data\\raw\\player_107631_activity_type.json\n"
          ]
        },
        {
          "data": {
            "text/html": [
              "<div>\n",
              "<style scoped>\n",
              "    .dataframe tbody tr th:only-of-type {\n",
              "        vertical-align: middle;\n",
              "    }\n",
              "\n",
              "    .dataframe tbody tr th {\n",
              "        vertical-align: top;\n",
              "    }\n",
              "\n",
              "    .dataframe thead th {\n",
              "        text-align: right;\n",
              "    }\n",
              "</style>\n",
              "<table border=\"1\" class=\"dataframe\">\n",
              "  <thead>\n",
              "    <tr style=\"text-align: right;\">\n",
              "      <th></th>\n",
              "      <th>src</th>\n",
              "      <th>ts</th>\n",
              "      <th>type</th>\n",
              "      <th>speed</th>\n",
              "      <th>steps</th>\n",
              "      <th>walks</th>\n",
              "      <th>runs</th>\n",
              "      <th>freq</th>\n",
              "      <th>distance</th>\n",
              "      <th>cals</th>\n",
              "      <th>activity_id</th>\n",
              "      <th>activity_date</th>\n",
              "    </tr>\n",
              "  </thead>\n",
              "  <tbody>\n",
              "    <tr>\n",
              "      <th>0</th>\n",
              "      <td>p</td>\n",
              "      <td>1747751892337</td>\n",
              "      <td>NOT_MOVING</td>\n",
              "      <td>0.0</td>\n",
              "      <td>4005.0</td>\n",
              "      <td>3889.0</td>\n",
              "      <td>3.0</td>\n",
              "      <td>0.0</td>\n",
              "      <td>3033.040039</td>\n",
              "      <td>140.429993</td>\n",
              "      <td>3379499</td>\n",
              "      <td>1747751892000</td>\n",
              "    </tr>\n",
              "    <tr>\n",
              "      <th>1</th>\n",
              "      <td>p</td>\n",
              "      <td>1747751701311</td>\n",
              "      <td>NOT_MOVING</td>\n",
              "      <td>0.0</td>\n",
              "      <td>4005.0</td>\n",
              "      <td>3889.0</td>\n",
              "      <td>3.0</td>\n",
              "      <td>0.0</td>\n",
              "      <td>3033.040039</td>\n",
              "      <td>140.429993</td>\n",
              "      <td>3379489</td>\n",
              "      <td>1747751701000</td>\n",
              "    </tr>\n",
              "    <tr>\n",
              "      <th>2</th>\n",
              "      <td>p</td>\n",
              "      <td>1747751582022</td>\n",
              "      <td>NOT_MOVING</td>\n",
              "      <td>0.0</td>\n",
              "      <td>4005.0</td>\n",
              "      <td>3889.0</td>\n",
              "      <td>3.0</td>\n",
              "      <td>0.0</td>\n",
              "      <td>3033.040039</td>\n",
              "      <td>140.429993</td>\n",
              "      <td>3379486</td>\n",
              "      <td>1747751582000</td>\n",
              "    </tr>\n",
              "    <tr>\n",
              "      <th>3</th>\n",
              "      <td>p</td>\n",
              "      <td>1747750491551</td>\n",
              "      <td>NOT_MOVING</td>\n",
              "      <td>0.0</td>\n",
              "      <td>3938.0</td>\n",
              "      <td>3822.0</td>\n",
              "      <td>3.0</td>\n",
              "      <td>0.0</td>\n",
              "      <td>2982.760010</td>\n",
              "      <td>138.179993</td>\n",
              "      <td>3379464</td>\n",
              "      <td>1747750492000</td>\n",
              "    </tr>\n",
              "    <tr>\n",
              "      <th>4</th>\n",
              "      <td>p</td>\n",
              "      <td>1747749623942</td>\n",
              "      <td>NOT_MOVING</td>\n",
              "      <td>0.0</td>\n",
              "      <td>3938.0</td>\n",
              "      <td>3822.0</td>\n",
              "      <td>3.0</td>\n",
              "      <td>0.0</td>\n",
              "      <td>2982.760010</td>\n",
              "      <td>138.179993</td>\n",
              "      <td>3379446</td>\n",
              "      <td>1747749624000</td>\n",
              "    </tr>\n",
              "  </tbody>\n",
              "</table>\n",
              "</div>"
            ],
            "text/plain": [
              "  src             ts        type  speed   steps   walks  runs  freq  \\\n",
              "0   p  1747751892337  NOT_MOVING    0.0  4005.0  3889.0   3.0   0.0   \n",
              "1   p  1747751701311  NOT_MOVING    0.0  4005.0  3889.0   3.0   0.0   \n",
              "2   p  1747751582022  NOT_MOVING    0.0  4005.0  3889.0   3.0   0.0   \n",
              "3   p  1747750491551  NOT_MOVING    0.0  3938.0  3822.0   3.0   0.0   \n",
              "4   p  1747749623942  NOT_MOVING    0.0  3938.0  3822.0   3.0   0.0   \n",
              "\n",
              "      distance        cals  activity_id  activity_date  \n",
              "0  3033.040039  140.429993      3379499  1747751892000  \n",
              "1  3033.040039  140.429993      3379489  1747751701000  \n",
              "2  3033.040039  140.429993      3379486  1747751582000  \n",
              "3  2982.760010  138.179993      3379464  1747750492000  \n",
              "4  2982.760010  138.179993      3379446  1747749624000  "
            ]
          },
          "metadata": {},
          "output_type": "display_data"
        }
      ],
      "source": [
        "# Create an activity type data collector\n",
        "activity_collector = ActivityTypeDataCollector(client, token, player_id)\n",
        "\n",
        "# Collect activity type data\n",
        "activity_data, activity_file = activity_collector.collect(start_date=start_date, end_date=end_date)\n",
        "#activity_data, activity_file = activity_collector.collect()\n",
        "\n",
        "print(f\"Collected {len(activity_data)} activity data points\")\n",
        "print(f\"Data saved to {activity_file}\")\n",
        "\n",
        "# Display a sample of the data\n",
        "activity_df = pd.DataFrame(activity_data)\n",
        "if len(activity_df) > 0:\n",
        "    display(activity_df.head())"
      ]
    },
    {
      "cell_type": "markdown",
      "metadata": {},
      "source": [
        "## Data Summary"
      ]
    },
    {
      "cell_type": "code",
      "execution_count": 17,
      "metadata": {},
      "outputs": [
        {
          "data": {
            "text/html": [
              "<div>\n",
              "<style scoped>\n",
              "    .dataframe tbody tr th:only-of-type {\n",
              "        vertical-align: middle;\n",
              "    }\n",
              "\n",
              "    .dataframe tbody tr th {\n",
              "        vertical-align: top;\n",
              "    }\n",
              "\n",
              "    .dataframe thead th {\n",
              "        text-align: right;\n",
              "    }\n",
              "</style>\n",
              "<table border=\"1\" class=\"dataframe\">\n",
              "  <thead>\n",
              "    <tr style=\"text-align: right;\">\n",
              "      <th></th>\n",
              "      <th>Data Type</th>\n",
              "      <th>Count</th>\n",
              "    </tr>\n",
              "  </thead>\n",
              "  <tbody>\n",
              "    <tr>\n",
              "      <th>0</th>\n",
              "      <td>Location</td>\n",
              "      <td>18974</td>\n",
              "    </tr>\n",
              "    <tr>\n",
              "      <th>1</th>\n",
              "      <td>Mood</td>\n",
              "      <td>59</td>\n",
              "    </tr>\n",
              "    <tr>\n",
              "      <th>2</th>\n",
              "      <td>Activity</td>\n",
              "      <td>3526</td>\n",
              "    </tr>\n",
              "    <tr>\n",
              "      <th>3</th>\n",
              "      <td>Heart Rate</td>\n",
              "      <td>1531993</td>\n",
              "    </tr>\n",
              "    <tr>\n",
              "      <th>4</th>\n",
              "      <td>Accelerometer</td>\n",
              "      <td>6879729</td>\n",
              "    </tr>\n",
              "    <tr>\n",
              "      <th>5</th>\n",
              "      <td>Notification</td>\n",
              "      <td>175</td>\n",
              "    </tr>\n",
              "  </tbody>\n",
              "</table>\n",
              "</div>"
            ],
            "text/plain": [
              "       Data Type    Count\n",
              "0       Location    18974\n",
              "1           Mood       59\n",
              "2       Activity     3526\n",
              "3     Heart Rate  1531993\n",
              "4  Accelerometer  6879729\n",
              "5   Notification      175"
            ]
          },
          "metadata": {},
          "output_type": "display_data"
        },
        {
          "name": "stdout",
          "output_type": "stream",
          "text": [
            "\n",
            "Total data points collected: 8434456\n"
          ]
        }
      ],
      "source": [
        "# Create a summary of collected data\n",
        "summary = {\n",
        "    \"Location\": len(location_data),\n",
        "    \"Mood\": len(mood_data),\n",
        "    \"Activity\": len(activity_data),\n",
        "    \"Heart Rate\": len(heartrate_data),\n",
        "    \"Accelerometer\": len(accelerometer_data),\n",
        "    \"Notification\": len(notification_data)\n",
        "}\n",
        "\n",
        "summary_df = pd.DataFrame({\n",
        "    \"Data Type\": list(summary.keys()),\n",
        "    \"Count\": list(summary.values())\n",
        "})\n",
        "\n",
        "# Display summary\n",
        "display(summary_df)\n",
        "\n",
        "print(f\"\\nTotal data points collected: {sum(summary.values())}\")"
      ]
    }
  ],
  "metadata": {
    "kernelspec": {
      "display_name": "Python 3",
      "language": "python",
      "name": "python3"
    },
    "language_info": {
      "codemirror_mode": {
        "name": "ipython",
        "version": 3
      },
      "file_extension": ".py",
      "mimetype": "text/x-python",
      "name": "python",
      "nbconvert_exporter": "python",
      "pygments_lexer": "ipython3",
      "version": "3.12.5"
    }
  },
  "nbformat": 4,
  "nbformat_minor": 4
}
