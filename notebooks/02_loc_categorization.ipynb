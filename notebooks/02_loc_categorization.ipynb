{
 "cells": [
  {
   "cell_type": "markdown",
   "metadata": {},
   "source": [
    "# GameBus Health Behavior Mining - Location Categorization\n",
    "\n",
    "This notebook demonstrates how to categorize location data from GameBus by type using the Google Places API (new).\n",
    "\n",
    "## Setup\n",
    "\n",
    "First, let's set up our environment and import the necessary modules."
   ]
  },
  {
   "cell_type": "code",
   "execution_count": 1,
   "metadata": {},
   "outputs": [
    {
     "name": "stdout",
     "output_type": "stream",
     "text": [
      "2025-05-15 15:21:35,021 - gamebus_health_mining - INFO - Location categorization script started.\n",
      "2025-05-15 15:21:35,021 - gamebus_health_mining - INFO - Notebook initialized\n",
      "2025-05-15 15:21:35,021 - gamebus_health_mining - INFO - Notebook initialized\n"
     ]
    }
   ],
   "source": [
    "import sys\n",
    "\n",
    "# Add the project root directory to the Python path\n",
    "sys.path.append('..')\n",
    "\n",
    "# Import project modules\n",
    "from src.categorization.location_categorizer import LocationCategorizer\n",
    "from src.utils.logging import setup_logging\n",
    "\n",
    "# Set up logging\n",
    "logger = setup_logging(log_level=\"INFO\")\n",
    "logger.info(\"Notebook initialized\")"
   ]
  },
  {
   "cell_type": "markdown",
   "metadata": {},
   "source": [
    "## Categorize the Location Data\n",
    "The 'LocationCategorizer' class categorizes GPS coordinates to types using the Google Places API. "
   ]
  },
  {
   "cell_type": "code",
   "execution_count": 2,
   "metadata": {},
   "outputs": [],
   "source": [
    "# Instantiate the categorizer\n",
    "categorizer = LocationCategorizer() "
   ]
  },
  {
   "cell_type": "markdown",
   "metadata": {},
   "source": [
    "## Load Raw Location Data from a GameBus User\n",
    "This loads the raw location data for a specific player (replace with your player ID if needed)\n",
    "(Optional)This selects only the first 5 data points for demonstration. Google API calls have a cost. \n",
    "We keep a list of unique location data points in cache to minimize API calls. We consider a minimum distance between unique location points. "
   ]
  },
  {
   "cell_type": "code",
   "execution_count": 3,
   "metadata": {},
   "outputs": [
    {
     "name": "stdout",
     "output_type": "stream",
     "text": [
      "2025-05-15 15:21:40,075 - gamebus_health_mining - INFO - Loaded 15130 location data points for player 107631\n",
      "2025-05-15 15:21:40,075 - gamebus_health_mining - INFO - Loaded 15130 location data points for player 107631\n",
      "2025-05-15 15:21:40,075 - gamebus_health_mining - INFO - Loaded 15130 location data points for player 107631\n"
     ]
    },
    {
     "data": {
      "text/html": [
       "<div>\n",
       "<style scoped>\n",
       "    .dataframe tbody tr th:only-of-type {\n",
       "        vertical-align: middle;\n",
       "    }\n",
       "\n",
       "    .dataframe tbody tr th {\n",
       "        vertical-align: top;\n",
       "    }\n",
       "\n",
       "    .dataframe thead th {\n",
       "        text-align: right;\n",
       "    }\n",
       "</style>\n",
       "<table border=\"1\" class=\"dataframe\">\n",
       "  <thead>\n",
       "    <tr style=\"text-align: right;\">\n",
       "      <th></th>\n",
       "      <th>LATITUDE</th>\n",
       "      <th>LONGITUDE</th>\n",
       "      <th>ALTIDUDE</th>\n",
       "      <th>SPEED</th>\n",
       "      <th>ERROR</th>\n",
       "      <th>TIMESTAMP</th>\n",
       "      <th>ARM</th>\n",
       "      <th>activity_id</th>\n",
       "      <th>date</th>\n",
       "      <th>gameDescriptor</th>\n",
       "    </tr>\n",
       "  </thead>\n",
       "  <tbody>\n",
       "    <tr>\n",
       "      <th>0</th>\n",
       "      <td>200</td>\n",
       "      <td>200</td>\n",
       "      <td>0</td>\n",
       "      <td>0</td>\n",
       "      <td>0</td>\n",
       "      <td>1747300689</td>\n",
       "      <td>Arm 2</td>\n",
       "      <td>3358902</td>\n",
       "      <td>1747300749000</td>\n",
       "      <td>GEOFENCE</td>\n",
       "    </tr>\n",
       "    <tr>\n",
       "      <th>1</th>\n",
       "      <td>200</td>\n",
       "      <td>200</td>\n",
       "      <td>0</td>\n",
       "      <td>0</td>\n",
       "      <td>0</td>\n",
       "      <td>1747300628</td>\n",
       "      <td>Arm 2</td>\n",
       "      <td>3358901</td>\n",
       "      <td>1747300689000</td>\n",
       "      <td>GEOFENCE</td>\n",
       "    </tr>\n",
       "    <tr>\n",
       "      <th>2</th>\n",
       "      <td>200</td>\n",
       "      <td>200</td>\n",
       "      <td>0</td>\n",
       "      <td>0</td>\n",
       "      <td>0</td>\n",
       "      <td>1747300568</td>\n",
       "      <td>Arm 2</td>\n",
       "      <td>3358900</td>\n",
       "      <td>1747300629000</td>\n",
       "      <td>GEOFENCE</td>\n",
       "    </tr>\n",
       "    <tr>\n",
       "      <th>3</th>\n",
       "      <td>200</td>\n",
       "      <td>200</td>\n",
       "      <td>0</td>\n",
       "      <td>0</td>\n",
       "      <td>0</td>\n",
       "      <td>1747300508</td>\n",
       "      <td>Arm 2</td>\n",
       "      <td>3358897</td>\n",
       "      <td>1747300568000</td>\n",
       "      <td>GEOFENCE</td>\n",
       "    </tr>\n",
       "    <tr>\n",
       "      <th>4</th>\n",
       "      <td>200</td>\n",
       "      <td>200</td>\n",
       "      <td>0</td>\n",
       "      <td>0</td>\n",
       "      <td>0</td>\n",
       "      <td>1747300448</td>\n",
       "      <td>Arm 2</td>\n",
       "      <td>3358896</td>\n",
       "      <td>1747300508000</td>\n",
       "      <td>GEOFENCE</td>\n",
       "    </tr>\n",
       "  </tbody>\n",
       "</table>\n",
       "</div>"
      ],
      "text/plain": [
       "  LATITUDE LONGITUDE ALTIDUDE SPEED ERROR   TIMESTAMP    ARM  activity_id  \\\n",
       "0      200       200        0     0     0  1747300689  Arm 2      3358902   \n",
       "1      200       200        0     0     0  1747300628  Arm 2      3358901   \n",
       "2      200       200        0     0     0  1747300568  Arm 2      3358900   \n",
       "3      200       200        0     0     0  1747300508  Arm 2      3358897   \n",
       "4      200       200        0     0     0  1747300448  Arm 2      3358896   \n",
       "\n",
       "            date gameDescriptor  \n",
       "0  1747300749000       GEOFENCE  \n",
       "1  1747300689000       GEOFENCE  \n",
       "2  1747300629000       GEOFENCE  \n",
       "3  1747300568000       GEOFENCE  \n",
       "4  1747300508000       GEOFENCE  "
      ]
     },
     "execution_count": 3,
     "metadata": {},
     "output_type": "execute_result"
    }
   ],
   "source": [
    "player_id = 107631\n",
    "location_df = categorizer.load_player_location_df(player_id)\n",
    "\n",
    "#(Optional) Select first 5 data points\n",
    "sub_location_df = location_df.iloc[0:5]\n",
    "sub_location_df"
   ]
  },
  {
   "cell_type": "code",
   "execution_count": 4,
   "metadata": {},
   "outputs": [
    {
     "name": "stdout",
     "output_type": "stream",
     "text": [
      "2025-05-15 15:21:58,051 - gamebus_health_mining - INFO - Categorized data saved to c:\\Users\\20236075\\OneDrive - TU Eindhoven\\Documents\\GitHub\\GameBus-HealthBehaviorMining\\data\\categorized\\player_107631_location_categorized.json and c:\\Users\\20236075\\OneDrive - TU Eindhoven\\Documents\\GitHub\\GameBus-HealthBehaviorMining\\data\\categorized\\player_107631_location_categorized.csv\n",
      "2025-05-15 15:21:58,051 - gamebus_health_mining - INFO - Categorized data saved to c:\\Users\\20236075\\OneDrive - TU Eindhoven\\Documents\\GitHub\\GameBus-HealthBehaviorMining\\data\\categorized\\player_107631_location_categorized.json and c:\\Users\\20236075\\OneDrive - TU Eindhoven\\Documents\\GitHub\\GameBus-HealthBehaviorMining\\data\\categorized\\player_107631_location_categorized.csv\n",
      "2025-05-15 15:21:58,051 - gamebus_health_mining - INFO - Categorized data saved to c:\\Users\\20236075\\OneDrive - TU Eindhoven\\Documents\\GitHub\\GameBus-HealthBehaviorMining\\data\\categorized\\player_107631_location_categorized.json and c:\\Users\\20236075\\OneDrive - TU Eindhoven\\Documents\\GitHub\\GameBus-HealthBehaviorMining\\data\\categorized\\player_107631_location_categorized.csv\n"
     ]
    },
    {
     "data": {
      "text/html": [
       "<div>\n",
       "<style scoped>\n",
       "    .dataframe tbody tr th:only-of-type {\n",
       "        vertical-align: middle;\n",
       "    }\n",
       "\n",
       "    .dataframe tbody tr th {\n",
       "        vertical-align: top;\n",
       "    }\n",
       "\n",
       "    .dataframe thead th {\n",
       "        text-align: right;\n",
       "    }\n",
       "</style>\n",
       "<table border=\"1\" class=\"dataframe\">\n",
       "  <thead>\n",
       "    <tr style=\"text-align: right;\">\n",
       "      <th></th>\n",
       "      <th>LATITUDE</th>\n",
       "      <th>LONGITUDE</th>\n",
       "      <th>ALTIDUDE</th>\n",
       "      <th>SPEED</th>\n",
       "      <th>ERROR</th>\n",
       "      <th>TIMESTAMP</th>\n",
       "      <th>ARM</th>\n",
       "      <th>activity_id</th>\n",
       "      <th>date</th>\n",
       "      <th>gameDescriptor</th>\n",
       "      <th>location_type</th>\n",
       "    </tr>\n",
       "  </thead>\n",
       "  <tbody>\n",
       "    <tr>\n",
       "      <th>0</th>\n",
       "      <td>200</td>\n",
       "      <td>200</td>\n",
       "      <td>0</td>\n",
       "      <td>0</td>\n",
       "      <td>0</td>\n",
       "      <td>1747300689</td>\n",
       "      <td>Arm 2</td>\n",
       "      <td>3358902</td>\n",
       "      <td>1747300749000</td>\n",
       "      <td>GEOFENCE</td>\n",
       "      <td>NaN</td>\n",
       "    </tr>\n",
       "    <tr>\n",
       "      <th>1</th>\n",
       "      <td>200</td>\n",
       "      <td>200</td>\n",
       "      <td>0</td>\n",
       "      <td>0</td>\n",
       "      <td>0</td>\n",
       "      <td>1747300628</td>\n",
       "      <td>Arm 2</td>\n",
       "      <td>3358901</td>\n",
       "      <td>1747300689000</td>\n",
       "      <td>GEOFENCE</td>\n",
       "      <td>NaN</td>\n",
       "    </tr>\n",
       "    <tr>\n",
       "      <th>2</th>\n",
       "      <td>200</td>\n",
       "      <td>200</td>\n",
       "      <td>0</td>\n",
       "      <td>0</td>\n",
       "      <td>0</td>\n",
       "      <td>1747300568</td>\n",
       "      <td>Arm 2</td>\n",
       "      <td>3358900</td>\n",
       "      <td>1747300629000</td>\n",
       "      <td>GEOFENCE</td>\n",
       "      <td>NaN</td>\n",
       "    </tr>\n",
       "    <tr>\n",
       "      <th>3</th>\n",
       "      <td>200</td>\n",
       "      <td>200</td>\n",
       "      <td>0</td>\n",
       "      <td>0</td>\n",
       "      <td>0</td>\n",
       "      <td>1747300508</td>\n",
       "      <td>Arm 2</td>\n",
       "      <td>3358897</td>\n",
       "      <td>1747300568000</td>\n",
       "      <td>GEOFENCE</td>\n",
       "      <td>NaN</td>\n",
       "    </tr>\n",
       "    <tr>\n",
       "      <th>4</th>\n",
       "      <td>200</td>\n",
       "      <td>200</td>\n",
       "      <td>0</td>\n",
       "      <td>0</td>\n",
       "      <td>0</td>\n",
       "      <td>1747300448</td>\n",
       "      <td>Arm 2</td>\n",
       "      <td>3358896</td>\n",
       "      <td>1747300508000</td>\n",
       "      <td>GEOFENCE</td>\n",
       "      <td>NaN</td>\n",
       "    </tr>\n",
       "  </tbody>\n",
       "</table>\n",
       "</div>"
      ],
      "text/plain": [
       "  LATITUDE LONGITUDE ALTIDUDE SPEED ERROR   TIMESTAMP    ARM  activity_id  \\\n",
       "0      200       200        0     0     0  1747300689  Arm 2      3358902   \n",
       "1      200       200        0     0     0  1747300628  Arm 2      3358901   \n",
       "2      200       200        0     0     0  1747300568  Arm 2      3358900   \n",
       "3      200       200        0     0     0  1747300508  Arm 2      3358897   \n",
       "4      200       200        0     0     0  1747300448  Arm 2      3358896   \n",
       "\n",
       "            date gameDescriptor location_type  \n",
       "0  1747300749000       GEOFENCE           NaN  \n",
       "1  1747300689000       GEOFENCE           NaN  \n",
       "2  1747300629000       GEOFENCE           NaN  \n",
       "3  1747300568000       GEOFENCE           NaN  \n",
       "4  1747300508000       GEOFENCE           NaN  "
      ]
     },
     "execution_count": 4,
     "metadata": {},
     "output_type": "execute_result"
    }
   ],
   "source": [
    "#categorized_df = categorizer.categorize_location_df(location_df, player_id=player_id)\n",
    "categorized_df = categorizer.categorize_location_df(sub_location_df, player_id=player_id)\n",
    "categorized_df"
   ]
  },
  {
   "cell_type": "markdown",
   "metadata": {},
   "source": [
    "## Save Categorized Data to JSON output"
   ]
  },
  {
   "cell_type": "code",
   "execution_count": 5,
   "metadata": {},
   "outputs": [
    {
     "name": "stdout",
     "output_type": "stream",
     "text": [
      "2025-05-15 15:22:01,132 - gamebus_health_mining - INFO - Categorized location data saved to c:\\Users\\20236075\\OneDrive - TU Eindhoven\\Documents\\GitHub\\GameBus-HealthBehaviorMining\\data\\categorized\\player_107631_categorized_location.json\n",
      "2025-05-15 15:22:01,132 - gamebus_health_mining - INFO - Categorized location data saved to c:\\Users\\20236075\\OneDrive - TU Eindhoven\\Documents\\GitHub\\GameBus-HealthBehaviorMining\\data\\categorized\\player_107631_categorized_location.json\n",
      "2025-05-15 15:22:01,132 - gamebus_health_mining - INFO - Categorized location data saved to c:\\Users\\20236075\\OneDrive - TU Eindhoven\\Documents\\GitHub\\GameBus-HealthBehaviorMining\\data\\categorized\\player_107631_categorized_location.json\n"
     ]
    }
   ],
   "source": [
    "categorizer.save_categorized_location_json(categorized_df, player_id)"
   ]
  }
 ],
 "metadata": {
  "kernelspec": {
   "display_name": "Python 3",
   "language": "python",
   "name": "python3"
  },
  "language_info": {
   "codemirror_mode": {
    "name": "ipython",
    "version": 3
   },
   "file_extension": ".py",
   "mimetype": "text/x-python",
   "name": "python",
   "nbconvert_exporter": "python",
   "pygments_lexer": "ipython3",
   "version": "3.12.5"
  }
 },
 "nbformat": 4,
 "nbformat_minor": 2
}
