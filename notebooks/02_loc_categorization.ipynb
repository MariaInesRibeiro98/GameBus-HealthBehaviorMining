{
 "cells": [
  {
   "cell_type": "markdown",
   "metadata": {},
   "source": [
    "# GameBus Health Behavior Mining - Location Categorization\n",
    "\n",
    "This notebook demonstrates how to categorize location data from GameBus by type using the Google Places API (new).\n",
    "\n",
    "## Setup\n",
    "\n",
    "First, let's set up our environment and import the necessary modules."
   ]
  },
  {
   "cell_type": "code",
   "execution_count": null,
   "metadata": {},
   "outputs": [],
   "source": [
    "import sys\n",
    "\n",
    "# Add the project root directory to the Python path\n",
    "sys.path.append('..')\n",
    "\n",
    "# Import project modules\n",
    "from src.categorization.location_categorizer import LocationCategorizer\n",
    "from src.utils.logging import setup_logging\n",
    "\n",
    "# Set up logging\n",
    "logger = setup_logging(log_level=\"INFO\")\n",
    "logger.info(\"Notebook initialized\")"
   ]
  },
  {
   "cell_type": "markdown",
   "metadata": {},
   "source": [
    "## Categorize the Location Data\n",
    "The 'LocationCategorizer' class categorizes GPS coordinates to types using the Google Places API. "
   ]
  },
  {
   "cell_type": "code",
   "execution_count": 2,
   "metadata": {},
   "outputs": [],
   "source": [
    "# Instantiate the categorizer\n",
    "categorizer = LocationCategorizer() "
   ]
  },
  {
   "cell_type": "markdown",
   "metadata": {},
   "source": [
    "## Load Raw Location Data from a GameBus User\n",
    "This loads the raw location data for a specific player (replace with your player ID if needed)\n",
    "(Optional)This selects only the first 5 data points for demonstration. Google API calls have a cost. \n",
    "We keep a list of unique location data points in cache to minimize API calls. We consider a minimum distance between unique location points. "
   ]
  },
  {
   "cell_type": "code",
   "execution_count": null,
   "metadata": {},
   "outputs": [],
   "source": [
    "player_id = 107631\n",
    "location_df = categorizer.load_player_location_df(player_id)\n",
    "\n",
    "#(Optional) Select first 5 data points\n",
    "sub_location_df = location_df.iloc[0:5]\n",
    "sub_location_df"
   ]
  },
  {
   "cell_type": "code",
   "execution_count": null,
   "metadata": {},
   "outputs": [],
   "source": [
    "#categorized_df = categorizer.categorize_location_df(location_df, player_id=player_id)\n",
    "categorized_df = categorizer.categorize_location_df(sub_location_df, player_id=player_id)\n",
    "categorized_df"
   ]
  },
  {
   "cell_type": "markdown",
   "metadata": {},
   "source": [
    "## Save Categorized Data to JSON output"
   ]
  },
  {
   "cell_type": "code",
   "execution_count": null,
   "metadata": {},
   "outputs": [],
   "source": [
    "categorizer.save_categorized_location_json(categorized_df, player_id)"
   ]
  }
 ],
 "metadata": {
  "kernelspec": {
   "display_name": "Python 3",
   "language": "python",
   "name": "python3"
  },
  "language_info": {
   "codemirror_mode": {
    "name": "ipython",
    "version": 3
   },
   "file_extension": ".py",
   "mimetype": "text/x-python",
   "name": "python",
   "nbconvert_exporter": "python",
   "pygments_lexer": "ipython3",
   "version": "3.12.5"
  }
 },
 "nbformat": 4,
 "nbformat_minor": 2
}
