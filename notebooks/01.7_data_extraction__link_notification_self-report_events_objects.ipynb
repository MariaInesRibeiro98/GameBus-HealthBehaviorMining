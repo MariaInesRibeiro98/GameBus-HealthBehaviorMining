{
 "cells": [
  {
   "cell_type": "markdown",
   "metadata": {},
   "source": [
    "# 01.7 Data Extraction - Link Objects and Events of Notifications and Stress\n",
    "\n",
    "This notebook demonstrates how to link self-report objects to notification events, and notification objects to self-report events. "
   ]
  },
  {
   "cell_type": "markdown",
   "metadata": {},
   "source": [
    "## Setup"
   ]
  },
  {
   "cell_type": "code",
   "execution_count": 2,
   "metadata": {},
   "outputs": [],
   "source": [
    "\n",
    "from datetime import timedelta\n",
    "import sys\n",
    "sys.path.append('..')\n",
    "# Import project modules\n",
    "from src.oced.oced_data_query import OCEDDataQuery\n",
    "from src.oced.stress_objects import StressObjectManager\n",
    "from src.oced.notification_events import NotificationEventManager"
   ]
  },
  {
   "cell_type": "markdown",
   "metadata": {},
   "source": [
    "## Load OCED Data"
   ]
  },
  {
   "cell_type": "code",
   "execution_count": 3,
   "metadata": {},
   "outputs": [
    {
     "name": "stdout",
     "output_type": "stream",
     "text": [
      "Number of behavior events: 1176\n",
      "Number of objects: 688\n"
     ]
    }
   ],
   "source": [
    "# Get OCED Data from JSON File\n",
    "dataQuery = OCEDDataQuery()  \n",
    "oced_data_file = f\"player_107631_oced_data_time_bouts_notifications_stress_location.json\"\n",
    "data_dict = dataQuery.load_json(oced_data_file)\n",
    "\n",
    "# Quick look at the data structure\n",
    "print(f\"Number of behavior events: {len(data_dict.get('behaviorEvents', []))}\")\n",
    "print(f\"Number of objects: {len(data_dict.get('objects', []))}\")"
   ]
  },
  {
   "cell_type": "markdown",
   "metadata": {},
   "source": [
    "## Initialize Managers"
   ]
  },
  {
   "cell_type": "code",
   "execution_count": 4,
   "metadata": {},
   "outputs": [],
   "source": [
    "stress_manager = StressObjectManager()\n",
    "notif_manager = NotificationEventManager()"
   ]
  },
  {
   "cell_type": "markdown",
   "metadata": {},
   "source": [
    "## Link Stress Reports Objects to Notification Events"
   ]
  },
  {
   "cell_type": "code",
   "execution_count": 5,
   "metadata": {},
   "outputs": [
    {
     "name": "stdout",
     "output_type": "stream",
     "text": [
      "Number of notification events now linked to stress_self_report objects: 100\n"
     ]
    }
   ],
   "source": [
    "extended_data = stress_manager.link_stress_reports_to_notification_events(data_dict)\n",
    "\n",
    "# Check results\n",
    "linked_notif_events = [\n",
    "    event for event in extended_data.get('behaviorEvents', [])\n",
    "    if event.get('behaviorEventType') == 'notification' and any(\n",
    "        rel['qualifier'] == 'reports_stress' for rel in event.get('relationships', [])\n",
    "    )\n",
    "]\n",
    "print(f\"Number of notification events now linked to stress_self_report objects: {len(linked_notif_events)}\")"
   ]
  },
  {
   "cell_type": "markdown",
   "metadata": {},
   "source": [
    "## Link Notification Objects to Self Report Events"
   ]
  },
  {
   "cell_type": "code",
   "execution_count": 6,
   "metadata": {},
   "outputs": [
    {
     "name": "stdout",
     "output_type": "stream",
     "text": [
      "Number of mood events now linked to notification objects: 52\n"
     ]
    }
   ],
   "source": [
    "extended_data = notif_manager.link_notification_objects_to_stress_events(extended_data)\n",
    "\n",
    "# Check results\n",
    "linked_mood_events = [\n",
    "    event for event in extended_data.get('behaviorEvents', [])\n",
    "    if event.get('behaviorEventType') == 'mood' and any(\n",
    "        rel['qualifier'] == 'notified_by' for rel in event.get('relationships', [])\n",
    "    )\n",
    "]\n",
    "print(f\"Number of mood events now linked to notification objects: {len(linked_mood_events)}\")"
   ]
  },
  {
   "cell_type": "markdown",
   "metadata": {},
   "source": [
    "## Save Extended Data"
   ]
  },
  {
   "cell_type": "code",
   "execution_count": 7,
   "metadata": {},
   "outputs": [
    {
     "name": "stdout",
     "output_type": "stream",
     "text": [
      "\n",
      "Saving extended data with:\n",
      "- 104 notification objects\n",
      "- 158 notification events\n",
      "- 688 total objects\n",
      "- 1176 total behavior events\n",
      "Saved extended data to: c:\\Users\\20236075\\OneDrive - TU Eindhoven\\Documents\\GitHub\\GameBus-HealthBehaviorMining\\notebooks\\..\\data\\transformed\\player_107631_oced_data_time_bouts_notifications_stress_location_linked.json\n"
     ]
    }
   ],
   "source": [
    "notif_manager.save_extended_data(\"player_107631_oced_data_time_bouts_notifications_stress_location_linked.json\", extended_data)"
   ]
  }
 ],
 "metadata": {
  "kernelspec": {
   "display_name": "Python 3",
   "language": "python",
   "name": "python3"
  },
  "language_info": {
   "codemirror_mode": {
    "name": "ipython",
    "version": 3
   },
   "file_extension": ".py",
   "mimetype": "text/x-python",
   "name": "python",
   "nbconvert_exporter": "python",
   "pygments_lexer": "ipython3",
   "version": "3.12.5"
  }
 },
 "nbformat": 4,
 "nbformat_minor": 2
}
