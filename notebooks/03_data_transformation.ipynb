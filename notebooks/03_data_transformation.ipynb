{
 "cells": [
  {
   "cell_type": "markdown",
   "metadata": {},
   "source": [
    "# GameBus Health Behavior Mining - Data Transformation\n",
    "\n",
    "This notebook demonstrates how to transform GameBus data into the OCED-mHealth structure."
   ]
  },
  {
   "cell_type": "markdown",
   "metadata": {},
   "source": [
    "## Setup\n",
    "\n",
    "First, let's set up our environment and import the necessary modules."
   ]
  },
  {
   "cell_type": "code",
   "execution_count": 1,
   "metadata": {},
   "outputs": [],
   "source": [
    "import logging\n",
    "import sys\n",
    "from pprint import pprint\n",
    "import datetime\n",
    "from pathlib import Path\n",
    "# Add the project root directory to the Python path\n",
    "sys.path.append('..')\n",
    "from src.transformation.gamebus_to_oced_transformer import GameBusToOCEDTransformer\n",
    "\n",
    "# Set up logging\n",
    "logging.basicConfig(level=logging.INFO)\n",
    "logger = logging.getLogger(__name__)"
   ]
  },
  {
   "cell_type": "markdown",
   "metadata": {},
   "source": [
    "## Define Gamebus User and Intervention "
   ]
  },
  {
   "cell_type": "code",
   "execution_count": 2,
   "metadata": {},
   "outputs": [],
   "source": [
    "# Example configuration\n",
    "player_id = \"107631\"  # Example player ID from the data files\n",
    "intervention_start = datetime.datetime(2025,5,9) \n",
    "intervention_end = datetime.datetime(2025,6,8)\n",
    "intervention_goal = \"Illustrate the use of process mining in mHealth applications\""
   ]
  },
  {
   "cell_type": "markdown",
   "metadata": {},
   "source": [
    "## Initialize transformer"
   ]
  },
  {
   "cell_type": "code",
   "execution_count": 3,
   "metadata": {},
   "outputs": [],
   "source": [
    "transformer = GameBusToOCEDTransformer(\n",
    "    player_id=player_id,\n",
    "    intervention_start=intervention_start,\n",
    "    intervention_end=intervention_end,\n",
    "    intervention_goal=intervention_goal\n",
    ")"
   ]
  },
  {
   "cell_type": "markdown",
   "metadata": {},
   "source": [
    "## Load All Player Data\n",
    "Load all extracted data from a sample player into DataFrames"
   ]
  },
  {
   "cell_type": "code",
   "execution_count": 6,
   "metadata": {},
   "outputs": [],
   "source": [
    "# Load all player data into DataFrames\n",
    "data = transformer.load_all_player_data(player_id)"
   ]
  },
  {
   "cell_type": "markdown",
   "metadata": {},
   "source": [
    "## Transform Data by Type\n",
    "Transforms Gamebus data by type to OCED-mHealth data. It creates sensor events (from accelerometer, heartrate, location and activity_type data) and behavior events (from mood and notifications data)"
   ]
  },
  {
   "cell_type": "code",
   "execution_count": 7,
   "metadata": {},
   "outputs": [],
   "source": [
    "# Transform each type of data\n",
    "if \"accelerometer\" in data:\n",
    "    transformer.transform_accelerometer_data(data[\"accelerometer\"])\n",
    "    \n",
    "if \"activity_type\" in data:\n",
    "    transformer.transform_activity_data(data[\"activity_type\"])\n",
    "    \n",
    "if \"heartrate\" in data:\n",
    "    transformer.transform_heartrate_data(data[\"heartrate\"])\n",
    "    \n",
    "if \"location\" in data:\n",
    "    transformer.transform_location_data(data[\"location\"])\n",
    "    \n",
    "if \"mood\" in data:\n",
    "    transformer.transform_mood_data(data[\"mood\"])\n",
    "    \n",
    "if \"notifications\" in data:\n",
    "    transformer.transform_notification_data(data[\"notifications\"])"
   ]
  },
  {
   "cell_type": "markdown",
   "metadata": {},
   "source": [
    "## Save the Transformed Data in OCED-mHealth schema"
   ]
  },
  {
   "cell_type": "code",
   "execution_count": 8,
   "metadata": {},
   "outputs": [
    {
     "name": "stderr",
     "output_type": "stream",
     "text": [
      "INFO:src.transformation.gamebus_to_oced_transformer:Transformed data saved to data\\transformed\\oced_data_107631.json\n",
      "INFO:__main__:Transformation complete. Data saved to data\\transformed\\oced_data_107631.json\n"
     ]
    }
   ],
   "source": [
    "# Save the transformed data\n",
    "output_path = Path(\"data/transformed\") / f\"oced_data_{player_id}.json\"\n",
    "output_path.parent.mkdir(parents=True, exist_ok=True)\n",
    "transformer.save_to_file(str(output_path))\n",
    "logger.info(f\"Transformation complete. Data saved to {output_path}\")"
   ]
  },
  {
   "cell_type": "markdown",
   "metadata": {},
   "source": []
  }
 ],
 "metadata": {
  "kernelspec": {
   "display_name": "Python 3",
   "language": "python",
   "name": "python3"
  },
  "language_info": {
   "codemirror_mode": {
    "name": "ipython",
    "version": 3
   },
   "file_extension": ".py",
   "mimetype": "text/x-python",
   "name": "python",
   "nbconvert_exporter": "python",
   "pygments_lexer": "ipython3",
   "version": "3.12.5"
  }
 },
 "nbformat": 4,
 "nbformat_minor": 2
}
