{
 "cells": [
  {
   "cell_type": "markdown",
   "metadata": {},
   "source": [
    "# Object Creation: Notification Objects\n",
    "\n",
    "This notebook demonstrates how to use the NotificationEventManager class to process notification events and create notification objects from OCED data.\n",
    "\n",
    "### Notes:\n",
    "- Update the file paths and user ID to match your data\n",
    "- The notification objects track the last action (RECEIVED/READ) and its timestamp\n",
    "- Each notification is linked to both the user and the day it occurred\n",
    "- The extended data includes both the original OCED data and the new notification objects"
   ]
  },
  {
   "cell_type": "markdown",
   "metadata": {},
   "source": [
    "## 1. Setup"
   ]
  },
  {
   "cell_type": "code",
   "execution_count": 2,
   "metadata": {},
   "outputs": [],
   "source": [
    "import datetime\n",
    "import sys\n",
    "# Add the project root directory to the Python path\n",
    "sys.path.append('..')\n",
    "from concurrent.futures import ThreadPoolExecutor\n",
    "from src.oced.oced_data_query import OCEDDataQuery\n",
    "from src.oced.time_objects import TimeObject\n",
    "import matplotlib.pyplot as plt\n",
    "import numpy as np\n",
    "import seaborn as sns\n",
    "from scipy import stats\n",
    "import gc\n",
    "import json\n",
    "import pandas as pd\n",
    "from pathlib import Path\n",
    "from typing import Dict, Any\n",
    "from src.oced.notification_events import NotificationEventManager"
   ]
  },
  {
   "cell_type": "markdown",
   "metadata": {},
   "source": [
    "## 2. Load OCED Data"
   ]
  },
  {
   "cell_type": "code",
   "execution_count": 3,
   "metadata": {},
   "outputs": [
    {
     "name": "stdout",
     "output_type": "stream",
     "text": [
      "Number of behavior events: 134\n",
      "Number of objects: 63\n"
     ]
    }
   ],
   "source": [
    "# Get OCED-mHealth Data from JSON File\n",
    "dataQuery = OCEDDataQuery()  \n",
    "oced_data_file = f\"oced_data_time_bouts.json\"\n",
    "data_dict = dataQuery.load_json(oced_data_file)\n",
    "\n",
    "# Quick look at the data structure\n",
    "print(f\"Number of behavior events: {len(data_dict.get('behaviorEvents', []))}\")\n",
    "print(f\"Number of objects: {len(data_dict.get('objects', []))}\")"
   ]
  },
  {
   "cell_type": "markdown",
   "metadata": {},
   "source": [
    "## 3. Initialize Notification Manager and Process Data"
   ]
  },
  {
   "cell_type": "code",
   "execution_count": null,
   "metadata": {},
   "outputs": [],
   "source": [
    "# Initialize the manager\n",
    "notification_manager = NotificationEventManager()\n",
    "\n",
    "# Add notification object type to the data\n",
    "oced_data = notification_manager.create_notification_object_type(data_dict)\n",
    "\n",
    "# Create notification objects and link events\n",
    "# Replace 'your_user_id' with actual user ID\n",
    "extended_data, notification_objects = notification_manager.create_notification_objects(\n",
    "    data=oced_data,\n",
    "    user_id='your_user_id'\n",
    ")"
   ]
  },
  {
   "cell_type": "markdown",
   "metadata": {},
   "source": [
    "## 4. Analyse results"
   ]
  },
  {
   "cell_type": "code",
   "execution_count": null,
   "metadata": {},
   "outputs": [],
   "source": [
    "# Print basic statistics\n",
    "print(f\"Total notification objects created: {len(notification_objects)}\")\n",
    "\n",
    "# Count notifications by last action\n",
    "action_counts = {}\n",
    "for obj in notification_objects:\n",
    "    last_action = next(\n",
    "        (attr['value'] for attr in obj['attributes'] \n",
    "         if attr['name'] == 'last_action'),\n",
    "        None\n",
    "    )\n",
    "    action_counts[last_action] = action_counts.get(last_action, 0) + 1\n",
    "\n",
    "print(\"\\nNotifications by last action:\")\n",
    "for action, count in action_counts.items():\n",
    "    print(f\"- {action}: {count}\")\n",
    "\n",
    "# Optional: Create a DataFrame for more analysis\n",
    "notifications_df = pd.DataFrame([\n",
    "    {\n",
    "        'notification_id': obj['id'],\n",
    "        'last_action': next((attr['value'] for attr in obj['attributes'] \n",
    "                            if attr['name'] == 'last_action'), None),\n",
    "        'last_action_time': next((attr['time'] for attr in obj['attributes'] \n",
    "                                if attr['name'] == 'last_action'), None)\n",
    "    }\n",
    "    for obj in notification_objects\n",
    "])\n",
    "\n",
    "# Display first few notifications\n",
    "notifications_df.head()"
   ]
  },
  {
   "cell_type": "markdown",
   "metadata": {},
   "source": [
    "## 5. Save Processed Data"
   ]
  },
  {
   "cell_type": "code",
   "execution_count": null,
   "metadata": {},
   "outputs": [],
   "source": [
    "# Save the extended data\n",
    "output_file = \"notifications_processed.json\"  # Update this name as needed\n",
    "notification_manager.save_extended_data(\n",
    "    filename=output_file,\n",
    "    extended_data=extended_data,\n",
    "    compress=False  # Set to True for compressed output\n",
    ")"
   ]
  },
  {
   "cell_type": "markdown",
   "metadata": {},
   "source": [
    "## 6. Example: Query Notifications for a Specific Day"
   ]
  },
  {
   "cell_type": "code",
   "execution_count": 4,
   "metadata": {},
   "outputs": [
    {
     "ename": "NameError",
     "evalue": "name 'notification_manager' is not defined",
     "output_type": "error",
     "traceback": [
      "\u001b[1;31m---------------------------------------------------------------------------\u001b[0m",
      "\u001b[1;31mNameError\u001b[0m                                 Traceback (most recent call last)",
      "Cell \u001b[1;32mIn[4], line 3\u001b[0m\n\u001b[0;32m      1\u001b[0m \u001b[38;5;66;03m# Get notifications for a specific day\u001b[39;00m\n\u001b[0;32m      2\u001b[0m date_str \u001b[38;5;241m=\u001b[39m \u001b[38;5;124m\"\u001b[39m\u001b[38;5;124m2024-01-01\u001b[39m\u001b[38;5;124m\"\u001b[39m  \u001b[38;5;66;03m# Update this date\u001b[39;00m\n\u001b[1;32m----> 3\u001b[0m day_notifications \u001b[38;5;241m=\u001b[39m \u001b[43mnotification_manager\u001b[49m\u001b[38;5;241m.\u001b[39mget_notifications_for_day(\n\u001b[0;32m      4\u001b[0m     date_str\u001b[38;5;241m=\u001b[39mdate_str,\n\u001b[0;32m      5\u001b[0m     data\u001b[38;5;241m=\u001b[39mextended_data\n\u001b[0;32m      6\u001b[0m )\n",
      "\u001b[1;31mNameError\u001b[0m: name 'notification_manager' is not defined"
     ]
    }
   ],
   "source": [
    "# Get notifications for a specific day\n",
    "date_str = \"2024-01-01\"  # Update this date\n",
    "day_notifications = notification_manager.get_notifications_for_day(\n",
    "    date_str=date_str,\n",
    "    data=extended_data\n",
    ")\n",
    "\n",
    "print(f\"\\nNotifications for {date_str}:\")\n",
    "for notif in day_notifications:\n",
    "    last_action = next((attr['value'] for attr in notif['attributes'] \n",
    "                       if attr['name'] == 'last_action'), None)\n",
    "    last_action_time = next((attr['time'] for attr in notif['attributes'] \n",
    "                            if attr['name'] == 'last_action'), None)\n",
    "    print(f\"- ID: {notif['id']}, Last Action: {last_action} at {last_action_time}\")"
   ]
  },
  {
   "cell_type": "markdown",
   "metadata": {},
   "source": [
    "## 7. Example: Get Specific Notification Details"
   ]
  },
  {
   "cell_type": "code",
   "execution_count": null,
   "metadata": {},
   "outputs": [],
   "source": [
    "# Get details for a specific notification\n",
    "notification_id = notification_objects[0]['id']  # Example: first notification\n",
    "notification = notification_manager.get_notification_object(notification_id)\n",
    "\n",
    "if notification:\n",
    "    print(f\"\\nDetails for notification {notification_id}:\")\n",
    "    for attr in notification['attributes']:\n",
    "        print(f\"- {attr['name']}: {attr['value']} (at {attr['time']})\")\n",
    "    print(\"\\nRelationships:\")\n",
    "    for rel in notification['relationships']:\n",
    "        print(f\"- {rel['qualifier']}: {rel['id']} ({rel['type']})\")"
   ]
  }
 ],
 "metadata": {
  "kernelspec": {
   "display_name": "Python 3",
   "language": "python",
   "name": "python3"
  },
  "language_info": {
   "codemirror_mode": {
    "name": "ipython",
    "version": 3
   },
   "file_extension": ".py",
   "mimetype": "text/x-python",
   "name": "python",
   "nbconvert_exporter": "python",
   "pygments_lexer": "ipython3",
   "version": "3.12.5"
  }
 },
 "nbformat": 4,
 "nbformat_minor": 2
}
