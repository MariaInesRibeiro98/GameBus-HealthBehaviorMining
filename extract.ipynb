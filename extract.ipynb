{
 "cells": [
  {
   "cell_type": "markdown",
   "id": "bb797305-ab49-446d-bd2d-57c3303104c7",
   "metadata": {},
   "source": [
    "<H1> Extract</H1>\n",
    "Extract GameBus-Experiencer user data\n",
    "\n",
    "This Notebook handles monitoring data (incl. GPS location, activity type, heartrate, and accelerometer) and EMA data (incl. notifications and mood survey data)"
   ]
  },
  {
   "cell_type": "code",
   "execution_count": 55,
   "id": "215c3a26-7058-415e-8a14-cbf33300941a",
   "metadata": {},
   "outputs": [],
   "source": [
    "import json  \n",
    "import requests  \n",
    "import pandas as pd\n",
    "import datetime\n",
    "import ast\n",
    "import os\n",
    "from   collections import defaultdict\n",
    "#Import secrete variables containing or leading to sensible information\n",
    "from secret.users import GB_users_path\n",
    "from secret.auth import authcode\n",
    "from secret.output import output_path"
   ]
  },
  {
   "cell_type": "markdown",
   "id": "61406a60-eb81-4740-afaa-3448f31f17b1",
   "metadata": {},
   "source": [
    "<h5><b>Load the account credentials of GameBus users (hereafter, players) from a csv file</b></h5>\n",
    "<p>The csv file should include the username/email (column 'Username') and password (column 'Password') of the participants Gamebus account. Columns must have a header.</p> \n",
    "<p><i> See example file 'GB-users.csv'</i></p>\n",
    "<p>"
   ]
  },
  {
   "cell_type": "code",
   "execution_count": 2,
   "id": "ed37f4fa-5cb4-4683-babb-2076131802f3",
   "metadata": {},
   "outputs": [
    {
     "name": "stdout",
     "output_type": "stream",
     "text": [
      "Users successfuly loaded: 2\n"
     ]
    }
   ],
   "source": [
    "df    = pd.read_csv(GB_users_path, delimiter=';')\n",
    "users = df.to_numpy()\n",
    "print(f\"Users successfuly loaded: {len(df)}\")"
   ]
  },
  {
   "cell_type": "markdown",
   "id": "d7ef88a7-84ee-4128-b545-d4b5046f2c5d",
   "metadata": {},
   "source": [
    "<h4><b>Define API endpoints</b></h4>\n",
    "<p>Note what GameBus server you are working with for the base_url</p>"
   ]
  },
  {
   "cell_type": "code",
   "execution_count": 3,
   "id": "534388f8-31ca-4aa9-a6b5-3c7ad3e5d211",
   "metadata": {},
   "outputs": [],
   "source": [
    "base_url       = \"https://api-new.gamebus.eu/v2\" # \"https://api.healthyw8.gamebus.eu/v2\"\n",
    "player_id_url  = base_url + \"/users/current\"\n",
    "token_url      = base_url + \"/oauth/token\"\n",
    "activities_url = base_url + \"/players/{}/activities?sort=-date\""
   ]
  },
  {
   "cell_type": "markdown",
   "id": "930badee-1d43-457c-afaf-8e04e783a39c",
   "metadata": {},
   "source": [
    "<h4><b>Define auxiliary functions</b></h4>"
   ]
  },
  {
   "cell_type": "code",
   "execution_count": 4,
   "id": "70d241e2-7a26-4e33-b057-30e56446837f",
   "metadata": {},
   "outputs": [],
   "source": [
    "def get_player_token(username, password, authcode, token_url):\n",
    "    payload = {\n",
    "        \"grant_type\": \"password\",\n",
    "        \"username\"  : username,\n",
    "        \"password\"  : password\n",
    "    }\n",
    "    headers = {\n",
    "        \"Authorization\": f\"Basic {authcode}\",\n",
    "        \"Content-Type\" : \"application/x-www-form-urlencoded\",\n",
    "    }\n",
    "    try:\n",
    "        response = requests.post(token_url, headers=headers, data=payload)\n",
    "        response.raise_for_status()  \n",
    "        token = response.json().get(\"access_token\")\n",
    "        print(\"Token fetched successfully\")\n",
    "        return token\n",
    "    except requests.exceptions.RequestException as e:\n",
    "        print(f\"An error occurred: {e}\")\n",
    "        return None"
   ]
  },
  {
   "cell_type": "code",
   "execution_count": 5,
   "id": "26dd1366-2e9d-4ca6-9474-97ca58512b49",
   "metadata": {},
   "outputs": [],
   "source": [
    "def get_player_id(username, password, token, player_id_url):\n",
    "    payload = {\n",
    "        \"grant_type\": \"password\",\n",
    "        \"username\"  : username,\n",
    "        \"password\"  : password\n",
    "    }\n",
    "    headers = {\n",
    "        \"Authorization\": f\"Bearer {token}\"\n",
    "    }\n",
    "    try:\n",
    "        response = requests.get(player_id_url, headers=headers, params=payload)\n",
    "        response.raise_for_status()  # Ensure we raise an error for bad responses\n",
    "        player_data = response.json()\n",
    "        player_id = player_data.get(\"player\", {}).get(\"id\")\n",
    "        print(\"Player_id fetched successfully\")\n",
    "        return player_id\n",
    "    except requests.exceptions.RequestException as e:\n",
    "        print(f\"An error occurred: {e}\")\n",
    "        return None"
   ]
  },
  {
   "cell_type": "code",
   "execution_count": 27,
   "id": "fdfd473c-f4f6-454c-8de3-ced3fb285710",
   "metadata": {},
   "outputs": [],
   "source": [
    "def get_player_data(token, player_id, activities_url, gameDescriptor_tk):\n",
    "    \n",
    "    valid_gameDescriptor_tk = [\"GEOFENCE\", \"LOG_MOOD\", \"TIZEN(DETAIL)\", \"NOTIFICATION(DETAIL)\", \"SELFREPORT\"]\n",
    "    if gameDescriptor_tk not in valid_gameDescriptor_tk:\n",
    "        raise ValueError(\"Invalid gameDescriptor_tk provided. Valid descriptors are: \" + \", \".join(valid_gameDescriptor_tk))\n",
    "\n",
    "    headers = {\"Authorization\": f\"Bearer {token}\"}\n",
    "    if gameDescriptor_tk == \"SELFREPORT\":\n",
    "        data_url = (activities_url + \"&excludedGds=\").format(player_id)\n",
    "    else:    \n",
    "        data_url = (activities_url + \"&gds={}\").format(player_id, gameDescriptor_tk)\n",
    "        \n",
    "    all_player_data = []\n",
    "    page = 0\n",
    "    while True:\n",
    "        paginated_url = f\"{data_url}&page={page}\"\n",
    "        try:\n",
    "            response = requests.get(paginated_url, headers=headers)\n",
    "            response.raise_for_status()\n",
    "            print(f\"Player data fetched successfully for page {page}\")\n",
    "            player_data = response.json()\n",
    "            if not player_data:\n",
    "                break\n",
    "            all_player_data.extend(player_data)\n",
    "            page += 1\n",
    "        except requests.exceptions.RequestException as e:\n",
    "            print(f\"Failed to retrieve data: {e}\")\n",
    "            break\n",
    "    print(f\"Total data points fetched: {len(all_player_data)}\")\n",
    "    return all_player_data"
   ]
  },
  {
   "cell_type": "code",
   "execution_count": null,
   "id": "6f88664c-1e89-430f-99d7-3c3fc73c7a55",
   "metadata": {},
   "outputs": [],
   "source": [
    "def parse_player_data(player_data, gameDescriptor_tk, property_key=\"UNKNOWN\"):\n",
    "\n",
    "    #IF gameDescriptor_tk == \"TIZEN(DETAIL)\", please specify the property key\n",
    "    \n",
    "    valid_gameDescriptor_tk = [\"GEOFENCE\", \"LOG_MOOD\", \"TIZEN(DETAIL)\", \"NOTIFICATION(DETAIL)\", \"SELFREPORT\"]\n",
    "    if gameDescriptor_tk not in valid_gameDescriptor_tk:\n",
    "        raise ValueError(\"Invalid gameDescriptor_tk provided. Valid descriptors are: \" + \", \".join(valid_gameDescriptor_tk))\n",
    "    \n",
    "    valid_property_key = [\"UNKNOWN\", \"ACTIVITY_TYPE\", \"HRM_LOG\", \"ACC\"]\n",
    "    if property_key not in valid_property_key:\n",
    "        raise ValueError(\"Invalid property_key provided. Valid descriptors are: \" + \", \".join(valid_property_key))\n",
    "\n",
    "    if gameDescriptor_tk == \"GEOFENCE\" or gameDescriptor_tk == \"LOG_MOOD\" or gameDescriptor_tk == \"SELFREPORT\" or gameDescriptor_tk == \"NOTIFICATION(DETAIL)\":\n",
    "        data_list = []\n",
    "        for player_data_point in player_data:\n",
    "            data = {}\n",
    "            for property_instance in player_data_point[\"propertyInstances\"]:\n",
    "                property_key = property_instance[\"property\"][\"translationKey\"]\n",
    "                property_value = property_instance[\"value\"]\n",
    "                data[property_key] = property_value\n",
    "            data_list.append(data)\n",
    "        #for item in data_list:\n",
    "        #    timestamp = int(item['TIMESTAMP'])\n",
    "        #    item['TIMESTAMP'] = datetime.datetime.fromtimestamp(timestamp).strftime('%Y-%m-%d %H:%M:%S')\n",
    "    if gameDescriptor_tk == \"TIZEN(DETAIL)\": \n",
    "        data_list = []\n",
    "        for player_data_point in player_data:\n",
    "            data = {}\n",
    "            for property_instance in player_data_point[\"propertyInstances\"]:\n",
    "                prop_key = property_instance[\"property\"][\"translationKey\"]\n",
    "                property_value = property_instance[\"value\"]\n",
    "                if prop_key == \"ACTIVITY_TYPE\" and property_key == \"ACTIVITY_TYPE\":\n",
    "                    property_value_dict = ast.literal_eval(property_value)\n",
    "                    data_list.append(property_value_dict)\n",
    "                elif prop_key == \"HRM_LOG\" and property_key == \"HRM_LOG\": \n",
    "                    property_value_dict = ast.literal_eval(property_value)\n",
    "                    for item in property_value_dict:\n",
    "                        data_list.append(item)  \n",
    "                elif prop_key == \"ACC\" and property_key == \"ACC\": \n",
    "                    property_value_dict = ast.literal_eval(property_value)\n",
    "                    for item in property_value_dict:\n",
    "                        data_list.append(item)  \n",
    "        #for item in data_list:\n",
    "        #    timestamp = int(item['ts'])\n",
    "        #    item['ts'] = datetime.datetime.fromtimestamp(timestamp/1000).strftime('%Y-%m-%d %H:%M:%S')\n",
    "    print(\"Data parsed succefully\")\n",
    "    return data_list "
   ]
  },
  {
   "cell_type": "code",
   "execution_count": 56,
   "id": "5aedb36b",
   "metadata": {},
   "outputs": [],
   "source": [
    "def export_data_to_json(data_list, file_name = 'Player-data.json'):\n",
    "    file_path   = f\"{output_path}/{file_name}\"\n",
    "\n",
    "    if not os.path.exists(output_path):\n",
    "        os.makedirs(output_path)\n",
    "\n",
    "    with open(file_path, 'w') as json_file:\n",
    "        json.dump(data_list, json_file, indent=4)\n",
    "        \n",
    "    print(f\"Data saved to {file_path}\")\n",
    "    return None"
   ]
  },
  {
   "cell_type": "code",
   "execution_count": 57,
   "id": "46e687b2",
   "metadata": {},
   "outputs": [],
   "source": [
    "def export_data_to_csv(data_list, file_name='Player-data.csv'):\n",
    "    file_path = f\"{output_path}/{file_name}\"\n",
    "\n",
    "    if not os.path.exists(output_path):\n",
    "        os.makedirs(output_path)\n",
    "    \n",
    "    df = pd.DataFrame(data_list)\n",
    "    df.to_csv(file_path, index=False)\n",
    "    \n",
    "    print(f\"Data saved to {file_path}\")\n",
    "    return None"
   ]
  },
  {
   "cell_type": "markdown",
   "id": "b2d9b2f3-7301-4309-ac80-7ce8a5f16241",
   "metadata": {},
   "source": [
    "<h4><b>Extract, parse and export data</b></h4>"
   ]
  },
  {
   "cell_type": "markdown",
   "id": "32102848",
   "metadata": {},
   "source": [
    "Select user/ player"
   ]
  },
  {
   "cell_type": "code",
   "execution_count": 14,
   "id": "bc20157a",
   "metadata": {},
   "outputs": [
    {
     "name": "stdout",
     "output_type": "stream",
     "text": [
      "info+bm@gamebus.nl password1234\n"
     ]
    }
   ],
   "source": [
    "user_order = 0 # first user in the list\n",
    "username   = users[user_order][0]\n",
    "password   = users[user_order][1]\n",
    "print(username, password)"
   ]
  },
  {
   "cell_type": "markdown",
   "id": "2cbce685",
   "metadata": {},
   "source": [
    "Get player token and id"
   ]
  },
  {
   "cell_type": "code",
   "execution_count": 15,
   "id": "40c296d4",
   "metadata": {},
   "outputs": [
    {
     "name": "stdout",
     "output_type": "stream",
     "text": [
      "Token fetched successfully\n",
      "Player_id fetched successfully\n"
     ]
    }
   ],
   "source": [
    "player_token = get_player_token(username, password, authcode, token_url)\n",
    "player_id    = get_player_id(username, password, player_token, player_id_url)"
   ]
  },
  {
   "cell_type": "markdown",
   "id": "7a4931e5-37fb-4a11-88e6-9cbf04c5bbff",
   "metadata": {},
   "source": [
    "<h4>Extract, parse and export <span style=\"color:orange;\">GPS location </span> data </h4>\n",
    "<p>Includes:</p>\n",
    "<ul>\n",
    "  <li>latitude</li>\n",
    "  <li>longitude</li>\n",
    "  <li>altitude</li>\n",
    "  <li>speed</li>\n",
    "  <li>error</li>\n",
    "  <li>timestamp</li>\n",
    "  <li>arm</li>\n",
    "</ul>\n"
   ]
  },
  {
   "cell_type": "code",
   "execution_count": null,
   "id": "fa53f4ee-dcae-43ea-bb33-1385c1184c1b",
   "metadata": {},
   "outputs": [],
   "source": [
    "gameDescriptor_tk    = \"GEOFENCE\"\n",
    "player_gps_data      = get_player_data(player_token, player_id, activities_url, gameDescriptor_tk)"
   ]
  },
  {
   "cell_type": "code",
   "execution_count": 63,
   "id": "c4e366a4",
   "metadata": {},
   "outputs": [
    {
     "name": "stdout",
     "output_type": "stream",
     "text": [
      "Data parsed succefully\n"
     ]
    }
   ],
   "source": [
    "player_gps_data_list = parse_player_data(player_gps_data, gameDescriptor_tk)"
   ]
  },
  {
   "cell_type": "code",
   "execution_count": 58,
   "id": "a889c29e-a533-485e-82db-85be7e3d126e",
   "metadata": {},
   "outputs": [
    {
     "name": "stdout",
     "output_type": "stream",
     "text": [
      "Data saved to C:\\Users\\20236075\\OneDrive - TU Eindhoven\\Documents\\GitHub\\GameBus-HealthBehaviorMining\\secret\\output/Player-data-GPS.json\n",
      "Data saved to C:\\Users\\20236075\\OneDrive - TU Eindhoven\\Documents\\GitHub\\GameBus-HealthBehaviorMining\\secret\\output/Player-data-GPS.csv\n"
     ]
    }
   ],
   "source": [
    "export_data_to_json(player_gps_data_list, file_name = 'Player-data-GPS.json')\n",
    "export_data_to_csv(player_gps_data_list, file_name = 'Player-data-GPS.csv')"
   ]
  },
  {
   "cell_type": "markdown",
   "id": "6053c702-b4a3-4575-9ea8-978653d77143",
   "metadata": {},
   "source": [
    "<h4>Extract, parse and export <span style=\"color:orange;\">mood survey </span> data </h4>\n",
    "<p>Includes:</p>\n",
    "<ul>\n",
    "  <li>valence_state_value</li>\n",
    "  <li>arousal_state_value</li>\n",
    "  <li>stress_state_value</li>\n",
    "  <li>event_timestamp</li>\n",
    "</ul>\n"
   ]
  },
  {
   "cell_type": "code",
   "execution_count": 65,
   "id": "2c33309f-143f-407c-819a-92d600aeafe8",
   "metadata": {},
   "outputs": [
    {
     "name": "stdout",
     "output_type": "stream",
     "text": [
      "Player data fetched successfully for page 0\n",
      "Player data fetched successfully for page 1\n",
      "Total data points fetched: 11\n"
     ]
    }
   ],
   "source": [
    "gameDescriptor_tk = \"LOG_MOOD\" \n",
    "player_mood_data = get_player_data(player_token, player_id, activities_url, gameDescriptor_tk)"
   ]
  },
  {
   "cell_type": "code",
   "execution_count": 67,
   "id": "0bf40bc3",
   "metadata": {},
   "outputs": [
    {
     "name": "stdout",
     "output_type": "stream",
     "text": [
      "Data parsed succefully\n"
     ]
    }
   ],
   "source": [
    "player_mood_data_list = parse_player_data(player_mood_data, gameDescriptor_tk)"
   ]
  },
  {
   "cell_type": "code",
   "execution_count": 68,
   "id": "d67b0a63",
   "metadata": {},
   "outputs": [
    {
     "name": "stdout",
     "output_type": "stream",
     "text": [
      "Data saved to C:\\Users\\20236075\\OneDrive - TU Eindhoven\\Documents\\GitHub\\GameBus-HealthBehaviorMining\\secret\\output/Player-data-mood.json\n",
      "Data saved to C:\\Users\\20236075\\OneDrive - TU Eindhoven\\Documents\\GitHub\\GameBus-HealthBehaviorMining\\secret\\output/Player-data-mood.csv\n"
     ]
    }
   ],
   "source": [
    "export_data_to_json(player_mood_data_list, file_name = 'Player-data-mood.json')\n",
    "export_data_to_csv(player_mood_data_list, file_name = 'Player-data-mood.csv')"
   ]
  },
  {
   "cell_type": "markdown",
   "id": "117472f2-aa93-4c6a-a3bb-2c5633807b90",
   "metadata": {},
   "source": [
    "<h4>Extract, parse and export <span style=\"color:orange;\">activity</span> data. </h4>\n",
    "<p>Includes:\n",
    "<ul>\n",
    "  <li>src</li>\n",
    "  <li>ts (timestamp)</li>\n",
    "  <li>type</li>\n",
    "  <li>speed</li>\n",
    "  <li>steps (daily cummulative)</li>\n",
    "  <li>walks</li>\n",
    "  <li>runs</li>\n",
    "  <li>freq</li>\n",
    "  <li>distance</li>\n",
    "  <li>cals</li>\n",
    "</ul>\n",
    "</p>"
   ]
  },
  {
   "cell_type": "code",
   "execution_count": null,
   "id": "d59f2d87-f06a-4aaf-875d-0b5e0d09704e",
   "metadata": {},
   "outputs": [
    {
     "name": "stdout",
     "output_type": "stream",
     "text": [
      "Player data fetched successfully for page 0\n",
      "Player data fetched successfully for page 1\n",
      "Player data fetched successfully for page 2\n",
      "Total data points fetched: 914\n"
     ]
    }
   ],
   "source": [
    "gameDescriptor_tk = \"TIZEN(DETAIL)\" \n",
    "property_key = \"ACTIVITY_TYPE\"  \n",
    "player_activity_data = get_player_data(player_token, player_id, activities_url, gameDescriptor_tk)"
   ]
  },
  {
   "cell_type": "code",
   "execution_count": null,
   "id": "9cd3b2fa",
   "metadata": {},
   "outputs": [
    {
     "name": "stdout",
     "output_type": "stream",
     "text": [
      "Data parsed succefully\n"
     ]
    }
   ],
   "source": [
    "player_activity_data_list = parse_player_data(player_activity_data, gameDescriptor_tk, property_key)"
   ]
  },
  {
   "cell_type": "code",
   "execution_count": 73,
   "id": "54035700-3bca-4330-aff6-3f0cf10cf823",
   "metadata": {},
   "outputs": [
    {
     "name": "stdout",
     "output_type": "stream",
     "text": [
      "Data saved to C:\\Users\\20236075\\OneDrive - TU Eindhoven\\Documents\\GitHub\\GameBus-HealthBehaviorMining\\secret\\output/Player-data-activity.json\n",
      "Data saved to C:\\Users\\20236075\\OneDrive - TU Eindhoven\\Documents\\GitHub\\GameBus-HealthBehaviorMining\\secret\\output/Player-data-activity.csv\n"
     ]
    }
   ],
   "source": [
    "export_data_to_json(player_activity_data_list, file_name = 'Player-data-activity.json')\n",
    "export_data_to_csv(player_activity_data_list, file_name = 'Player-data-activity.csv')"
   ]
  },
  {
   "cell_type": "markdown",
   "id": "663421c9",
   "metadata": {},
   "source": [
    "<h4>Extract, parse and export <span style=\"color:orange;\">heartrate</span> data. </h4>\n",
    "<p>Includes:\n",
    "<ul>\n",
    "  <li>ts (timestamp)</li>\n",
    "  <li>hr (heartrate)</li>\n",
    "  <li>pp</li>\n",
    "</ul>\n",
    "</p>"
   ]
  },
  {
   "cell_type": "code",
   "execution_count": 79,
   "id": "4ea9b394",
   "metadata": {},
   "outputs": [
    {
     "name": "stdout",
     "output_type": "stream",
     "text": [
      "Player data fetched successfully for page 0\n",
      "Player data fetched successfully for page 1\n",
      "Player data fetched successfully for page 2\n",
      "Total data points fetched: 914\n"
     ]
    }
   ],
   "source": [
    "gameDescriptor_tk = \"TIZEN(DETAIL)\" \n",
    "property_key = \"HRM_LOG\" \n",
    "player_heartrate_data = get_player_data(player_token, player_id, activities_url, gameDescriptor_tk)"
   ]
  },
  {
   "cell_type": "code",
   "execution_count": 81,
   "id": "6d43a8a4",
   "metadata": {},
   "outputs": [
    {
     "name": "stdout",
     "output_type": "stream",
     "text": [
      "Data parsed succefully\n"
     ]
    }
   ],
   "source": [
    "player_heartrate_data_list = parse_player_data(player_heartrate_data, gameDescriptor_tk, property_key)"
   ]
  },
  {
   "cell_type": "code",
   "execution_count": 83,
   "id": "27b67897",
   "metadata": {},
   "outputs": [
    {
     "name": "stdout",
     "output_type": "stream",
     "text": [
      "Data saved to C:\\Users\\20236075\\OneDrive - TU Eindhoven\\Documents\\GitHub\\GameBus-HealthBehaviorMining\\secret\\output/Player-data-heartrate.json\n",
      "Data saved to C:\\Users\\20236075\\OneDrive - TU Eindhoven\\Documents\\GitHub\\GameBus-HealthBehaviorMining\\secret\\output/Player-data-heartrate.csv\n"
     ]
    }
   ],
   "source": [
    "export_data_to_json(player_heartrate_data_list, file_name = 'Player-data-heartrate.json')\n",
    "export_data_to_csv(player_heartrate_data_list, file_name = 'Player-data-heartrate.csv')"
   ]
  },
  {
   "cell_type": "markdown",
   "id": "a1ea92ef",
   "metadata": {},
   "source": [
    "<h4>Extract, parse and export <span style=\"color:orange;\">accelerometer</span> data. </h4>\n",
    "<p>Includes:\n",
    "<ul>\n",
    "  <li>ts (timestamp)</li>\n",
    "  <li>hr (heartrate)</li>\n",
    "  <li>pp</li>\n",
    "</ul>\n",
    "</p>"
   ]
  },
  {
   "cell_type": "code",
   "execution_count": null,
   "id": "179ae034",
   "metadata": {},
   "outputs": [],
   "source": [
    "gameDescriptor_tk = \"TIZEN(DETAIL)\" \n",
    "property_key = \"ACC\" \n",
    "player_acc_data = get_player_data(player_token, player_id, activities_url, gameDescriptor_tk)"
   ]
  },
  {
   "cell_type": "code",
   "execution_count": null,
   "id": "504f25cc",
   "metadata": {},
   "outputs": [],
   "source": [
    "player_acc_data_list = parse_player_data(player_acc_data, gameDescriptor_tk, property_key)"
   ]
  },
  {
   "cell_type": "markdown",
   "id": "6eab9713-aa18-4ae1-bdf3-7d3571615abf",
   "metadata": {},
   "source": [
    "<h4>Extract, parse and export <span style=\"color:orange;\">notification</span> data.</h4>\n",
    "<p>Includes:\n",
    "<ul>\n",
    "  <li>action (e.g., received, read)</li>\n",
    "  <li>event_timestamp (heartrate)</li>\n",
    "</ul>\n",
    "</p>"
   ]
  },
  {
   "cell_type": "code",
   "execution_count": 86,
   "id": "524f7449-46dd-4e6d-9cdc-fc82f52b0b33",
   "metadata": {},
   "outputs": [
    {
     "name": "stdout",
     "output_type": "stream",
     "text": [
      "Player data fetched successfully for page 0\n",
      "Player data fetched successfully for page 1\n",
      "Total data points fetched: 32\n"
     ]
    }
   ],
   "source": [
    "gameDescriptor_tk = \"NOTIFICATION(DETAIL)\" \n",
    "player_notification_data = get_player_data(player_token, player_id, activities_url, gameDescriptor_tk)"
   ]
  },
  {
   "cell_type": "code",
   "execution_count": 93,
   "id": "9304f641",
   "metadata": {},
   "outputs": [
    {
     "name": "stdout",
     "output_type": "stream",
     "text": [
      "Data parsed succefully\n"
     ]
    }
   ],
   "source": [
    "player_notification_data_list = parse_player_data(player_notification_data, gameDescriptor_tk)"
   ]
  },
  {
   "cell_type": "code",
   "execution_count": null,
   "id": "64a20840-1e7b-4834-acdd-96d00991b90f",
   "metadata": {},
   "outputs": [
    {
     "name": "stdout",
     "output_type": "stream",
     "text": [
      "Data saved to C:\\Users\\20236075\\OneDrive - TU Eindhoven\\Documents\\GitHub\\GameBus-HealthBehaviorMining\\secret\\output/Player-data-notification.json\n",
      "Data saved to C:\\Users\\20236075\\OneDrive - TU Eindhoven\\Documents\\GitHub\\GameBus-HealthBehaviorMining\\secret\\output/Player-data-notification.csv\n"
     ]
    }
   ],
   "source": [
    "export_data_to_json(player_notification_data_list, file_name = 'Player-data-notification.json')\n",
    "export_data_to_csv(player_notification_data_list, file_name = 'Player-data-notification.csv')"
   ]
  }
 ],
 "metadata": {
  "kernelspec": {
   "display_name": "Python 3",
   "language": "python",
   "name": "python3"
  },
  "language_info": {
   "codemirror_mode": {
    "name": "ipython",
    "version": 3
   },
   "file_extension": ".py",
   "mimetype": "text/x-python",
   "name": "python",
   "nbconvert_exporter": "python",
   "pygments_lexer": "ipython3",
   "version": "3.12.5"
  }
 },
 "nbformat": 4,
 "nbformat_minor": 5
}
